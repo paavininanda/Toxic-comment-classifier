{
 "cells": [
  {
   "cell_type": "markdown",
   "metadata": {},
   "source": [
    "## GOOGLE EDUCATION APP CLASSIFICATION \n",
    "\n",
    "1. Import necessary files <br/>\n",
    "2. Read the csv file <br/>\n",
    "3. List the various fields in our dataset"
   ]
  },
  {
   "cell_type": "code",
   "execution_count": 9,
   "metadata": {},
   "outputs": [],
   "source": [
    "import pandas as pd\n",
    "import numpy as np\n",
    "import matplotlib.pyplot as plt\n",
    "%matplotlib inline"
   ]
  },
  {
   "cell_type": "code",
   "execution_count": 10,
   "metadata": {},
   "outputs": [
    {
     "name": "stdout",
     "output_type": "stream",
     "text": [
      "(124, 21)\n"
     ]
    }
   ],
   "source": [
    "#Read the csv file into dataframe df\n",
    "df = pd.read_csv(\"train1.csv\")\n",
    "print(df.shape)"
   ]
  },
  {
   "cell_type": "code",
   "execution_count": 11,
   "metadata": {},
   "outputs": [
    {
     "name": "stdout",
     "output_type": "stream",
     "text": [
      "appname                  object\n",
      "updated                  object\n",
      "file_size                object\n",
      "download                 object\n",
      "version                  object\n",
      "compatibility            object\n",
      "price                    object\n",
      "rating_value            float64\n",
      "star_total               object\n",
      "editors_choice           object\n",
      "offered_by               object\n",
      "description              object\n",
      "Language Learning         int64\n",
      "Computer Engineering      int64\n",
      "General Learning          int64\n",
      "Exam Preparation          int64\n",
      "Maths                     int64\n",
      "Art                       int64\n",
      "other engineering         int64\n",
      "Educational Gaming        int64\n",
      "misc                      int64\n",
      "dtype: object\n"
     ]
    }
   ],
   "source": [
    "#List the fields in our dataframe\n",
    "print(df.dtypes)"
   ]
  },
  {
   "cell_type": "markdown",
   "metadata": {},
   "source": [
    "Hence we have a dataset consistly of 124 samples. Each sample contains 21 fields. <br/>"
   ]
  },
  {
   "cell_type": "markdown",
   "metadata": {},
   "source": [
    "# Separate the comment field data and outcome labels"
   ]
  },
  {
   "cell_type": "code",
   "execution_count": 12,
   "metadata": {},
   "outputs": [
    {
     "name": "stdout",
     "output_type": "stream",
     "text": [
      "0    Learn Spanish, French, German, Italian, Russia...\n",
      "1    Speak a new language with confidence. Learn Sp...\n",
      "2    Start speaking a new language on day one! Try ...\n",
      "3    This app contains Implementation (full working...\n",
      "4    Learn on the go with the Coursera App for Andr...\n",
      "Name: description, dtype: object\n"
     ]
    }
   ],
   "source": [
    "comment = df['description']\n",
    "print(comment.head())\n",
    "comment = comment.as_matrix()"
   ]
  },
  {
   "cell_type": "code",
   "execution_count": 13,
   "metadata": {},
   "outputs": [
    {
     "name": "stdout",
     "output_type": "stream",
     "text": [
      "   Language Learning  Computer Engineering  General Learning  \\\n",
      "0                  1                     0                 0   \n",
      "1                  1                     0                 0   \n",
      "2                  1                     0                 0   \n",
      "3                  0                     1                 0   \n",
      "4                  1                     1                 1   \n",
      "\n",
      "   Exam Preparation  Maths  Art  other engineering  Educational Gaming  misc  \n",
      "0                 0      0    0                  0                   0     0  \n",
      "1                 0      0    0                  0                   0     0  \n",
      "2                 0      0    0                  0                   0     0  \n",
      "3                 0      0    0                  0                   0     0  \n",
      "4                 0      0    1                  1                   0     0  \n"
     ]
    }
   ],
   "source": [
    "label = df[['Language Learning', 'Computer Engineering' , 'General Learning' , 'Exam Preparation' , 'Maths' , 'Art', 'other engineering', 'Educational Gaming', 'misc']]\n",
    "print(label.head())\n",
    "label = label.as_matrix()"
   ]
  },
  {
   "cell_type": "code",
   "execution_count": 14,
   "metadata": {
    "scrolled": false
   },
   "outputs": [],
   "source": [
    "# Only for testing dataset for Nan values\n",
    "# count= 0\n",
    "# for ix in range(label.shape[0]):\n",
    "#     if(label[ix][8]!=0. and label[ix][8]!=1.):\n",
    "#         print(ix)\n",
    "#         print (comment[ix])\n",
    "#         count+=1\n",
    "#         print(label[ix])\n",
    "# print(count)"
   ]
  },
  {
   "cell_type": "markdown",
   "metadata": {},
   "source": [
    "### Let us find out the frequency of occurence of multilabelled data \n",
    "- ct1 counts samples having atleast one label\n",
    "- ct2 counts samples having 2 or more than 2 labels"
   ]
  },
  {
   "cell_type": "code",
   "execution_count": 15,
   "metadata": {},
   "outputs": [
    {
     "name": "stdout",
     "output_type": "stream",
     "text": [
      "124\n",
      "27\n"
     ]
    }
   ],
   "source": [
    "ct1,ct2 = 0,0\n",
    "for i in range(label.shape[0]):\n",
    "    ct = np.count_nonzero(label[i])\n",
    "    if ct :\n",
    "        ct1 = ct1+1\n",
    "    if ct>1 :\n",
    "        ct2 = ct2+1\n",
    "print(ct1)\n",
    "print(ct2)"
   ]
  },
  {
   "cell_type": "markdown",
   "metadata": {},
   "source": [
    "## Data Visualisations\n",
    "### Let us analyse the no. of comments having lengths varying from 0 to 1200"
   ]
  },
  {
   "cell_type": "code",
   "execution_count": 16,
   "metadata": {},
   "outputs": [
    {
     "name": "stdout",
     "output_type": "stream",
     "text": [
      "average length of comment: 1426.919\n"
     ]
    },
    {
     "data": {
      "image/png": "[encoded data removed]",
      "text/plain": [
       "<Figure size 432x288 with 1 Axes>"
      ]
     },
     "metadata": {},
     "output_type": "display_data"
    }
   ],
   "source": [
    "x = [len(comment[i]) for i in range(comment.shape[0])]\n",
    "\n",
    "print('average length of comment: {:.3f}'.format(sum(x)/len(x)) )\n",
    "bins = [1,200,400,600,800,1000,1200]\n",
    "plt.hist(x, bins=bins)\n",
    "plt.xlabel('Length of comments')\n",
    "plt.ylabel('Number of comments')       \n",
    "plt.axis([0, 1200, 0, 20])\n",
    "plt.grid(True)\n",
    "plt.show()"
   ]
  },
  {
   "cell_type": "markdown",
   "metadata": {},
   "source": [
    "### Number of comments classified as toxic,severe_toxic,....etc depending on their lengths"
   ]
  },
  {
   "cell_type": "code",
   "execution_count": 17,
   "metadata": {},
   "outputs": [
    {
     "data": {
      "image/png": "[encoded data removed]",
      "text/plain": [
       "<Figure size 432x288 with 1 Axes>"
      ]
     },
     "metadata": {},
     "output_type": "display_data"
    }
   ],
   "source": [
    "y = np.zeros(label.shape)\n",
    "for ix in range(comment.shape[0]):\n",
    "    l = len(comment[ix])\n",
    "    if label[ix][0] :\n",
    "        y[ix][0] = l\n",
    "    if label[ix][1] :\n",
    "        y[ix][1] = l\n",
    "    if label[ix][2] :\n",
    "        y[ix][2] = l\n",
    "    if label[ix][3] :\n",
    "        y[ix][3] = l\n",
    "    if label[ix][4] :\n",
    "        y[ix][4] = l\n",
    "    if label[ix][5] :\n",
    "        y[ix][5] = l\n",
    "\n",
    "labelsplt = ['Language Learning', 'Computer Engineering' , 'General Learnng' , 'Exam Preparation' , 'Maths' , 'Art', 'other engineering', 'Educational Gaming', 'misc']\n",
    "color = ['red','green','blue','yellow','orange','chartreuse','black','magenta','purple']        \n",
    "plt.hist(y,bins = bins,label = labelsplt,color = color)\n",
    "plt.axis([0, 1500, 0, 8])\n",
    "plt.xlabel('Length of comments')\n",
    "plt.ylabel('Number of comments') \n",
    "plt.legend()\n",
    "plt.grid(True)\n",
    "plt.show()"
   ]
  },
  {
   "cell_type": "code",
   "execution_count": 18,
   "metadata": {},
   "outputs": [],
   "source": [
    "# creating a separate variable for app description (comments) and labels (classifiers)\n",
    "comments = []\n",
    "labels = []\n",
    "\n",
    "for ix in range(comment.shape[0]):\n",
    "    comments.append(comment[ix])\n",
    "    labels.append(label[ix])"
   ]
  },
  {
   "cell_type": "code",
   "execution_count": 19,
   "metadata": {},
   "outputs": [],
   "source": [
    "labels = np.asarray(labels)"
   ]
  },
  {
   "cell_type": "code",
   "execution_count": 20,
   "metadata": {},
   "outputs": [
    {
     "name": "stdout",
     "output_type": "stream",
     "text": [
      "[1 0 0 0 0 0 0 0 0]\n"
     ]
    }
   ],
   "source": [
    "print (labels[0])"
   ]
  },
  {
   "cell_type": "code",
   "execution_count": 21,
   "metadata": {},
   "outputs": [
    {
     "name": "stdout",
     "output_type": "stream",
     "text": [
      "124\n"
     ]
    }
   ],
   "source": [
    "print(len(comments))"
   ]
  },
  {
   "cell_type": "markdown",
   "metadata": {},
   "source": [
    "# Preprocessing \n",
    "Preprocessing involved the following steps, but these will be performed in a slightly different manner:\n",
    "- Removing Punctuations and other special characters\n",
    "- Splitting the comments into individual words\n",
    "- Removing Stop Words\n",
    "- Stemming and Lemmatising\n",
    "- Applying Count Vectoriser\n",
    "- Splitting dataset into Training and Testing"
   ]
  },
  {
   "cell_type": "markdown",
   "metadata": {},
   "source": [
    "## Preparing a string containing all punctuations to be removed\n",
    "The string library contains punctuation characters. This is imported and all numbers are appended to this string. Also, we can notice that our comment_text field contains strings such as won't, didn't, etc which contain apostrophe character('). To prevent these words from being converted to wont/didnt, the character ' represented as \\' in escape sequence notation is replaced by empty character in the punctuation string. <br/>\n",
    "\n",
    "**maketrans()** returns a translation table that maps each character in the punctuation_edit into the character at the same position in the outtab string i.e. it replaces every character in the removal list with a space, since outtab contains a string with spaces."
   ]
  },
  {
   "cell_type": "code",
   "execution_count": 22,
   "metadata": {},
   "outputs": [
    {
     "name": "stdout",
     "output_type": "stream",
     "text": [
      "!\"#$%&'()*+,-./:;<=>?@[\\]^_`{|}~\n",
      "!\"#$%&()*+,-./:;<=>?@[\\]^_`{|}~0123456789\n"
     ]
    }
   ],
   "source": [
    "import string\n",
    "print(string.punctuation)\n",
    "punctuation_edit = string.punctuation.replace('\\'','') +\"0123456789\"\n",
    "print (punctuation_edit)\n",
    "outtab = \"                                         \"\n",
    "trantab = str.maketrans(punctuation_edit, outtab)"
   ]
  },
  {
   "cell_type": "markdown",
   "metadata": {},
   "source": [
    "## Updating the list of stop words\n",
    "**Stop words** are those words that are frequently used in both written and verbal communication and thereby do not have either a positive/negative impact on our statement.E.g. is, this, us,etc. <br/>\n",
    "Single letter words if existing or created due to any preprocessing step do not convey any useful meaning and hence can be directly removed. Hence letters from b to z, will be added to the list of stop words imported directly."
   ]
  },
  {
   "cell_type": "code",
   "execution_count": 23,
   "metadata": {},
   "outputs": [],
   "source": [
    "from stop_words import get_stop_words\n",
    "stop_words = get_stop_words('english')\n",
    "stop_words.append('')\n",
    "\n",
    "for x in range(ord('b'), ord('z')+1):\n",
    "    stop_words.append(chr(x))"
   ]
  },
  {
   "cell_type": "code",
   "execution_count": 24,
   "metadata": {},
   "outputs": [
    {
     "name": "stdout",
     "output_type": "stream",
     "text": [
      "['a', 'about', 'above', 'after', 'again', 'against', 'all', 'am', 'an', 'and', 'any', 'are', \"aren't\", 'as', 'at', 'be', 'because', 'been', 'before', 'being', 'below', 'between', 'both', 'but', 'by', \"can't\", 'cannot', 'could', \"couldn't\", 'did', \"didn't\", 'do', 'does', \"doesn't\", 'doing', \"don't\", 'down', 'during', 'each', 'few', 'for', 'from', 'further', 'had', \"hadn't\", 'has', \"hasn't\", 'have', \"haven't\", 'having', 'he', \"he'd\", \"he'll\", \"he's\", 'her', 'here', \"here's\", 'hers', 'herself', 'him', 'himself', 'his', 'how', \"how's\", 'i', \"i'd\", \"i'll\", \"i'm\", \"i've\", 'if', 'in', 'into', 'is', \"isn't\", 'it', \"it's\", 'its', 'itself', \"let's\", 'me', 'more', 'most', \"mustn't\", 'my', 'myself', 'no', 'nor', 'not', 'of', 'off', 'on', 'once', 'only', 'or', 'other', 'ought', 'our', 'ours', 'ourselves', 'out', 'over', 'own', 'same', \"shan't\", 'she', \"she'd\", \"she'll\", \"she's\", 'should', \"shouldn't\", 'so', 'some', 'such', 'than', 'that', \"that's\", 'the', 'their', 'theirs', 'them', 'themselves', 'then', 'there', \"there's\", 'these', 'they', \"they'd\", \"they'll\", \"they're\", \"they've\", 'this', 'those', 'through', 'to', 'too', 'under', 'until', 'up', 'very', 'was', \"wasn't\", 'we', \"we'd\", \"we'll\", \"we're\", \"we've\", 'were', \"weren't\", 'what', \"what's\", 'when', \"when's\", 'where', \"where's\", 'which', 'while', 'who', \"who's\", 'whom', 'why', \"why's\", 'with', \"won't\", 'would', \"wouldn't\", 'you', \"you'd\", \"you'll\", \"you're\", \"you've\", 'your', 'yours', 'yourself', 'yourselves', '', 'b', 'c', 'd', 'e', 'f', 'g', 'h', 'i', 'j', 'k', 'l', 'm', 'n', 'o', 'p', 'q', 'r', 's', 't', 'u', 'v', 'w', 'x', 'y', 'z']\n"
     ]
    }
   ],
   "source": [
    "print (stop_words)"
   ]
  },
  {
   "cell_type": "markdown",
   "metadata": {},
   "source": [
    "## Stemming and Lemmatizing\n",
    "**Stemming** is the process of converting inflected/derived words to their word stem or the root form. Basically, a large number of similar origin words are converted to the same word.E.g. words like \"stems\", \"stemmer\", \"stemming\", \"stemmed\" as based on \"stem\". This helps in achieving the training process with a better accuracy.<br/>\n",
    "**Lemmatizing** is the process of grouping together the inflected forms of a word so they can be analysed as a single item. This is quite similar to stemming in its working but differs since it depends on correctly identifying the intended part of speech and meaning of a word in a sentence, as well as within the larger context surrounding that sentence, such as neighboring sentences or even an entire document.<br/>\n",
    "The **wordnet library in nltk** will be used for this purpose. Stemmer and Lemmatizer are also imported from nltk.\n"
   ]
  },
  {
   "cell_type": "code",
   "execution_count": 25,
   "metadata": {},
   "outputs": [],
   "source": [
    "import nltk\n",
    "from nltk.stem import PorterStemmer, WordNetLemmatizer"
   ]
  },
  {
   "cell_type": "code",
   "execution_count": 26,
   "metadata": {},
   "outputs": [
    {
     "name": "stdout",
     "output_type": "stream",
     "text": [
      "[nltk_data] Downloading package wordnet to /Users/nupur/nltk_data...\n",
      "[nltk_data]   Package wordnet is already up-to-date!\n"
     ]
    },
    {
     "data": {
      "text/plain": [
       "True"
      ]
     },
     "execution_count": 26,
     "metadata": {},
     "output_type": "execute_result"
    }
   ],
   "source": [
    "#create objects for stemmer and lemmatizer\n",
    "lemmatiser = WordNetLemmatizer()\n",
    "stemmer = PorterStemmer()\n",
    "#download words from wordnet library\n",
    "nltk.download('wordnet')"
   ]
  },
  {
   "cell_type": "markdown",
   "metadata": {},
   "source": [
    "### We can now, loop once through all the comments applying :\n",
    "- punctuation removal\n",
    "- splitting the words by space\n",
    "- applying stemmer and lemmatizer\n",
    "- recombining the words again for further processing"
   ]
  },
  {
   "cell_type": "code",
   "execution_count": 27,
   "metadata": {},
   "outputs": [],
   "source": [
    "def stem_lemmatize(comments):\n",
    "    for i in range(len(comments)):\n",
    "        comments[i] = comments[i].lower().translate(trantab)\n",
    "        l = []\n",
    "        for word in comments[i].split():\n",
    "            l.append(stemmer.stem(lemmatiser.lemmatize(word,pos=\"v\")))\n",
    "        comments[i] = \" \".join(l)\n",
    "\n",
    "stem_lemmatize(comments);"
   ]
  },
  {
   "cell_type": "markdown",
   "metadata": {},
   "source": [
    "## Applying Count Vectorizer\n",
    "Here we can finally convert our comments into a matrix of token counts, which signifies the number of times it occurs."
   ]
  },
  {
   "cell_type": "code",
   "execution_count": 28,
   "metadata": {},
   "outputs": [],
   "source": [
    "#import required library\n",
    "from sklearn.feature_extraction.text import CountVectorizer\n",
    "\n",
    "#create object supplying our custom stop words\n",
    "count_vector = CountVectorizer(stop_words=stop_words)\n",
    "#fitting it to converts comments into bag of words format\n",
    "tf = count_vector.fit_transform(comments).toarray()"
   ]
  },
  {
   "cell_type": "code",
   "execution_count": 29,
   "metadata": {},
   "outputs": [
    {
     "name": "stdout",
     "output_type": "stream",
     "text": [
      "(124, 3095)\n"
     ]
    }
   ],
   "source": [
    "# print(count_vector.get_feature_names())\n",
    "print(tf.shape)"
   ]
  },
  {
   "cell_type": "markdown",
   "metadata": {},
   "source": [
    "Hence from its shape we can imply that after all preprocessing we have a list of 52905 words in total.\n",
    "## Splitting dataset into training and testing\n",
    "- Since the system was going out of memory using train_test_split, I had jumbled all the indexes in the beginning itself. \n",
    "- The shuffle function defined here performs the task of assigning first 2/3rd values to train and remaining 1/3rd values to the test set."
   ]
  },
  {
   "cell_type": "code",
   "execution_count": 30,
   "metadata": {},
   "outputs": [
    {
     "name": "stdout",
     "output_type": "stream",
     "text": [
      "(31, 3095)\n",
      "(93, 3095)\n"
     ]
    }
   ],
   "source": [
    "from sklearn.model_selection import train_test_split\n",
    "def shuffle(matrix, target, test_proportion):\n",
    "    ratio = int(matrix.shape[0]/test_proportion)\n",
    "    X_train = matrix[ratio:,:]\n",
    "    X_test =  matrix[:ratio,:]\n",
    "    Y_train = target[ratio:,:]\n",
    "    Y_test =  target[:ratio,:]\n",
    "    return X_train, X_test, Y_train, Y_test\n",
    "\n",
    "# X_train, X_test, Y_train, Y_test = shuffle(tf, labels,5)\n",
    "X_train, X_test, Y_train, Y_test = train_test_split(tf, labels, test_size=0.25, random_state=42)\n",
    "\n",
    "print(X_test.shape)\n",
    "print(X_train.shape)"
   ]
  },
  {
   "cell_type": "markdown",
   "metadata": {},
   "source": [
    "# Implementation :\n",
    "### Let us define all the evaluation metrics"
   ]
  },
  {
   "cell_type": "code",
   "execution_count": 31,
   "metadata": {},
   "outputs": [],
   "source": [
    "from sklearn.metrics import hamming_loss\n",
    "from sklearn.metrics import accuracy_score\n",
    "from sklearn.metrics import log_loss\n",
    "\n",
    "def evaluate_score(Y_test,predict): \n",
    "    loss = hamming_loss(Y_test,predict)\n",
    "    print(\"Hamming_loss : {}\".format(loss*100))\n",
    "    accuracy = accuracy_score(Y_test,predict)\n",
    "    print(\"Accuracy : {}\".format(accuracy*100))\n",
    "    try : \n",
    "        loss = log_loss(Y_test,predict)\n",
    "    except :\n",
    "        loss = log_loss(Y_test,predict.toarray())\n",
    "    print(\"Log_loss : {}\".format(loss))"
   ]
  },
  {
   "cell_type": "markdown",
   "metadata": {},
   "source": [
    "## Starting with the First Model -\n",
    "### Problem Transformation Methods :\n",
    "**These include the Binary Relevance, Label Powerset and Classifier Chain methods. Implementations of these methods is available in the scikit-multilearn library. **\n",
    "- I will be implementing the most basic method,which is the **Binary Relevance** method from scratch. It does not take into account the interdependence of labels and basically creates a separate classifier for each of the labels.\n",
    "- Scikit-multilearn library's classifier will also be imported and tested with different classifiers to observe if it gives similar results.\n",
    "\n",
    "### 1. Binary Relevance (BR) Method with MultinomialNB classifiers (from scratch)"
   ]
  },
  {
   "cell_type": "code",
   "execution_count": 32,
   "metadata": {},
   "outputs": [],
   "source": [
    "from sklearn.naive_bayes import MultinomialNB"
   ]
  },
  {
   "cell_type": "code",
   "execution_count": 33,
   "metadata": {},
   "outputs": [
    {
     "name": "stdout",
     "output_type": "stream",
     "text": [
      "[0 0 0 0 0 1 0 0 0]\n"
     ]
    }
   ],
   "source": [
    "print (Y_train[0])"
   ]
  },
  {
   "cell_type": "code",
   "execution_count": 34,
   "metadata": {},
   "outputs": [],
   "source": [
    "# clf will be the list of the classifiers for all the 6 labels\n",
    "# each classifier is fit with the training data and corresponding classifier\n",
    "clf = []\n",
    "for ix in range(9):\n",
    "    clf.append(MultinomialNB())\n",
    "    clf[ix].fit(X_train,Y_train[:,ix])"
   ]
  },
  {
   "cell_type": "code",
   "execution_count": 35,
   "metadata": {},
   "outputs": [
    {
     "name": "stdout",
     "output_type": "stream",
     "text": [
      "(31, 9)\n"
     ]
    }
   ],
   "source": [
    "# predict list contains the predictions, it is transposed later to get the proper shape\n",
    "predict = []\n",
    "for ix in range(9):\n",
    "    predict.append(clf[ix].predict(X_test))\n",
    "\n",
    "predict = np.asarray(np.transpose(predict))\n",
    "print(predict.shape)"
   ]
  },
  {
   "cell_type": "code",
   "execution_count": 36,
   "metadata": {},
   "outputs": [
    {
     "name": "stdout",
     "output_type": "stream",
     "text": [
      "Hamming_loss : 12.186379928315413\n",
      "Accuracy : 51.61290322580645\n",
      "Log_loss : 8.632300984363441\n"
     ]
    }
   ],
   "source": [
    "# calculate results\n",
    "evaluate_score(Y_test,predict)"
   ]
  },
  {
   "cell_type": "markdown",
   "metadata": {},
   "source": [
    "### 2. BR Method with Multinomial classifier (from scikit-multilearn)"
   ]
  },
  {
   "cell_type": "code",
   "execution_count": 37,
   "metadata": {},
   "outputs": [
    {
     "data": {
      "text/plain": [
       "BinaryRelevance(classifier=MultinomialNB(alpha=1.0, class_prior=None, fit_prior=True),\n",
       "        require_dense=[False, True])"
      ]
     },
     "execution_count": 37,
     "metadata": {},
     "output_type": "execute_result"
    }
   ],
   "source": [
    "#create and fit classifier\n",
    "from skmultilearn.problem_transform import BinaryRelevance\n",
    "classifier = BinaryRelevance(classifier = MultinomialNB(), require_dense = [False, True])\n",
    "classifier.fit(X_train, Y_train)"
   ]
  },
  {
   "cell_type": "code",
   "execution_count": 38,
   "metadata": {},
   "outputs": [],
   "source": [
    "#predictions\n",
    "predictions = classifier.predict(X_test)"
   ]
  },
  {
   "cell_type": "code",
   "execution_count": 39,
   "metadata": {},
   "outputs": [
    {
     "name": "stdout",
     "output_type": "stream",
     "text": [
      "Hamming_loss : 12.186379928315413\n",
      "Accuracy : 51.61290322580645\n",
      "Log_loss : 8.632300984363441\n"
     ]
    }
   ],
   "source": [
    "#calculate scores\n",
    "evaluate_score(Y_test,predictions)"
   ]
  },
  {
   "cell_type": "markdown",
   "metadata": {},
   "source": [
    "### 3. BR Method with GausseanNB classifier (from scratch)"
   ]
  },
  {
   "cell_type": "code",
   "execution_count": 40,
   "metadata": {},
   "outputs": [],
   "source": [
    "from sklearn.naive_bayes import GaussianNB\n",
    "#create and fit classifiers\n",
    "clf = []\n",
    "for ix in range(9):\n",
    "    clf.append(GaussianNB())\n",
    "    clf[ix].fit(X_train,Y_train[:,ix])"
   ]
  },
  {
   "cell_type": "code",
   "execution_count": 41,
   "metadata": {},
   "outputs": [],
   "source": [
    "#predictions\n",
    "predict = []\n",
    "for ix in range(9):\n",
    "    predict.append(clf[ix].predict(X_test))"
   ]
  },
  {
   "cell_type": "code",
   "execution_count": 42,
   "metadata": {},
   "outputs": [
    {
     "name": "stdout",
     "output_type": "stream",
     "text": [
      "Hamming_loss : 11.11111111111111\n",
      "Accuracy : 29.03225806451613\n",
      "Log_loss : 6.299449825496276\n"
     ]
    }
   ],
   "source": [
    "#calculate scores\n",
    "predict = np.asarray(np.transpose(predict))\n",
    "evaluate_score(Y_test,predict)"
   ]
  },
  {
   "cell_type": "markdown",
   "metadata": {},
   "source": [
    "### 4. Classifier chain with MultinomialNB classifier (from scikit-multilearn)"
   ]
  },
  {
   "cell_type": "code",
   "execution_count": 43,
   "metadata": {},
   "outputs": [
    {
     "data": {
      "text/plain": [
       "ClassifierChain(classifier=MultinomialNB(alpha=1.0, class_prior=None, fit_prior=True),\n",
       "        require_dense=[True, True])"
      ]
     },
     "execution_count": 43,
     "metadata": {},
     "output_type": "execute_result"
    }
   ],
   "source": [
    "#create and fit classifier\n",
    "from skmultilearn.problem_transform import ClassifierChain\n",
    "classifier = ClassifierChain(MultinomialNB())\n",
    "classifier.fit(X_train, Y_train)"
   ]
  },
  {
   "cell_type": "code",
   "execution_count": 44,
   "metadata": {},
   "outputs": [],
   "source": [
    "#predictions\n",
    "predictions = classifier.predict(X_test)"
   ]
  },
  {
   "cell_type": "code",
   "execution_count": 45,
   "metadata": {},
   "outputs": [
    {
     "name": "stdout",
     "output_type": "stream",
     "text": [
      "Hamming_loss : 11.469534050179211\n",
      "Accuracy : 51.61290322580645\n",
      "Log_loss : 8.61542201198394\n"
     ]
    }
   ],
   "source": [
    "#calculate scores\n",
    "evaluate_score(Y_test,predictions)"
   ]
  },
  {
   "cell_type": "markdown",
   "metadata": {},
   "source": [
    "### 5. Label Powerset with MultinomialNB classifier (from scikit-multilearn)"
   ]
  },
  {
   "cell_type": "code",
   "execution_count": 74,
   "metadata": {},
   "outputs": [],
   "source": [
    "#create and fit classifier\n",
    "from skmultilearn.problem_transform import LabelPowerset\n",
    "classifier = LabelPowerset(MultinomialNB())\n",
    "classifier.fit(X_train, Y_train)\n",
    "\n",
    "best_classifier = classifier"
   ]
  },
  {
   "cell_type": "code",
   "execution_count": 78,
   "metadata": {},
   "outputs": [
    {
     "name": "stdout",
     "output_type": "stream",
     "text": [
      "  (0, 7)\t1\n"
     ]
    }
   ],
   "source": [
    "#predictions\n",
    "predictions = classifier.predict(X_test);\n",
    "print((predictions[0]));"
   ]
  },
  {
   "cell_type": "code",
   "execution_count": 48,
   "metadata": {},
   "outputs": [
    {
     "name": "stdout",
     "output_type": "stream",
     "text": [
      "Hamming_loss : 9.31899641577061\n",
      "Accuracy : 61.29032258064516\n",
      "Log_loss : 18.998418005893868\n"
     ]
    }
   ],
   "source": [
    "#calculate scores\n",
    "evaluate_score(Y_test,predictions)"
   ]
  },
  {
   "cell_type": "markdown",
   "metadata": {},
   "source": [
    "## Adaptation Algorithms\n",
    "### 6. MLkNN  with k=2 (from scikit-multilearn)\n",
    "This is the adapted multi-label version of K Nearest Neighbours. Its implementation is available in the multilearn library."
   ]
  },
  {
   "cell_type": "code",
   "execution_count": 49,
   "metadata": {},
   "outputs": [
    {
     "data": {
      "text/plain": [
       "MLkNN(ignore_first_neighbours=0, k=5, s=1.0)"
      ]
     },
     "execution_count": 49,
     "metadata": {},
     "output_type": "execute_result"
    }
   ],
   "source": [
    "#create and fit classifier\n",
    "from skmultilearn.adapt import MLkNN\n",
    "classifier = MLkNN(k=5)\n",
    "classifier.fit(X_train, Y_train)"
   ]
  },
  {
   "cell_type": "code",
   "execution_count": 50,
   "metadata": {},
   "outputs": [],
   "source": [
    "#predictions\n",
    "predictions = classifier.predict(X_test)"
   ]
  },
  {
   "cell_type": "code",
   "execution_count": 51,
   "metadata": {},
   "outputs": [
    {
     "name": "stdout",
     "output_type": "stream",
     "text": [
      "Hamming_loss : 11.469534050179211\n",
      "Accuracy : 35.483870967741936\n",
      "Log_loss : 11.344114234571348\n"
     ]
    }
   ],
   "source": [
    "#calculate scores\n",
    "evaluate_score(Y_test,predictions)"
   ]
  },
  {
   "cell_type": "markdown",
   "metadata": {},
   "source": [
    "### 7. BP-MLL Neural Networks (from scratch)"
   ]
  },
  {
   "cell_type": "code",
   "execution_count": 55,
   "metadata": {},
   "outputs": [
    {
     "name": "stderr",
     "output_type": "stream",
     "text": [
      "Using TensorFlow backend.\n"
     ]
    }
   ],
   "source": [
    "from keras.models import Sequential\n",
    "from keras.layers import Dense, Activation, Dropout"
   ]
  },
  {
   "cell_type": "code",
   "execution_count": 56,
   "metadata": {},
   "outputs": [
    {
     "name": "stdout",
     "output_type": "stream",
     "text": [
      "_________________________________________________________________\n",
      "Layer (type)                 Output Shape              Param #   \n",
      "=================================================================\n",
      "dense_1 (Dense)              (None, 20)                61920     \n",
      "_________________________________________________________________\n",
      "dropout_1 (Dropout)          (None, 20)                0         \n",
      "_________________________________________________________________\n",
      "dense_2 (Dense)              (None, 9)                 189       \n",
      "=================================================================\n",
      "Total params: 62,109\n",
      "Trainable params: 62,109\n",
      "Non-trainable params: 0\n",
      "_________________________________________________________________\n"
     ]
    }
   ],
   "source": [
    "#define model architecture\n",
    "model = Sequential()\n",
    "model.add(Dense(20, activation='relu', input_dim = X_train.shape[1]))\n",
    "model.add(Dropout(0.3))\n",
    "model.add(Dense(9, activation='softmax'))\n",
    "model.summary()"
   ]
  },
  {
   "cell_type": "code",
   "execution_count": 57,
   "metadata": {},
   "outputs": [],
   "source": [
    "#compile model with all parameters set\n",
    "model.compile(optimizer='rmsprop',\n",
    "              loss='categorical_crossentropy',\n",
    "              metrics=['accuracy'])"
   ]
  },
  {
   "cell_type": "code",
   "execution_count": 58,
   "metadata": {},
   "outputs": [
    {
     "name": "stdout",
     "output_type": "stream",
     "text": [
      "Epoch 1/10\n",
      "93/93 [==============================] - 0s 3ms/step - loss: 3.0336 - acc: 0.0968\n",
      "Epoch 2/10\n",
      "93/93 [==============================] - 0s 155us/step - loss: 2.5842 - acc: 0.2151\n",
      "Epoch 3/10\n",
      "93/93 [==============================] - 0s 173us/step - loss: 2.3269 - acc: 0.3333\n",
      "Epoch 4/10\n",
      "93/93 [==============================] - 0s 159us/step - loss: 2.1902 - acc: 0.4086\n",
      "Epoch 5/10\n",
      "93/93 [==============================] - 0s 149us/step - loss: 2.0639 - acc: 0.5161\n",
      "Epoch 6/10\n",
      "93/93 [==============================] - 0s 163us/step - loss: 1.9539 - acc: 0.5699\n",
      "Epoch 7/10\n",
      "93/93 [==============================] - 0s 153us/step - loss: 1.8550 - acc: 0.6022\n",
      "Epoch 8/10\n",
      "93/93 [==============================] - 0s 152us/step - loss: 1.7409 - acc: 0.6344\n",
      "Epoch 9/10\n",
      "93/93 [==============================] - 0s 164us/step - loss: 1.6689 - acc: 0.6667\n",
      "Epoch 10/10\n",
      "93/93 [==============================] - 0s 153us/step - loss: 1.5910 - acc: 0.5914\n"
     ]
    },
    {
     "data": {
      "text/plain": [
       "<keras.callbacks.History at 0x12949cfd0>"
      ]
     },
     "execution_count": 58,
     "metadata": {},
     "output_type": "execute_result"
    }
   ],
   "source": [
    "#Fit using check pointer\n",
    "from keras.callbacks import ModelCheckpoint  \n",
    "\n",
    "checkpointer = ModelCheckpoint(filepath='saved_models/weights.best.myneural.h5py', \n",
    "                               verbose=1, save_best_only=True)\n",
    "model.fit(X_train, Y_train, epochs=10, batch_size=32)"
   ]
  },
  {
   "cell_type": "code",
   "execution_count": 59,
   "metadata": {},
   "outputs": [],
   "source": [
    "#predictions\n",
    "predict = model.predict(X_test)"
   ]
  },
  {
   "cell_type": "code",
   "execution_count": 60,
   "metadata": {},
   "outputs": [
    {
     "name": "stdout",
     "output_type": "stream",
     "text": [
      "[0.06707445 0.02892904 0.02753172 0.2577899  0.10376704 0.05747934\n",
      " 0.1100159  0.22885123 0.1185613 ]\n"
     ]
    }
   ],
   "source": [
    "print(predict[0])"
   ]
  },
  {
   "cell_type": "markdown",
   "metadata": {},
   "source": [
    "**Since the results returned by the model are in the form of probabilities, they have to be explicitly converted to either 0/1 using the round function. This is because the hamming_loss and accuracy_score cannot work on these values directly. However, log loss can compute loss directly without modifying the values.**"
   ]
  },
  {
   "cell_type": "code",
   "execution_count": 61,
   "metadata": {},
   "outputs": [
    {
     "name": "stdout",
     "output_type": "stream",
     "text": [
      "Log_loss : 2.5379521608833344\n",
      "Hamming_loss : 15.053763440860216\n",
      "Accuracy : 6.451612903225806\n"
     ]
    }
   ],
   "source": [
    "#calculate score\n",
    "loss = log_loss(Y_test,predict)\n",
    "print(\"Log_loss : {}\".format(loss))\n",
    "predict = np.round(predict)\n",
    "loss = hamming_loss(Y_test,predict)\n",
    "print(\"Hamming_loss : {}\".format(loss*100))\n",
    "accuracy = accuracy_score(Y_test,predict)\n",
    "print(\"Accuracy : {}\".format(accuracy*100))"
   ]
  },
  {
   "cell_type": "markdown",
   "metadata": {
    "collapsed": true
   },
   "source": [
    "## Let us try improving the BP-MLL model (Refining)\n"
   ]
  },
  {
   "cell_type": "code",
   "execution_count": 62,
   "metadata": {},
   "outputs": [],
   "source": [
    "from sklearn.model_selection import GridSearchCV\n",
    "from keras.wrappers.scikit_learn import KerasClassifier\n",
    "from keras.models import Sequential\n",
    "from keras.layers import Dense, Activation, Dropout\n",
    "from keras import optimizers\n",
    "\n",
    "#define parameters for using in param grid\n",
    "nodes = [16, 32] # number of nodes in the hidden layer\n",
    "lrs = [0.001, 0.002, 0.003] # learning rate, default = 0.001\n",
    "epochs = [10,20]\n",
    "batch_size = 64"
   ]
  },
  {
   "cell_type": "code",
   "execution_count": 63,
   "metadata": {},
   "outputs": [],
   "source": [
    "def create_model(nodes=10,lr=0.001):\n",
    "    model = Sequential()\n",
    "    model.add(Dense(nodes, activation='relu', input_dim = X_train.shape[1]))\n",
    "    model.add(Dropout(0.3))\n",
    "    model.add(Dense(9, activation='softmax'))\n",
    "    opt = optimizers.RMSprop(lr=lr)\n",
    "    model.compile(optimizer=opt,\n",
    "              loss='categorical_crossentropy',\n",
    "              metrics=['accuracy'])\n",
    "    return model\n",
    "\n",
    "model = KerasClassifier(build_fn=create_model)"
   ]
  },
  {
   "cell_type": "code",
   "execution_count": 64,
   "metadata": {
    "scrolled": true
   },
   "outputs": [
    {
     "name": "stdout",
     "output_type": "stream",
     "text": [
      "Fitting 3 folds for each of 12 candidates, totalling 36 fits\n",
      "[CV] epochs=10, lr=0.001, nodes=16 ...................................\n",
      "Epoch 1/10\n",
      "62/62 [==============================] - 0s 3ms/step - loss: 2.8460 - acc: 0.1290\n",
      "Epoch 2/10\n",
      "62/62 [==============================] - 0s 162us/step - loss: 2.4791 - acc: 0.3710\n",
      "Epoch 3/10\n",
      "62/62 [==============================] - 0s 167us/step - loss: 2.3532 - acc: 0.3065\n",
      "Epoch 4/10\n",
      "62/62 [==============================] - 0s 147us/step - loss: 2.2362 - acc: 0.4194\n",
      "Epoch 5/10\n",
      "62/62 [==============================] - 0s 207us/step - loss: 2.0936 - acc: 0.4677\n",
      "Epoch 6/10\n",
      "62/62 [==============================] - 0s 165us/step - loss: 1.9815 - acc: 0.5484\n",
      "Epoch 7/10\n",
      "62/62 [==============================] - 0s 185us/step - loss: 1.8781 - acc: 0.5484\n",
      "Epoch 8/10\n",
      "62/62 [==============================] - 0s 184us/step - loss: 1.8107 - acc: 0.5968\n",
      "Epoch 9/10\n",
      "62/62 [==============================] - 0s 196us/step - loss: 1.7002 - acc: 0.6774\n",
      "Epoch 10/10\n",
      "62/62 [==============================] - 0s 203us/step - loss: 1.5785 - acc: 0.7097\n",
      "31/31 [==============================] - 0s 2ms/step\n",
      "62/62 [==============================] - 0s 105us/step\n",
      "[CV] .................... epochs=10, lr=0.001, nodes=16, total=   1.2s\n",
      "[CV] epochs=10, lr=0.001, nodes=16 ...................................\n"
     ]
    },
    {
     "name": "stderr",
     "output_type": "stream",
     "text": [
      "[Parallel(n_jobs=1)]: Done   1 out of   1 | elapsed:    1.2s remaining:    0.0s\n"
     ]
    },
    {
     "name": "stdout",
     "output_type": "stream",
     "text": [
      "Epoch 1/10\n",
      "62/62 [==============================] - 0s 4ms/step - loss: 3.1410 - acc: 0.1129\n",
      "Epoch 2/10\n",
      "62/62 [==============================] - 0s 174us/step - loss: 2.7259 - acc: 0.1935\n",
      "Epoch 3/10\n",
      "62/62 [==============================] - 0s 155us/step - loss: 2.5172 - acc: 0.3065\n",
      "Epoch 4/10\n",
      "62/62 [==============================] - 0s 207us/step - loss: 2.3847 - acc: 0.3871\n",
      "Epoch 5/10\n",
      "62/62 [==============================] - 0s 193us/step - loss: 2.3597 - acc: 0.4032\n",
      "Epoch 6/10\n",
      "62/62 [==============================] - 0s 160us/step - loss: 2.2726 - acc: 0.3871\n",
      "Epoch 7/10\n",
      "62/62 [==============================] - 0s 200us/step - loss: 2.1818 - acc: 0.5000\n",
      "Epoch 8/10\n",
      "62/62 [==============================] - 0s 196us/step - loss: 2.0572 - acc: 0.5000\n",
      "Epoch 9/10\n",
      "62/62 [==============================] - 0s 171us/step - loss: 2.0365 - acc: 0.5645\n",
      "Epoch 10/10\n",
      "62/62 [==============================] - 0s 198us/step - loss: 2.0246 - acc: 0.5484\n",
      "31/31 [==============================] - 0s 2ms/step\n",
      "62/62 [==============================] - 0s 127us/step\n",
      "[CV] .................... epochs=10, lr=0.001, nodes=16, total=   0.8s\n",
      "[CV] epochs=10, lr=0.001, nodes=16 ...................................\n",
      "Epoch 1/10\n",
      "62/62 [==============================] - 0s 4ms/step - loss: 2.9382 - acc: 0.1613\n",
      "Epoch 2/10\n",
      "62/62 [==============================] - 0s 163us/step - loss: 2.4622 - acc: 0.4355\n",
      "Epoch 3/10\n",
      "62/62 [==============================] - 0s 165us/step - loss: 2.2263 - acc: 0.4677\n",
      "Epoch 4/10\n",
      "62/62 [==============================] - 0s 196us/step - loss: 2.0699 - acc: 0.5968\n",
      "Epoch 5/10\n",
      "62/62 [==============================] - 0s 208us/step - loss: 1.9398 - acc: 0.5806\n",
      "Epoch 6/10\n",
      "62/62 [==============================] - 0s 157us/step - loss: 1.9315 - acc: 0.5645\n",
      "Epoch 7/10\n",
      "62/62 [==============================] - 0s 168us/step - loss: 1.7775 - acc: 0.6613\n",
      "Epoch 8/10\n",
      "62/62 [==============================] - 0s 209us/step - loss: 1.6353 - acc: 0.7258\n",
      "Epoch 9/10\n",
      "62/62 [==============================] - 0s 199us/step - loss: 1.6565 - acc: 0.7419\n",
      "Epoch 10/10\n",
      "62/62 [==============================] - 0s 159us/step - loss: 1.6757 - acc: 0.7742\n",
      "31/31 [==============================] - 0s 2ms/step\n",
      "62/62 [==============================] - 0s 95us/step\n",
      "[CV] .................... epochs=10, lr=0.001, nodes=16, total=   0.8s\n",
      "[CV] epochs=10, lr=0.001, nodes=32 ...................................\n",
      "Epoch 1/10\n",
      "62/62 [==============================] - 0s 5ms/step - loss: 2.9273 - acc: 0.1452\n",
      "Epoch 2/10\n",
      "62/62 [==============================] - 0s 185us/step - loss: 2.2614 - acc: 0.4677\n",
      "Epoch 3/10\n",
      "62/62 [==============================] - 0s 193us/step - loss: 1.9673 - acc: 0.5645\n",
      "Epoch 4/10\n",
      "62/62 [==============================] - 0s 225us/step - loss: 1.7488 - acc: 0.7258\n",
      "Epoch 5/10\n",
      "62/62 [==============================] - 0s 224us/step - loss: 1.6104 - acc: 0.7097\n",
      "Epoch 6/10\n",
      "62/62 [==============================] - 0s 191us/step - loss: 1.4443 - acc: 0.8065\n",
      "Epoch 7/10\n",
      "62/62 [==============================] - 0s 184us/step - loss: 1.2840 - acc: 0.8065\n",
      "Epoch 8/10\n",
      "62/62 [==============================] - 0s 233us/step - loss: 1.2620 - acc: 0.7581\n",
      "Epoch 9/10\n",
      "62/62 [==============================] - 0s 193us/step - loss: 1.1192 - acc: 0.8226\n",
      "Epoch 10/10\n",
      "62/62 [==============================] - 0s 149us/step - loss: 1.0930 - acc: 0.8226\n",
      "31/31 [==============================] - 0s 3ms/step\n",
      "62/62 [==============================] - 0s 100us/step\n",
      "[CV] .................... epochs=10, lr=0.001, nodes=32, total=   0.8s\n",
      "[CV] epochs=10, lr=0.001, nodes=32 ...................................\n",
      "Epoch 1/10\n",
      "62/62 [==============================] - 0s 5ms/step - loss: 3.0702 - acc: 0.2097\n",
      "Epoch 2/10\n",
      "62/62 [==============================] - 0s 174us/step - loss: 2.4372 - acc: 0.4839\n",
      "Epoch 3/10\n",
      "62/62 [==============================] - 0s 246us/step - loss: 2.2037 - acc: 0.6290\n",
      "Epoch 4/10\n",
      "62/62 [==============================] - 0s 195us/step - loss: 1.9196 - acc: 0.7097\n",
      "Epoch 5/10\n",
      "62/62 [==============================] - 0s 182us/step - loss: 1.8096 - acc: 0.7581\n",
      "Epoch 6/10\n",
      "62/62 [==============================] - 0s 173us/step - loss: 1.6420 - acc: 0.7903\n",
      "Epoch 7/10\n",
      "62/62 [==============================] - 0s 181us/step - loss: 1.5826 - acc: 0.8226\n",
      "Epoch 8/10\n",
      "62/62 [==============================] - 0s 194us/step - loss: 1.5089 - acc: 0.8065\n",
      "Epoch 9/10\n",
      "62/62 [==============================] - 0s 178us/step - loss: 1.4058 - acc: 0.8226\n",
      "Epoch 10/10\n",
      "62/62 [==============================] - 0s 168us/step - loss: 1.4115 - acc: 0.8226\n",
      "31/31 [==============================] - 0s 3ms/step\n",
      "62/62 [==============================] - 0s 98us/step\n",
      "[CV] .................... epochs=10, lr=0.001, nodes=32, total=   1.0s\n",
      "[CV] epochs=10, lr=0.001, nodes=32 ...................................\n",
      "Epoch 1/10\n",
      "62/62 [==============================] - 0s 6ms/step - loss: 3.0561 - acc: 0.0968\n",
      "Epoch 2/10\n",
      "62/62 [==============================] - 0s 191us/step - loss: 2.4149 - acc: 0.4032\n",
      "Epoch 3/10\n",
      "62/62 [==============================] - 0s 191us/step - loss: 2.0710 - acc: 0.5645\n",
      "Epoch 4/10\n",
      "62/62 [==============================] - 0s 190us/step - loss: 1.7784 - acc: 0.7258\n",
      "Epoch 5/10\n",
      "62/62 [==============================] - 0s 274us/step - loss: 1.6378 - acc: 0.7419\n",
      "Epoch 6/10\n",
      "62/62 [==============================] - 0s 263us/step - loss: 1.4825 - acc: 0.8710\n",
      "Epoch 7/10\n",
      "62/62 [==============================] - 0s 211us/step - loss: 1.4494 - acc: 0.8387\n",
      "Epoch 8/10\n",
      "62/62 [==============================] - 0s 199us/step - loss: 1.4159 - acc: 0.7581\n",
      "Epoch 9/10\n",
      "62/62 [==============================] - 0s 218us/step - loss: 1.3027 - acc: 0.9032\n",
      "Epoch 10/10\n",
      "62/62 [==============================] - 0s 222us/step - loss: 1.1927 - acc: 0.8226\n",
      "31/31 [==============================] - 0s 6ms/step\n",
      "62/62 [==============================] - 0s 126us/step\n",
      "[CV] .................... epochs=10, lr=0.001, nodes=32, total=   1.0s\n",
      "[CV] epochs=10, lr=0.002, nodes=16 ...................................\n",
      "Epoch 1/10\n",
      "62/62 [==============================] - 0s 7ms/step - loss: 2.9166 - acc: 0.1452\n",
      "Epoch 2/10\n",
      "62/62 [==============================] - 0s 168us/step - loss: 2.3868 - acc: 0.2742\n",
      "Epoch 3/10\n",
      "62/62 [==============================] - 0s 178us/step - loss: 2.1593 - acc: 0.4677\n",
      "Epoch 4/10\n",
      "62/62 [==============================] - 0s 168us/step - loss: 1.9085 - acc: 0.5968\n",
      "Epoch 5/10\n",
      "62/62 [==============================] - 0s 179us/step - loss: 1.7777 - acc: 0.5806\n",
      "Epoch 6/10\n",
      "62/62 [==============================] - 0s 189us/step - loss: 1.6112 - acc: 0.6935\n",
      "Epoch 7/10\n",
      "62/62 [==============================] - 0s 178us/step - loss: 1.5066 - acc: 0.6774\n",
      "Epoch 8/10\n",
      "62/62 [==============================] - 0s 187us/step - loss: 1.3879 - acc: 0.6935\n",
      "Epoch 9/10\n",
      "62/62 [==============================] - 0s 217us/step - loss: 1.2806 - acc: 0.7419\n",
      "Epoch 10/10\n",
      "62/62 [==============================] - 0s 204us/step - loss: 1.1449 - acc: 0.8387\n",
      "31/31 [==============================] - 0s 4ms/step\n",
      "62/62 [==============================] - 0s 107us/step\n",
      "[CV] .................... epochs=10, lr=0.002, nodes=16, total=   1.2s\n",
      "[CV] epochs=10, lr=0.002, nodes=16 ...................................\n",
      "Epoch 1/10\n",
      "62/62 [==============================] - 0s 6ms/step - loss: 3.0418 - acc: 0.1290\n",
      "Epoch 2/10\n",
      "62/62 [==============================] - 0s 177us/step - loss: 2.4608 - acc: 0.4032\n",
      "Epoch 3/10\n",
      "62/62 [==============================] - 0s 168us/step - loss: 2.0881 - acc: 0.5645\n",
      "Epoch 4/10\n",
      "62/62 [==============================] - 0s 171us/step - loss: 1.9749 - acc: 0.5968\n",
      "Epoch 5/10\n",
      "62/62 [==============================] - 0s 176us/step - loss: 1.8175 - acc: 0.6613\n",
      "Epoch 6/10\n",
      "62/62 [==============================] - 0s 176us/step - loss: 1.8093 - acc: 0.6452\n",
      "Epoch 7/10\n",
      "62/62 [==============================] - 0s 175us/step - loss: 1.7017 - acc: 0.6129\n",
      "Epoch 8/10\n",
      "62/62 [==============================] - 0s 186us/step - loss: 1.6450 - acc: 0.7258\n",
      "Epoch 9/10\n",
      "62/62 [==============================] - 0s 177us/step - loss: 1.4357 - acc: 0.7581\n",
      "Epoch 10/10\n",
      "62/62 [==============================] - 0s 181us/step - loss: 1.5869 - acc: 0.7258\n",
      "31/31 [==============================] - 0s 4ms/step\n"
     ]
    },
    {
     "name": "stdout",
     "output_type": "stream",
     "text": [
      "62/62 [==============================] - 0s 101us/step\n",
      "[CV] .................... epochs=10, lr=0.002, nodes=16, total=   0.9s\n",
      "[CV] epochs=10, lr=0.002, nodes=16 ...................................\n",
      "Epoch 1/10\n",
      "62/62 [==============================] - 0s 7ms/step - loss: 3.1434 - acc: 0.0806\n",
      "Epoch 2/10\n",
      "62/62 [==============================] - 0s 172us/step - loss: 2.3815 - acc: 0.3710\n",
      "Epoch 3/10\n",
      "62/62 [==============================] - 0s 166us/step - loss: 2.0581 - acc: 0.5161\n",
      "Epoch 4/10\n",
      "62/62 [==============================] - 0s 187us/step - loss: 1.9449 - acc: 0.6452\n",
      "Epoch 5/10\n",
      "62/62 [==============================] - 0s 184us/step - loss: 1.7545 - acc: 0.7419\n",
      "Epoch 6/10\n",
      "62/62 [==============================] - 0s 176us/step - loss: 1.6028 - acc: 0.7258\n",
      "Epoch 7/10\n",
      "62/62 [==============================] - 0s 205us/step - loss: 1.5284 - acc: 0.7097\n",
      "Epoch 8/10\n",
      "62/62 [==============================] - 0s 169us/step - loss: 1.3848 - acc: 0.7742\n",
      "Epoch 9/10\n",
      "62/62 [==============================] - 0s 176us/step - loss: 1.2179 - acc: 0.7903\n",
      "Epoch 10/10\n",
      "62/62 [==============================] - 0s 192us/step - loss: 1.2569 - acc: 0.8226\n",
      "31/31 [==============================] - 0s 5ms/step\n",
      "62/62 [==============================] - 0s 103us/step\n",
      "[CV] .................... epochs=10, lr=0.002, nodes=16, total=   1.0s\n",
      "[CV] epochs=10, lr=0.002, nodes=32 ...................................\n",
      "Epoch 1/10\n",
      "62/62 [==============================] - 1s 8ms/step - loss: 2.9844 - acc: 0.1613\n",
      "Epoch 2/10\n",
      "62/62 [==============================] - 0s 223us/step - loss: 2.0376 - acc: 0.6452\n",
      "Epoch 3/10\n",
      "62/62 [==============================] - 0s 200us/step - loss: 1.5249 - acc: 0.7903\n",
      "Epoch 4/10\n",
      "62/62 [==============================] - 0s 182us/step - loss: 1.3577 - acc: 0.8548\n",
      "Epoch 5/10\n",
      "62/62 [==============================] - 0s 207us/step - loss: 1.0713 - acc: 0.8548\n",
      "Epoch 6/10\n",
      "62/62 [==============================] - 0s 204us/step - loss: 1.0237 - acc: 0.8226\n",
      "Epoch 7/10\n",
      "62/62 [==============================] - 0s 197us/step - loss: 0.9549 - acc: 0.9032\n",
      "Epoch 8/10\n",
      "62/62 [==============================] - 0s 220us/step - loss: 0.9271 - acc: 0.8226\n",
      "Epoch 9/10\n",
      "62/62 [==============================] - 0s 209us/step - loss: 0.8910 - acc: 0.8548\n",
      "Epoch 10/10\n",
      "62/62 [==============================] - 0s 236us/step - loss: 0.8072 - acc: 0.8387\n",
      "31/31 [==============================] - 0s 5ms/step\n",
      "62/62 [==============================] - 0s 99us/step\n",
      "[CV] .................... epochs=10, lr=0.002, nodes=32, total=   1.1s\n",
      "[CV] epochs=10, lr=0.002, nodes=32 ...................................\n",
      "Epoch 1/10\n",
      "62/62 [==============================] - 1s 9ms/step - loss: 3.2639 - acc: 0.0645\n",
      "Epoch 2/10\n",
      "62/62 [==============================] - 0s 173us/step - loss: 2.1662 - acc: 0.6452\n",
      "Epoch 3/10\n",
      "62/62 [==============================] - 0s 195us/step - loss: 1.7286 - acc: 0.7742\n",
      "Epoch 4/10\n",
      "62/62 [==============================] - 0s 177us/step - loss: 1.4590 - acc: 0.7742\n",
      "Epoch 5/10\n",
      "62/62 [==============================] - 0s 206us/step - loss: 1.3460 - acc: 0.8548\n",
      "Epoch 6/10\n",
      "62/62 [==============================] - 0s 242us/step - loss: 1.2843 - acc: 0.8065\n",
      "Epoch 7/10\n",
      "62/62 [==============================] - 0s 224us/step - loss: 1.1493 - acc: 0.8226\n",
      "Epoch 8/10\n",
      "62/62 [==============================] - 0s 221us/step - loss: 1.1285 - acc: 0.8710\n",
      "Epoch 9/10\n",
      "62/62 [==============================] - 0s 194us/step - loss: 1.0250 - acc: 0.8065\n",
      "Epoch 10/10\n",
      "62/62 [==============================] - 0s 183us/step - loss: 0.9430 - acc: 0.8548\n",
      "31/31 [==============================] - 0s 7ms/step\n",
      "62/62 [==============================] - 0s 137us/step\n",
      "[CV] .................... epochs=10, lr=0.002, nodes=32, total=   1.6s\n",
      "[CV] epochs=10, lr=0.002, nodes=32 ...................................\n",
      "Epoch 1/10\n",
      "62/62 [==============================] - 1s 11ms/step - loss: 2.8556 - acc: 0.1613\n",
      "Epoch 2/10\n",
      "62/62 [==============================] - 0s 252us/step - loss: 2.0881 - acc: 0.5806\n",
      "Epoch 3/10\n",
      "62/62 [==============================] - 0s 178us/step - loss: 1.6598 - acc: 0.6935\n",
      "Epoch 4/10\n",
      "62/62 [==============================] - 0s 203us/step - loss: 1.4682 - acc: 0.8548\n",
      "Epoch 5/10\n",
      "62/62 [==============================] - 0s 184us/step - loss: 1.2325 - acc: 0.7581\n",
      "Epoch 6/10\n",
      "62/62 [==============================] - 0s 210us/step - loss: 1.1094 - acc: 0.8548\n",
      "Epoch 7/10\n",
      "62/62 [==============================] - 0s 181us/step - loss: 1.0628 - acc: 0.8387\n",
      "Epoch 8/10\n",
      "62/62 [==============================] - 0s 174us/step - loss: 1.0837 - acc: 0.8710\n",
      "Epoch 9/10\n",
      "62/62 [==============================] - 0s 190us/step - loss: 0.9604 - acc: 0.8387\n",
      "Epoch 10/10\n",
      "62/62 [==============================] - 0s 179us/step - loss: 0.9268 - acc: 0.8710\n",
      "31/31 [==============================] - 0s 8ms/step\n",
      "62/62 [==============================] - 0s 172us/step\n",
      "[CV] .................... epochs=10, lr=0.002, nodes=32, total=   1.5s\n",
      "[CV] epochs=10, lr=0.003, nodes=16 ...................................\n",
      "Epoch 1/10\n",
      "62/62 [==============================] - 1s 10ms/step - loss: 2.9607 - acc: 0.0968\n",
      "Epoch 2/10\n",
      "62/62 [==============================] - 0s 161us/step - loss: 2.1242 - acc: 0.4677\n",
      "Epoch 3/10\n",
      "62/62 [==============================] - 0s 206us/step - loss: 1.7727 - acc: 0.7097\n",
      "Epoch 4/10\n",
      "62/62 [==============================] - 0s 187us/step - loss: 1.5851 - acc: 0.7742\n",
      "Epoch 5/10\n",
      "62/62 [==============================] - 0s 202us/step - loss: 1.2361 - acc: 0.8065\n",
      "Epoch 6/10\n",
      "62/62 [==============================] - 0s 254us/step - loss: 1.2913 - acc: 0.7419\n",
      "Epoch 7/10\n",
      "62/62 [==============================] - 0s 221us/step - loss: 1.1992 - acc: 0.8226\n",
      "Epoch 8/10\n",
      "62/62 [==============================] - 0s 190us/step - loss: 1.1241 - acc: 0.8387\n",
      "Epoch 9/10\n",
      "62/62 [==============================] - 0s 181us/step - loss: 1.0228 - acc: 0.8387\n",
      "Epoch 10/10\n",
      "62/62 [==============================] - 0s 191us/step - loss: 1.0152 - acc: 0.7742\n",
      "31/31 [==============================] - 0s 11ms/step\n",
      "62/62 [==============================] - 0s 106us/step\n",
      "[CV] .................... epochs=10, lr=0.003, nodes=16, total=   1.6s\n",
      "[CV] epochs=10, lr=0.003, nodes=16 ...................................\n",
      "Epoch 1/10\n",
      "62/62 [==============================] - 1s 10ms/step - loss: 2.9058 - acc: 0.2097\n",
      "Epoch 2/10\n",
      "62/62 [==============================] - 0s 175us/step - loss: 2.1034 - acc: 0.5968\n",
      "Epoch 3/10\n",
      "62/62 [==============================] - 0s 190us/step - loss: 1.9320 - acc: 0.7097\n",
      "Epoch 4/10\n",
      "62/62 [==============================] - 0s 204us/step - loss: 1.6903 - acc: 0.6935\n",
      "Epoch 5/10\n",
      "62/62 [==============================] - 0s 198us/step - loss: 1.6026 - acc: 0.7258\n",
      "Epoch 6/10\n",
      "62/62 [==============================] - 0s 214us/step - loss: 1.3345 - acc: 0.7742\n",
      "Epoch 7/10\n",
      "62/62 [==============================] - 0s 210us/step - loss: 1.5812 - acc: 0.7419\n",
      "Epoch 8/10\n",
      "62/62 [==============================] - 0s 230us/step - loss: 1.3525 - acc: 0.8065\n",
      "Epoch 9/10\n",
      "62/62 [==============================] - 0s 205us/step - loss: 1.2764 - acc: 0.8065\n",
      "Epoch 10/10\n",
      "62/62 [==============================] - 0s 155us/step - loss: 1.3139 - acc: 0.8065\n",
      "31/31 [==============================] - 0s 7ms/step\n",
      "62/62 [==============================] - 0s 85us/step\n",
      "[CV] .................... epochs=10, lr=0.003, nodes=16, total=   1.4s\n",
      "[CV] epochs=10, lr=0.003, nodes=16 ...................................\n",
      "Epoch 1/10\n",
      "62/62 [==============================] - 1s 10ms/step - loss: 2.9447 - acc: 0.1129\n",
      "Epoch 2/10\n",
      "62/62 [==============================] - 0s 140us/step - loss: 2.3127 - acc: 0.2903\n",
      "Epoch 3/10\n",
      "62/62 [==============================] - 0s 168us/step - loss: 2.0780 - acc: 0.5000\n",
      "Epoch 4/10\n",
      "62/62 [==============================] - 0s 172us/step - loss: 1.9844 - acc: 0.4516\n",
      "Epoch 5/10\n",
      "62/62 [==============================] - 0s 164us/step - loss: 1.7308 - acc: 0.5645\n",
      "Epoch 6/10\n",
      "62/62 [==============================] - 0s 172us/step - loss: 1.3508 - acc: 0.7097\n",
      "Epoch 7/10\n",
      "62/62 [==============================] - 0s 173us/step - loss: 1.5232 - acc: 0.6290\n",
      "Epoch 8/10\n",
      "62/62 [==============================] - 0s 247us/step - loss: 1.4141 - acc: 0.7419\n",
      "Epoch 9/10\n"
     ]
    },
    {
     "name": "stdout",
     "output_type": "stream",
     "text": [
      "62/62 [==============================] - 0s 253us/step - loss: 1.2315 - acc: 0.8387\n",
      "Epoch 10/10\n",
      "62/62 [==============================] - 0s 166us/step - loss: 1.1730 - acc: 0.8065\n",
      "31/31 [==============================] - 0s 9ms/step\n",
      "62/62 [==============================] - 0s 107us/step\n",
      "[CV] .................... epochs=10, lr=0.003, nodes=16, total=   1.4s\n",
      "[CV] epochs=10, lr=0.003, nodes=32 ...................................\n",
      "Epoch 1/10\n",
      "62/62 [==============================] - 1s 11ms/step - loss: 2.7647 - acc: 0.1774\n",
      "Epoch 2/10\n",
      "62/62 [==============================] - 0s 209us/step - loss: 1.9091 - acc: 0.5645\n",
      "Epoch 3/10\n",
      "62/62 [==============================] - 0s 240us/step - loss: 1.3793 - acc: 0.7581\n",
      "Epoch 4/10\n",
      "62/62 [==============================] - 0s 245us/step - loss: 1.1529 - acc: 0.8548\n",
      "Epoch 5/10\n",
      "62/62 [==============================] - 0s 310us/step - loss: 1.0123 - acc: 0.8226\n",
      "Epoch 6/10\n",
      "62/62 [==============================] - 0s 253us/step - loss: 0.9684 - acc: 0.8226\n",
      "Epoch 7/10\n",
      "62/62 [==============================] - 0s 262us/step - loss: 0.8816 - acc: 0.9194\n",
      "Epoch 8/10\n",
      "62/62 [==============================] - 0s 265us/step - loss: 0.8008 - acc: 0.8387\n",
      "Epoch 9/10\n",
      "62/62 [==============================] - 0s 199us/step - loss: 0.7009 - acc: 0.9032\n",
      "Epoch 10/10\n",
      "62/62 [==============================] - 0s 219us/step - loss: 0.6765 - acc: 0.8548\n",
      "31/31 [==============================] - 0s 10ms/step\n",
      "62/62 [==============================] - 0s 99us/step\n",
      "[CV] .................... epochs=10, lr=0.003, nodes=32, total=   1.5s\n",
      "[CV] epochs=10, lr=0.003, nodes=32 ...................................\n",
      "Epoch 1/10\n",
      "62/62 [==============================] - 1s 11ms/step - loss: 2.9678 - acc: 0.1129\n",
      "Epoch 2/10\n",
      "62/62 [==============================] - 0s 203us/step - loss: 2.1104 - acc: 0.7581\n",
      "Epoch 3/10\n",
      "62/62 [==============================] - 0s 188us/step - loss: 1.5843 - acc: 0.7903\n",
      "Epoch 4/10\n",
      "62/62 [==============================] - 0s 168us/step - loss: 1.3890 - acc: 0.7742\n",
      "Epoch 5/10\n",
      "62/62 [==============================] - 0s 227us/step - loss: 1.1978 - acc: 0.8387\n",
      "Epoch 6/10\n",
      "62/62 [==============================] - 0s 175us/step - loss: 1.1168 - acc: 0.8871\n",
      "Epoch 7/10\n",
      "62/62 [==============================] - 0s 177us/step - loss: 1.0307 - acc: 0.8710\n",
      "Epoch 8/10\n",
      "62/62 [==============================] - 0s 177us/step - loss: 0.9376 - acc: 0.8710\n",
      "Epoch 9/10\n",
      "62/62 [==============================] - 0s 164us/step - loss: 0.9696 - acc: 0.8710\n",
      "Epoch 10/10\n",
      "62/62 [==============================] - 0s 200us/step - loss: 1.1314 - acc: 0.8387\n",
      "31/31 [==============================] - 0s 10ms/step\n",
      "62/62 [==============================] - 0s 87us/step\n",
      "[CV] .................... epochs=10, lr=0.003, nodes=32, total=   1.4s\n",
      "[CV] epochs=10, lr=0.003, nodes=32 ...................................\n",
      "Epoch 1/10\n",
      "62/62 [==============================] - 1s 10ms/step - loss: 3.0795 - acc: 0.1129\n",
      "Epoch 2/10\n",
      "62/62 [==============================] - 0s 185us/step - loss: 2.1533 - acc: 0.5645\n",
      "Epoch 3/10\n",
      "62/62 [==============================] - 0s 197us/step - loss: 1.6596 - acc: 0.7742\n",
      "Epoch 4/10\n",
      "62/62 [==============================] - 0s 237us/step - loss: 1.3834 - acc: 0.8387\n",
      "Epoch 5/10\n",
      "62/62 [==============================] - 0s 205us/step - loss: 1.2561 - acc: 0.8226\n",
      "Epoch 6/10\n",
      "62/62 [==============================] - 0s 203us/step - loss: 1.1330 - acc: 0.8387\n",
      "Epoch 7/10\n",
      "62/62 [==============================] - 0s 215us/step - loss: 1.1003 - acc: 0.8387\n",
      "Epoch 8/10\n",
      "62/62 [==============================] - 0s 218us/step - loss: 1.0289 - acc: 0.8710\n",
      "Epoch 9/10\n",
      "62/62 [==============================] - 0s 199us/step - loss: 1.0119 - acc: 0.8065\n",
      "Epoch 10/10\n",
      "62/62 [==============================] - 0s 202us/step - loss: 0.9705 - acc: 0.8226\n",
      "31/31 [==============================] - 0s 8ms/step\n",
      "62/62 [==============================] - 0s 105us/step\n",
      "[CV] .................... epochs=10, lr=0.003, nodes=32, total=   1.5s\n",
      "[CV] epochs=20, lr=0.001, nodes=16 ...................................\n",
      "Epoch 1/20\n",
      "62/62 [==============================] - 1s 11ms/step - loss: 3.0236 - acc: 0.0645\n",
      "Epoch 2/20\n",
      "62/62 [==============================] - 0s 175us/step - loss: 2.4984 - acc: 0.2903\n",
      "Epoch 3/20\n",
      "62/62 [==============================] - 0s 183us/step - loss: 2.3214 - acc: 0.3387\n",
      "Epoch 4/20\n",
      "62/62 [==============================] - 0s 173us/step - loss: 2.2428 - acc: 0.4032\n",
      "Epoch 5/20\n",
      "62/62 [==============================] - 0s 211us/step - loss: 2.1101 - acc: 0.4839\n",
      "Epoch 6/20\n",
      "62/62 [==============================] - 0s 197us/step - loss: 2.0029 - acc: 0.5806\n",
      "Epoch 7/20\n",
      "62/62 [==============================] - 0s 180us/step - loss: 1.9284 - acc: 0.4839\n",
      "Epoch 8/20\n",
      "62/62 [==============================] - 0s 174us/step - loss: 1.8584 - acc: 0.5323\n",
      "Epoch 9/20\n",
      "62/62 [==============================] - 0s 208us/step - loss: 1.8639 - acc: 0.5323\n",
      "Epoch 10/20\n",
      "62/62 [==============================] - 0s 233us/step - loss: 1.7234 - acc: 0.6290\n",
      "Epoch 11/20\n",
      "62/62 [==============================] - 0s 172us/step - loss: 1.6461 - acc: 0.6290\n",
      "Epoch 12/20\n",
      "62/62 [==============================] - 0s 182us/step - loss: 1.6363 - acc: 0.6129\n",
      "Epoch 13/20\n",
      "62/62 [==============================] - 0s 185us/step - loss: 1.5316 - acc: 0.6290\n",
      "Epoch 14/20\n",
      "62/62 [==============================] - 0s 228us/step - loss: 1.5609 - acc: 0.6774\n",
      "Epoch 15/20\n",
      "62/62 [==============================] - 0s 188us/step - loss: 1.4743 - acc: 0.7742\n",
      "Epoch 16/20\n",
      "62/62 [==============================] - 0s 217us/step - loss: 1.5878 - acc: 0.6774\n",
      "Epoch 17/20\n",
      "62/62 [==============================] - 0s 214us/step - loss: 1.5622 - acc: 0.6613\n",
      "Epoch 18/20\n",
      "62/62 [==============================] - 0s 225us/step - loss: 1.4613 - acc: 0.6613\n",
      "Epoch 19/20\n",
      "62/62 [==============================] - 0s 214us/step - loss: 1.3149 - acc: 0.8065\n",
      "Epoch 20/20\n",
      "62/62 [==============================] - 0s 237us/step - loss: 1.4162 - acc: 0.6452\n",
      "31/31 [==============================] - 0s 11ms/step\n",
      "62/62 [==============================] - 0s 139us/step\n",
      "[CV] .................... epochs=20, lr=0.001, nodes=16, total=   1.6s\n",
      "[CV] epochs=20, lr=0.001, nodes=16 ...................................\n",
      "Epoch 1/20\n",
      "62/62 [==============================] - 1s 13ms/step - loss: 3.0696 - acc: 0.1613\n",
      "Epoch 2/20\n",
      "62/62 [==============================] - 0s 171us/step - loss: 2.5876 - acc: 0.3065\n",
      "Epoch 3/20\n",
      "62/62 [==============================] - 0s 176us/step - loss: 2.4055 - acc: 0.5323\n",
      "Epoch 4/20\n",
      "62/62 [==============================] - 0s 151us/step - loss: 2.1974 - acc: 0.6613\n",
      "Epoch 5/20\n",
      "62/62 [==============================] - 0s 161us/step - loss: 2.0526 - acc: 0.6613\n",
      "Epoch 6/20\n",
      "62/62 [==============================] - 0s 157us/step - loss: 2.0154 - acc: 0.6452\n",
      "Epoch 7/20\n",
      "62/62 [==============================] - 0s 143us/step - loss: 1.9858 - acc: 0.7097\n",
      "Epoch 8/20\n",
      "62/62 [==============================] - 0s 171us/step - loss: 1.8800 - acc: 0.7258\n",
      "Epoch 9/20\n",
      "62/62 [==============================] - 0s 189us/step - loss: 1.7366 - acc: 0.7097\n",
      "Epoch 10/20\n",
      "62/62 [==============================] - 0s 150us/step - loss: 1.7627 - acc: 0.7742\n",
      "Epoch 11/20\n",
      "62/62 [==============================] - 0s 209us/step - loss: 1.5818 - acc: 0.8387\n",
      "Epoch 12/20\n",
      "62/62 [==============================] - 0s 154us/step - loss: 1.5515 - acc: 0.7903\n",
      "Epoch 13/20\n",
      "62/62 [==============================] - 0s 173us/step - loss: 1.5757 - acc: 0.8226\n",
      "Epoch 14/20\n",
      "62/62 [==============================] - 0s 166us/step - loss: 1.5388 - acc: 0.7581\n",
      "Epoch 15/20\n",
      "62/62 [==============================] - 0s 164us/step - loss: 1.4816 - acc: 0.7903\n",
      "Epoch 16/20\n",
      "62/62 [==============================] - 0s 173us/step - loss: 1.3845 - acc: 0.8710\n",
      "Epoch 17/20\n",
      "62/62 [==============================] - 0s 214us/step - loss: 1.4115 - acc: 0.8226\n",
      "Epoch 18/20\n",
      "62/62 [==============================] - 0s 288us/step - loss: 1.3473 - acc: 0.8226\n",
      "Epoch 19/20\n",
      "62/62 [==============================] - 0s 207us/step - loss: 1.2947 - acc: 0.8226\n",
      "Epoch 20/20\n",
      "62/62 [==============================] - 0s 221us/step - loss: 1.2372 - acc: 0.8548\n",
      "31/31 [==============================] - 0s 10ms/step\n"
     ]
    },
    {
     "name": "stdout",
     "output_type": "stream",
     "text": [
      "62/62 [==============================] - 0s 93us/step\n",
      "[CV] .................... epochs=20, lr=0.001, nodes=16, total=   1.8s\n",
      "[CV] epochs=20, lr=0.001, nodes=16 ...................................\n",
      "Epoch 1/20\n",
      "62/62 [==============================] - 1s 12ms/step - loss: 3.0638 - acc: 0.0323\n",
      "Epoch 2/20\n",
      "62/62 [==============================] - 0s 173us/step - loss: 2.7109 - acc: 0.2258\n",
      "Epoch 3/20\n",
      "62/62 [==============================] - 0s 202us/step - loss: 2.5046 - acc: 0.4677\n",
      "Epoch 4/20\n",
      "62/62 [==============================] - 0s 183us/step - loss: 2.3711 - acc: 0.4516\n",
      "Epoch 5/20\n",
      "62/62 [==============================] - 0s 167us/step - loss: 2.2497 - acc: 0.5000\n",
      "Epoch 6/20\n",
      "62/62 [==============================] - 0s 229us/step - loss: 2.1223 - acc: 0.5645\n",
      "Epoch 7/20\n",
      "62/62 [==============================] - 0s 170us/step - loss: 2.0045 - acc: 0.6290\n",
      "Epoch 8/20\n",
      "62/62 [==============================] - 0s 240us/step - loss: 1.9655 - acc: 0.6290\n",
      "Epoch 9/20\n",
      "62/62 [==============================] - 0s 178us/step - loss: 1.9551 - acc: 0.7097\n",
      "Epoch 10/20\n",
      "62/62 [==============================] - 0s 226us/step - loss: 1.7894 - acc: 0.7903\n",
      "Epoch 11/20\n",
      "62/62 [==============================] - 0s 171us/step - loss: 1.7307 - acc: 0.6935\n",
      "Epoch 12/20\n",
      "62/62 [==============================] - 0s 175us/step - loss: 1.7218 - acc: 0.6452\n",
      "Epoch 13/20\n",
      "62/62 [==============================] - 0s 188us/step - loss: 1.6634 - acc: 0.6613\n",
      "Epoch 14/20\n",
      "62/62 [==============================] - 0s 193us/step - loss: 1.4889 - acc: 0.7419\n",
      "Epoch 15/20\n",
      "62/62 [==============================] - 0s 227us/step - loss: 1.5519 - acc: 0.7903\n",
      "Epoch 16/20\n",
      "62/62 [==============================] - 0s 197us/step - loss: 1.4317 - acc: 0.7742\n",
      "Epoch 17/20\n",
      "62/62 [==============================] - 0s 198us/step - loss: 1.5750 - acc: 0.7258\n",
      "Epoch 18/20\n",
      "62/62 [==============================] - 0s 213us/step - loss: 1.4931 - acc: 0.7903\n",
      "Epoch 19/20\n",
      "62/62 [==============================] - 0s 193us/step - loss: 1.4678 - acc: 0.7581\n",
      "Epoch 20/20\n",
      "62/62 [==============================] - 0s 182us/step - loss: 1.3253 - acc: 0.8226\n",
      "31/31 [==============================] - 0s 9ms/step\n",
      "62/62 [==============================] - 0s 94us/step\n",
      "[CV] .................... epochs=20, lr=0.001, nodes=16, total=   1.6s\n",
      "[CV] epochs=20, lr=0.001, nodes=32 ...................................\n",
      "Epoch 1/20\n",
      "62/62 [==============================] - 1s 12ms/step - loss: 3.0611 - acc: 0.0806\n",
      "Epoch 2/20\n",
      "62/62 [==============================] - 0s 225us/step - loss: 2.3913 - acc: 0.4032\n",
      "Epoch 3/20\n",
      "62/62 [==============================] - 0s 220us/step - loss: 2.1315 - acc: 0.5323\n",
      "Epoch 4/20\n",
      "62/62 [==============================] - 0s 264us/step - loss: 1.9140 - acc: 0.6452\n",
      "Epoch 5/20\n",
      "62/62 [==============================] - 0s 235us/step - loss: 1.7457 - acc: 0.8065\n",
      "Epoch 6/20\n",
      "62/62 [==============================] - 0s 262us/step - loss: 1.5785 - acc: 0.7097\n",
      "Epoch 7/20\n",
      "62/62 [==============================] - 0s 236us/step - loss: 1.4398 - acc: 0.8710\n",
      "Epoch 8/20\n",
      "62/62 [==============================] - 0s 212us/step - loss: 1.4237 - acc: 0.8226\n",
      "Epoch 9/20\n",
      "62/62 [==============================] - 0s 242us/step - loss: 1.3101 - acc: 0.8387\n",
      "Epoch 10/20\n",
      "62/62 [==============================] - 0s 235us/step - loss: 1.2563 - acc: 0.8387\n",
      "Epoch 11/20\n",
      "62/62 [==============================] - 0s 229us/step - loss: 1.0978 - acc: 0.8548\n",
      "Epoch 12/20\n",
      "62/62 [==============================] - 0s 269us/step - loss: 1.0935 - acc: 0.8871\n",
      "Epoch 13/20\n",
      "62/62 [==============================] - 0s 215us/step - loss: 1.0992 - acc: 0.8548\n",
      "Epoch 14/20\n",
      "62/62 [==============================] - 0s 247us/step - loss: 1.0140 - acc: 0.8710\n",
      "Epoch 15/20\n",
      "62/62 [==============================] - 0s 202us/step - loss: 1.0135 - acc: 0.8387\n",
      "Epoch 16/20\n",
      "62/62 [==============================] - 0s 231us/step - loss: 0.9793 - acc: 0.8548\n",
      "Epoch 17/20\n",
      "62/62 [==============================] - 0s 227us/step - loss: 0.9303 - acc: 0.8871\n",
      "Epoch 18/20\n",
      "62/62 [==============================] - 0s 209us/step - loss: 0.8826 - acc: 0.8871\n",
      "Epoch 19/20\n",
      "62/62 [==============================] - 0s 274us/step - loss: 0.8584 - acc: 0.8387\n",
      "Epoch 20/20\n",
      "62/62 [==============================] - 0s 202us/step - loss: 0.8304 - acc: 0.8710\n",
      "31/31 [==============================] - 0s 10ms/step\n",
      "62/62 [==============================] - 0s 94us/step\n",
      "[CV] .................... epochs=20, lr=0.001, nodes=32, total=   1.7s\n",
      "[CV] epochs=20, lr=0.001, nodes=32 ...................................\n",
      "Epoch 1/20\n",
      "62/62 [==============================] - 1s 12ms/step - loss: 3.0773 - acc: 0.0323\n",
      "Epoch 2/20\n",
      "62/62 [==============================] - 0s 208us/step - loss: 2.5295 - acc: 0.2903\n",
      "Epoch 3/20\n",
      "62/62 [==============================] - 0s 207us/step - loss: 2.1559 - acc: 0.5484\n",
      "Epoch 4/20\n",
      "62/62 [==============================] - 0s 207us/step - loss: 2.0226 - acc: 0.5806\n",
      "Epoch 5/20\n",
      "62/62 [==============================] - 0s 194us/step - loss: 1.8595 - acc: 0.6774\n",
      "Epoch 6/20\n",
      "62/62 [==============================] - 0s 186us/step - loss: 1.7587 - acc: 0.7742\n",
      "Epoch 7/20\n",
      "62/62 [==============================] - 0s 186us/step - loss: 1.6218 - acc: 0.8387\n",
      "Epoch 8/20\n",
      "62/62 [==============================] - 0s 194us/step - loss: 1.5235 - acc: 0.8226\n",
      "Epoch 9/20\n",
      "62/62 [==============================] - 0s 185us/step - loss: 1.3925 - acc: 0.8710\n",
      "Epoch 10/20\n",
      "62/62 [==============================] - 0s 196us/step - loss: 1.3543 - acc: 0.8871\n",
      "Epoch 11/20\n",
      "62/62 [==============================] - 0s 166us/step - loss: 1.3015 - acc: 0.8871\n",
      "Epoch 12/20\n",
      "62/62 [==============================] - 0s 171us/step - loss: 1.1883 - acc: 0.8871\n",
      "Epoch 13/20\n",
      "62/62 [==============================] - 0s 175us/step - loss: 1.2266 - acc: 0.8710\n",
      "Epoch 14/20\n",
      "62/62 [==============================] - 0s 184us/step - loss: 1.0929 - acc: 0.8387\n",
      "Epoch 15/20\n",
      "62/62 [==============================] - 0s 190us/step - loss: 1.1212 - acc: 0.9194\n",
      "Epoch 16/20\n",
      "62/62 [==============================] - 0s 253us/step - loss: 1.0473 - acc: 0.9194\n",
      "Epoch 17/20\n",
      "62/62 [==============================] - 0s 200us/step - loss: 1.0923 - acc: 0.8548\n",
      "Epoch 18/20\n",
      "62/62 [==============================] - 0s 209us/step - loss: 1.0554 - acc: 0.8871\n",
      "Epoch 19/20\n",
      "62/62 [==============================] - 0s 192us/step - loss: 0.9776 - acc: 0.8226\n",
      "Epoch 20/20\n",
      "62/62 [==============================] - 0s 187us/step - loss: 1.0057 - acc: 0.8710\n",
      "31/31 [==============================] - 0s 10ms/step\n",
      "62/62 [==============================] - 0s 115us/step\n",
      "[CV] .................... epochs=20, lr=0.001, nodes=32, total=   1.6s\n",
      "[CV] epochs=20, lr=0.001, nodes=32 ...................................\n",
      "Epoch 1/20\n",
      "62/62 [==============================] - 1s 14ms/step - loss: 3.0424 - acc: 0.1290\n",
      "Epoch 2/20\n",
      "62/62 [==============================] - 0s 301us/step - loss: 2.4181 - acc: 0.4839\n",
      "Epoch 3/20\n",
      "62/62 [==============================] - 0s 207us/step - loss: 2.0864 - acc: 0.6774\n",
      "Epoch 4/20\n",
      "62/62 [==============================] - 0s 228us/step - loss: 1.9549 - acc: 0.6613\n",
      "Epoch 5/20\n",
      "62/62 [==============================] - 0s 213us/step - loss: 1.7715 - acc: 0.7903\n",
      "Epoch 6/20\n",
      "62/62 [==============================] - 0s 281us/step - loss: 1.6533 - acc: 0.7903\n",
      "Epoch 7/20\n",
      "62/62 [==============================] - 0s 255us/step - loss: 1.6359 - acc: 0.7742\n",
      "Epoch 8/20\n",
      "62/62 [==============================] - 0s 235us/step - loss: 1.4314 - acc: 0.8387\n",
      "Epoch 9/20\n",
      "62/62 [==============================] - 0s 230us/step - loss: 1.3538 - acc: 0.7903\n",
      "Epoch 10/20\n",
      "62/62 [==============================] - 0s 269us/step - loss: 1.3172 - acc: 0.8387\n",
      "Epoch 11/20\n",
      "62/62 [==============================] - 0s 293us/step - loss: 1.2121 - acc: 0.8548\n",
      "Epoch 12/20\n",
      "62/62 [==============================] - 0s 230us/step - loss: 1.0841 - acc: 0.8710\n",
      "Epoch 13/20\n",
      "62/62 [==============================] - 0s 226us/step - loss: 1.1583 - acc: 0.8548\n",
      "Epoch 14/20\n",
      "62/62 [==============================] - 0s 257us/step - loss: 1.1490 - acc: 0.8387\n",
      "Epoch 15/20\n",
      "62/62 [==============================] - 0s 247us/step - loss: 1.0692 - acc: 0.8871\n",
      "Epoch 16/20\n"
     ]
    },
    {
     "name": "stdout",
     "output_type": "stream",
     "text": [
      "62/62 [==============================] - 0s 300us/step - loss: 1.0236 - acc: 0.9194\n",
      "Epoch 17/20\n",
      "62/62 [==============================] - 0s 279us/step - loss: 0.9782 - acc: 0.8548\n",
      "Epoch 18/20\n",
      "62/62 [==============================] - 0s 217us/step - loss: 1.0061 - acc: 0.8548\n",
      "Epoch 19/20\n",
      "62/62 [==============================] - 0s 224us/step - loss: 0.9581 - acc: 0.8387\n",
      "Epoch 20/20\n",
      "62/62 [==============================] - 0s 251us/step - loss: 1.0055 - acc: 0.8065\n",
      "31/31 [==============================] - 0s 13ms/step\n",
      "62/62 [==============================] - 0s 175us/step\n",
      "[CV] .................... epochs=20, lr=0.001, nodes=32, total=   1.9s\n",
      "[CV] epochs=20, lr=0.002, nodes=16 ...................................\n",
      "Epoch 1/20\n",
      "62/62 [==============================] - 1s 14ms/step - loss: 2.8171 - acc: 0.1613\n",
      "Epoch 2/20\n",
      "62/62 [==============================] - 0s 185us/step - loss: 2.1704 - acc: 0.4355\n",
      "Epoch 3/20\n",
      "62/62 [==============================] - 0s 205us/step - loss: 1.8330 - acc: 0.5806\n",
      "Epoch 4/20\n",
      "62/62 [==============================] - 0s 220us/step - loss: 1.5728 - acc: 0.7097\n",
      "Epoch 5/20\n",
      "62/62 [==============================] - 0s 260us/step - loss: 1.4861 - acc: 0.6935\n",
      "Epoch 6/20\n",
      "62/62 [==============================] - 0s 215us/step - loss: 1.3070 - acc: 0.7419\n",
      "Epoch 7/20\n",
      "62/62 [==============================] - 0s 229us/step - loss: 1.1683 - acc: 0.8226\n",
      "Epoch 8/20\n",
      "62/62 [==============================] - 0s 206us/step - loss: 1.2704 - acc: 0.7903\n",
      "Epoch 9/20\n",
      "62/62 [==============================] - 0s 221us/step - loss: 1.0735 - acc: 0.8548\n",
      "Epoch 10/20\n",
      "62/62 [==============================] - 0s 240us/step - loss: 1.0317 - acc: 0.7419\n",
      "Epoch 11/20\n",
      "62/62 [==============================] - 0s 217us/step - loss: 1.0015 - acc: 0.7903\n",
      "Epoch 12/20\n",
      "62/62 [==============================] - 0s 191us/step - loss: 1.0268 - acc: 0.8065\n",
      "Epoch 13/20\n",
      "62/62 [==============================] - 0s 228us/step - loss: 0.9963 - acc: 0.8387\n",
      "Epoch 14/20\n",
      "62/62 [==============================] - 0s 189us/step - loss: 0.9578 - acc: 0.8387\n",
      "Epoch 15/20\n",
      "62/62 [==============================] - 0s 238us/step - loss: 0.8228 - acc: 0.8548\n",
      "Epoch 16/20\n",
      "62/62 [==============================] - 0s 257us/step - loss: 0.9748 - acc: 0.7581\n",
      "Epoch 17/20\n",
      "62/62 [==============================] - 0s 231us/step - loss: 0.8785 - acc: 0.8226\n",
      "Epoch 18/20\n",
      "62/62 [==============================] - 0s 201us/step - loss: 0.7263 - acc: 0.8710\n",
      "Epoch 19/20\n",
      "62/62 [==============================] - 0s 237us/step - loss: 0.9084 - acc: 0.8548\n",
      "Epoch 20/20\n",
      "62/62 [==============================] - 0s 193us/step - loss: 0.7783 - acc: 0.8387\n",
      "31/31 [==============================] - 0s 11ms/step\n",
      "62/62 [==============================] - 0s 99us/step\n",
      "[CV] .................... epochs=20, lr=0.002, nodes=16, total=   1.9s\n",
      "[CV] epochs=20, lr=0.002, nodes=16 ...................................\n",
      "Epoch 1/20\n",
      "62/62 [==============================] - 1s 14ms/step - loss: 3.0430 - acc: 0.1452\n",
      "Epoch 2/20\n",
      "62/62 [==============================] - 0s 208us/step - loss: 2.4771 - acc: 0.4355\n",
      "Epoch 3/20\n",
      "62/62 [==============================] - 0s 198us/step - loss: 2.2627 - acc: 0.4677\n",
      "Epoch 4/20\n",
      "62/62 [==============================] - 0s 190us/step - loss: 2.1171 - acc: 0.5806\n",
      "Epoch 5/20\n",
      "62/62 [==============================] - 0s 193us/step - loss: 2.1159 - acc: 0.5484\n",
      "Epoch 6/20\n",
      "62/62 [==============================] - 0s 223us/step - loss: 1.9878 - acc: 0.4677\n",
      "Epoch 7/20\n",
      "62/62 [==============================] - 0s 191us/step - loss: 1.7984 - acc: 0.6452\n",
      "Epoch 8/20\n",
      "62/62 [==============================] - 0s 178us/step - loss: 1.6879 - acc: 0.6935\n",
      "Epoch 9/20\n",
      "62/62 [==============================] - 0s 237us/step - loss: 1.8285 - acc: 0.5484\n",
      "Epoch 10/20\n",
      "62/62 [==============================] - 0s 254us/step - loss: 1.6720 - acc: 0.6613\n",
      "Epoch 11/20\n",
      "62/62 [==============================] - 0s 189us/step - loss: 1.6917 - acc: 0.6452\n",
      "Epoch 12/20\n",
      "62/62 [==============================] - 0s 200us/step - loss: 1.6946 - acc: 0.6452\n",
      "Epoch 13/20\n",
      "62/62 [==============================] - 0s 210us/step - loss: 1.4349 - acc: 0.8226\n",
      "Epoch 14/20\n",
      "62/62 [==============================] - 0s 256us/step - loss: 1.4398 - acc: 0.8226\n",
      "Epoch 15/20\n",
      "62/62 [==============================] - 0s 184us/step - loss: 1.4756 - acc: 0.6774\n",
      "Epoch 16/20\n",
      "62/62 [==============================] - 0s 200us/step - loss: 1.2904 - acc: 0.9032\n",
      "Epoch 17/20\n",
      "62/62 [==============================] - 0s 202us/step - loss: 1.3078 - acc: 0.8226\n",
      "Epoch 18/20\n",
      "62/62 [==============================] - 0s 239us/step - loss: 1.3613 - acc: 0.7581\n",
      "Epoch 19/20\n",
      "62/62 [==============================] - 0s 197us/step - loss: 1.2378 - acc: 0.7419\n",
      "Epoch 20/20\n",
      "62/62 [==============================] - 0s 202us/step - loss: 1.1658 - acc: 0.8387\n",
      "31/31 [==============================] - 0s 11ms/step\n",
      "62/62 [==============================] - 0s 107us/step\n",
      "[CV] .................... epochs=20, lr=0.002, nodes=16, total=   1.9s\n",
      "[CV] epochs=20, lr=0.002, nodes=16 ...................................\n",
      "Epoch 1/20\n",
      "62/62 [==============================] - 1s 17ms/step - loss: 2.9558 - acc: 0.1774\n",
      "Epoch 2/20\n",
      "62/62 [==============================] - 0s 178us/step - loss: 2.2327 - acc: 0.5645\n",
      "Epoch 3/20\n",
      "62/62 [==============================] - 0s 195us/step - loss: 2.0793 - acc: 0.6613\n",
      "Epoch 4/20\n",
      "62/62 [==============================] - 0s 195us/step - loss: 1.8488 - acc: 0.6774\n",
      "Epoch 5/20\n",
      "62/62 [==============================] - 0s 195us/step - loss: 1.6821 - acc: 0.6935\n",
      "Epoch 6/20\n",
      "62/62 [==============================] - 0s 239us/step - loss: 1.4765 - acc: 0.7419\n",
      "Epoch 7/20\n",
      "62/62 [==============================] - 0s 222us/step - loss: 1.5018 - acc: 0.6935\n",
      "Epoch 8/20\n",
      "62/62 [==============================] - 0s 217us/step - loss: 1.3108 - acc: 0.7742\n",
      "Epoch 9/20\n",
      "62/62 [==============================] - 0s 204us/step - loss: 1.2863 - acc: 0.7097\n",
      "Epoch 10/20\n",
      "62/62 [==============================] - 0s 225us/step - loss: 1.2232 - acc: 0.7258\n",
      "Epoch 11/20\n",
      "62/62 [==============================] - 0s 195us/step - loss: 1.2492 - acc: 0.7097\n",
      "Epoch 12/20\n",
      "62/62 [==============================] - 0s 220us/step - loss: 1.2314 - acc: 0.7742\n",
      "Epoch 13/20\n",
      "62/62 [==============================] - 0s 195us/step - loss: 1.2164 - acc: 0.7258\n",
      "Epoch 14/20\n",
      "62/62 [==============================] - 0s 188us/step - loss: 1.1362 - acc: 0.7581\n",
      "Epoch 15/20\n",
      "62/62 [==============================] - 0s 243us/step - loss: 1.2025 - acc: 0.8226\n",
      "Epoch 16/20\n",
      "62/62 [==============================] - 0s 238us/step - loss: 1.1690 - acc: 0.7742\n",
      "Epoch 17/20\n",
      "62/62 [==============================] - 0s 223us/step - loss: 1.0757 - acc: 0.8065\n",
      "Epoch 18/20\n",
      "62/62 [==============================] - 0s 199us/step - loss: 1.0327 - acc: 0.8226\n",
      "Epoch 19/20\n",
      "62/62 [==============================] - 0s 189us/step - loss: 1.1237 - acc: 0.7419\n",
      "Epoch 20/20\n",
      "62/62 [==============================] - 0s 245us/step - loss: 1.0472 - acc: 0.7581\n",
      "31/31 [==============================] - 0s 14ms/step\n",
      "62/62 [==============================] - 0s 125us/step\n",
      "[CV] .................... epochs=20, lr=0.002, nodes=16, total=   2.3s\n",
      "[CV] epochs=20, lr=0.002, nodes=32 ...................................\n",
      "Epoch 1/20\n"
     ]
    },
    {
     "ename": "KeyboardInterrupt",
     "evalue": "",
     "output_type": "error",
     "traceback": [
      "\u001b[0;31m---------------------------------------------------------------------------\u001b[0m",
      "\u001b[0;31mKeyboardInterrupt\u001b[0m                         Traceback (most recent call last)",
      "\u001b[0;32m<ipython-input-64-0222770f62cf>\u001b[0m in \u001b[0;36m<module>\u001b[0;34m()\u001b[0m\n\u001b[1;32m      2\u001b[0m \u001b[0mparam_grid\u001b[0m \u001b[0;34m=\u001b[0m \u001b[0mdict\u001b[0m\u001b[0;34m(\u001b[0m\u001b[0mepochs\u001b[0m\u001b[0;34m=\u001b[0m\u001b[0mepochs\u001b[0m\u001b[0;34m,\u001b[0m\u001b[0mnodes\u001b[0m\u001b[0;34m=\u001b[0m\u001b[0mnodes\u001b[0m\u001b[0;34m,\u001b[0m \u001b[0mlr\u001b[0m\u001b[0;34m=\u001b[0m\u001b[0mlrs\u001b[0m\u001b[0;34m)\u001b[0m\u001b[0;34m\u001b[0m\u001b[0m\n\u001b[1;32m      3\u001b[0m \u001b[0mgrid\u001b[0m \u001b[0;34m=\u001b[0m \u001b[0mGridSearchCV\u001b[0m\u001b[0;34m(\u001b[0m\u001b[0mestimator\u001b[0m\u001b[0;34m=\u001b[0m\u001b[0mmodel\u001b[0m\u001b[0;34m,\u001b[0m \u001b[0mparam_grid\u001b[0m\u001b[0;34m=\u001b[0m\u001b[0mparam_grid\u001b[0m\u001b[0;34m,\u001b[0m \u001b[0mn_jobs\u001b[0m\u001b[0;34m=\u001b[0m\u001b[0;36m1\u001b[0m\u001b[0;34m,\u001b[0m\u001b[0mrefit\u001b[0m\u001b[0;34m=\u001b[0m\u001b[0;32mTrue\u001b[0m\u001b[0;34m,\u001b[0m\u001b[0mverbose\u001b[0m\u001b[0;34m=\u001b[0m\u001b[0;36m2\u001b[0m\u001b[0;34m)\u001b[0m\u001b[0;34m\u001b[0m\u001b[0m\n\u001b[0;32m----> 4\u001b[0;31m \u001b[0mgrid_result\u001b[0m \u001b[0;34m=\u001b[0m \u001b[0mgrid\u001b[0m\u001b[0;34m.\u001b[0m\u001b[0mfit\u001b[0m\u001b[0;34m(\u001b[0m\u001b[0mX_train\u001b[0m\u001b[0;34m,\u001b[0m \u001b[0mY_train\u001b[0m\u001b[0;34m)\u001b[0m\u001b[0;34m\u001b[0m\u001b[0m\n\u001b[0m",
      "\u001b[0;32m~/.pyenv/versions/3.6.4/lib/python3.6/site-packages/sklearn/model_selection/_search.py\u001b[0m in \u001b[0;36mfit\u001b[0;34m(self, X, y, groups, **fit_params)\u001b[0m\n\u001b[1;32m    637\u001b[0m                                   error_score=self.error_score)\n\u001b[1;32m    638\u001b[0m           for parameters, (train, test) in product(candidate_params,\n\u001b[0;32m--> 639\u001b[0;31m                                                    cv.split(X, y, groups)))\n\u001b[0m\u001b[1;32m    640\u001b[0m \u001b[0;34m\u001b[0m\u001b[0m\n\u001b[1;32m    641\u001b[0m         \u001b[0;31m# if one choose to see train score, \"out\" will contain train score info\u001b[0m\u001b[0;34m\u001b[0m\u001b[0;34m\u001b[0m\u001b[0m\n",
      "\u001b[0;32m~/.pyenv/versions/3.6.4/lib/python3.6/site-packages/sklearn/externals/joblib/parallel.py\u001b[0m in \u001b[0;36m__call__\u001b[0;34m(self, iterable)\u001b[0m\n\u001b[1;32m    777\u001b[0m             \u001b[0;31m# was dispatched. In particular this covers the edge\u001b[0m\u001b[0;34m\u001b[0m\u001b[0;34m\u001b[0m\u001b[0m\n\u001b[1;32m    778\u001b[0m             \u001b[0;31m# case of Parallel used with an exhausted iterator.\u001b[0m\u001b[0;34m\u001b[0m\u001b[0;34m\u001b[0m\u001b[0m\n\u001b[0;32m--> 779\u001b[0;31m             \u001b[0;32mwhile\u001b[0m \u001b[0mself\u001b[0m\u001b[0;34m.\u001b[0m\u001b[0mdispatch_one_batch\u001b[0m\u001b[0;34m(\u001b[0m\u001b[0miterator\u001b[0m\u001b[0;34m)\u001b[0m\u001b[0;34m:\u001b[0m\u001b[0;34m\u001b[0m\u001b[0m\n\u001b[0m\u001b[1;32m    780\u001b[0m                 \u001b[0mself\u001b[0m\u001b[0;34m.\u001b[0m\u001b[0m_iterating\u001b[0m \u001b[0;34m=\u001b[0m \u001b[0;32mTrue\u001b[0m\u001b[0;34m\u001b[0m\u001b[0m\n\u001b[1;32m    781\u001b[0m             \u001b[0;32melse\u001b[0m\u001b[0;34m:\u001b[0m\u001b[0;34m\u001b[0m\u001b[0m\n",
      "\u001b[0;32m~/.pyenv/versions/3.6.4/lib/python3.6/site-packages/sklearn/externals/joblib/parallel.py\u001b[0m in \u001b[0;36mdispatch_one_batch\u001b[0;34m(self, iterator)\u001b[0m\n\u001b[1;32m    623\u001b[0m                 \u001b[0;32mreturn\u001b[0m \u001b[0;32mFalse\u001b[0m\u001b[0;34m\u001b[0m\u001b[0m\n\u001b[1;32m    624\u001b[0m             \u001b[0;32melse\u001b[0m\u001b[0;34m:\u001b[0m\u001b[0;34m\u001b[0m\u001b[0m\n\u001b[0;32m--> 625\u001b[0;31m                 \u001b[0mself\u001b[0m\u001b[0;34m.\u001b[0m\u001b[0m_dispatch\u001b[0m\u001b[0;34m(\u001b[0m\u001b[0mtasks\u001b[0m\u001b[0;34m)\u001b[0m\u001b[0;34m\u001b[0m\u001b[0m\n\u001b[0m\u001b[1;32m    626\u001b[0m                 \u001b[0;32mreturn\u001b[0m \u001b[0;32mTrue\u001b[0m\u001b[0;34m\u001b[0m\u001b[0m\n\u001b[1;32m    627\u001b[0m \u001b[0;34m\u001b[0m\u001b[0m\n",
      "\u001b[0;32m~/.pyenv/versions/3.6.4/lib/python3.6/site-packages/sklearn/externals/joblib/parallel.py\u001b[0m in \u001b[0;36m_dispatch\u001b[0;34m(self, batch)\u001b[0m\n\u001b[1;32m    586\u001b[0m         \u001b[0mdispatch_timestamp\u001b[0m \u001b[0;34m=\u001b[0m \u001b[0mtime\u001b[0m\u001b[0;34m.\u001b[0m\u001b[0mtime\u001b[0m\u001b[0;34m(\u001b[0m\u001b[0;34m)\u001b[0m\u001b[0;34m\u001b[0m\u001b[0m\n\u001b[1;32m    587\u001b[0m         \u001b[0mcb\u001b[0m \u001b[0;34m=\u001b[0m \u001b[0mBatchCompletionCallBack\u001b[0m\u001b[0;34m(\u001b[0m\u001b[0mdispatch_timestamp\u001b[0m\u001b[0;34m,\u001b[0m \u001b[0mlen\u001b[0m\u001b[0;34m(\u001b[0m\u001b[0mbatch\u001b[0m\u001b[0;34m)\u001b[0m\u001b[0;34m,\u001b[0m \u001b[0mself\u001b[0m\u001b[0;34m)\u001b[0m\u001b[0;34m\u001b[0m\u001b[0m\n\u001b[0;32m--> 588\u001b[0;31m         \u001b[0mjob\u001b[0m \u001b[0;34m=\u001b[0m \u001b[0mself\u001b[0m\u001b[0;34m.\u001b[0m\u001b[0m_backend\u001b[0m\u001b[0;34m.\u001b[0m\u001b[0mapply_async\u001b[0m\u001b[0;34m(\u001b[0m\u001b[0mbatch\u001b[0m\u001b[0;34m,\u001b[0m \u001b[0mcallback\u001b[0m\u001b[0;34m=\u001b[0m\u001b[0mcb\u001b[0m\u001b[0;34m)\u001b[0m\u001b[0;34m\u001b[0m\u001b[0m\n\u001b[0m\u001b[1;32m    589\u001b[0m         \u001b[0mself\u001b[0m\u001b[0;34m.\u001b[0m\u001b[0m_jobs\u001b[0m\u001b[0;34m.\u001b[0m\u001b[0mappend\u001b[0m\u001b[0;34m(\u001b[0m\u001b[0mjob\u001b[0m\u001b[0;34m)\u001b[0m\u001b[0;34m\u001b[0m\u001b[0m\n\u001b[1;32m    590\u001b[0m \u001b[0;34m\u001b[0m\u001b[0m\n",
      "\u001b[0;32m~/.pyenv/versions/3.6.4/lib/python3.6/site-packages/sklearn/externals/joblib/_parallel_backends.py\u001b[0m in \u001b[0;36mapply_async\u001b[0;34m(self, func, callback)\u001b[0m\n\u001b[1;32m    109\u001b[0m     \u001b[0;32mdef\u001b[0m \u001b[0mapply_async\u001b[0m\u001b[0;34m(\u001b[0m\u001b[0mself\u001b[0m\u001b[0;34m,\u001b[0m \u001b[0mfunc\u001b[0m\u001b[0;34m,\u001b[0m \u001b[0mcallback\u001b[0m\u001b[0;34m=\u001b[0m\u001b[0;32mNone\u001b[0m\u001b[0;34m)\u001b[0m\u001b[0;34m:\u001b[0m\u001b[0;34m\u001b[0m\u001b[0m\n\u001b[1;32m    110\u001b[0m         \u001b[0;34m\"\"\"Schedule a func to be run\"\"\"\u001b[0m\u001b[0;34m\u001b[0m\u001b[0m\n\u001b[0;32m--> 111\u001b[0;31m         \u001b[0mresult\u001b[0m \u001b[0;34m=\u001b[0m \u001b[0mImmediateResult\u001b[0m\u001b[0;34m(\u001b[0m\u001b[0mfunc\u001b[0m\u001b[0;34m)\u001b[0m\u001b[0;34m\u001b[0m\u001b[0m\n\u001b[0m\u001b[1;32m    112\u001b[0m         \u001b[0;32mif\u001b[0m \u001b[0mcallback\u001b[0m\u001b[0;34m:\u001b[0m\u001b[0;34m\u001b[0m\u001b[0m\n\u001b[1;32m    113\u001b[0m             \u001b[0mcallback\u001b[0m\u001b[0;34m(\u001b[0m\u001b[0mresult\u001b[0m\u001b[0;34m)\u001b[0m\u001b[0;34m\u001b[0m\u001b[0m\n",
      "\u001b[0;32m~/.pyenv/versions/3.6.4/lib/python3.6/site-packages/sklearn/externals/joblib/_parallel_backends.py\u001b[0m in \u001b[0;36m__init__\u001b[0;34m(self, batch)\u001b[0m\n\u001b[1;32m    330\u001b[0m         \u001b[0;31m# Don't delay the application, to avoid keeping the input\u001b[0m\u001b[0;34m\u001b[0m\u001b[0;34m\u001b[0m\u001b[0m\n\u001b[1;32m    331\u001b[0m         \u001b[0;31m# arguments in memory\u001b[0m\u001b[0;34m\u001b[0m\u001b[0;34m\u001b[0m\u001b[0m\n\u001b[0;32m--> 332\u001b[0;31m         \u001b[0mself\u001b[0m\u001b[0;34m.\u001b[0m\u001b[0mresults\u001b[0m \u001b[0;34m=\u001b[0m \u001b[0mbatch\u001b[0m\u001b[0;34m(\u001b[0m\u001b[0;34m)\u001b[0m\u001b[0;34m\u001b[0m\u001b[0m\n\u001b[0m\u001b[1;32m    333\u001b[0m \u001b[0;34m\u001b[0m\u001b[0m\n\u001b[1;32m    334\u001b[0m     \u001b[0;32mdef\u001b[0m \u001b[0mget\u001b[0m\u001b[0;34m(\u001b[0m\u001b[0mself\u001b[0m\u001b[0;34m)\u001b[0m\u001b[0;34m:\u001b[0m\u001b[0;34m\u001b[0m\u001b[0m\n",
      "\u001b[0;32m~/.pyenv/versions/3.6.4/lib/python3.6/site-packages/sklearn/externals/joblib/parallel.py\u001b[0m in \u001b[0;36m__call__\u001b[0;34m(self)\u001b[0m\n\u001b[1;32m    129\u001b[0m \u001b[0;34m\u001b[0m\u001b[0m\n\u001b[1;32m    130\u001b[0m     \u001b[0;32mdef\u001b[0m \u001b[0m__call__\u001b[0m\u001b[0;34m(\u001b[0m\u001b[0mself\u001b[0m\u001b[0;34m)\u001b[0m\u001b[0;34m:\u001b[0m\u001b[0;34m\u001b[0m\u001b[0m\n\u001b[0;32m--> 131\u001b[0;31m         \u001b[0;32mreturn\u001b[0m \u001b[0;34m[\u001b[0m\u001b[0mfunc\u001b[0m\u001b[0;34m(\u001b[0m\u001b[0;34m*\u001b[0m\u001b[0margs\u001b[0m\u001b[0;34m,\u001b[0m \u001b[0;34m**\u001b[0m\u001b[0mkwargs\u001b[0m\u001b[0;34m)\u001b[0m \u001b[0;32mfor\u001b[0m \u001b[0mfunc\u001b[0m\u001b[0;34m,\u001b[0m \u001b[0margs\u001b[0m\u001b[0;34m,\u001b[0m \u001b[0mkwargs\u001b[0m \u001b[0;32min\u001b[0m \u001b[0mself\u001b[0m\u001b[0;34m.\u001b[0m\u001b[0mitems\u001b[0m\u001b[0;34m]\u001b[0m\u001b[0;34m\u001b[0m\u001b[0m\n\u001b[0m\u001b[1;32m    132\u001b[0m \u001b[0;34m\u001b[0m\u001b[0m\n\u001b[1;32m    133\u001b[0m     \u001b[0;32mdef\u001b[0m \u001b[0m__len__\u001b[0m\u001b[0;34m(\u001b[0m\u001b[0mself\u001b[0m\u001b[0;34m)\u001b[0m\u001b[0;34m:\u001b[0m\u001b[0;34m\u001b[0m\u001b[0m\n",
      "\u001b[0;32m~/.pyenv/versions/3.6.4/lib/python3.6/site-packages/sklearn/externals/joblib/parallel.py\u001b[0m in \u001b[0;36m<listcomp>\u001b[0;34m(.0)\u001b[0m\n\u001b[1;32m    129\u001b[0m \u001b[0;34m\u001b[0m\u001b[0m\n\u001b[1;32m    130\u001b[0m     \u001b[0;32mdef\u001b[0m \u001b[0m__call__\u001b[0m\u001b[0;34m(\u001b[0m\u001b[0mself\u001b[0m\u001b[0;34m)\u001b[0m\u001b[0;34m:\u001b[0m\u001b[0;34m\u001b[0m\u001b[0m\n\u001b[0;32m--> 131\u001b[0;31m         \u001b[0;32mreturn\u001b[0m \u001b[0;34m[\u001b[0m\u001b[0mfunc\u001b[0m\u001b[0;34m(\u001b[0m\u001b[0;34m*\u001b[0m\u001b[0margs\u001b[0m\u001b[0;34m,\u001b[0m \u001b[0;34m**\u001b[0m\u001b[0mkwargs\u001b[0m\u001b[0;34m)\u001b[0m \u001b[0;32mfor\u001b[0m \u001b[0mfunc\u001b[0m\u001b[0;34m,\u001b[0m \u001b[0margs\u001b[0m\u001b[0;34m,\u001b[0m \u001b[0mkwargs\u001b[0m \u001b[0;32min\u001b[0m \u001b[0mself\u001b[0m\u001b[0;34m.\u001b[0m\u001b[0mitems\u001b[0m\u001b[0;34m]\u001b[0m\u001b[0;34m\u001b[0m\u001b[0m\n\u001b[0m\u001b[1;32m    132\u001b[0m \u001b[0;34m\u001b[0m\u001b[0m\n\u001b[1;32m    133\u001b[0m     \u001b[0;32mdef\u001b[0m \u001b[0m__len__\u001b[0m\u001b[0;34m(\u001b[0m\u001b[0mself\u001b[0m\u001b[0;34m)\u001b[0m\u001b[0;34m:\u001b[0m\u001b[0;34m\u001b[0m\u001b[0m\n",
      "\u001b[0;32m~/.pyenv/versions/3.6.4/lib/python3.6/site-packages/sklearn/model_selection/_validation.py\u001b[0m in \u001b[0;36m_fit_and_score\u001b[0;34m(estimator, X, y, scorer, train, test, verbose, parameters, fit_params, return_train_score, return_parameters, return_n_test_samples, return_times, error_score)\u001b[0m\n\u001b[1;32m    456\u001b[0m             \u001b[0mestimator\u001b[0m\u001b[0;34m.\u001b[0m\u001b[0mfit\u001b[0m\u001b[0;34m(\u001b[0m\u001b[0mX_train\u001b[0m\u001b[0;34m,\u001b[0m \u001b[0;34m**\u001b[0m\u001b[0mfit_params\u001b[0m\u001b[0;34m)\u001b[0m\u001b[0;34m\u001b[0m\u001b[0m\n\u001b[1;32m    457\u001b[0m         \u001b[0;32melse\u001b[0m\u001b[0;34m:\u001b[0m\u001b[0;34m\u001b[0m\u001b[0m\n\u001b[0;32m--> 458\u001b[0;31m             \u001b[0mestimator\u001b[0m\u001b[0;34m.\u001b[0m\u001b[0mfit\u001b[0m\u001b[0;34m(\u001b[0m\u001b[0mX_train\u001b[0m\u001b[0;34m,\u001b[0m \u001b[0my_train\u001b[0m\u001b[0;34m,\u001b[0m \u001b[0;34m**\u001b[0m\u001b[0mfit_params\u001b[0m\u001b[0;34m)\u001b[0m\u001b[0;34m\u001b[0m\u001b[0m\n\u001b[0m\u001b[1;32m    459\u001b[0m \u001b[0;34m\u001b[0m\u001b[0m\n\u001b[1;32m    460\u001b[0m     \u001b[0;32mexcept\u001b[0m \u001b[0mException\u001b[0m \u001b[0;32mas\u001b[0m \u001b[0me\u001b[0m\u001b[0;34m:\u001b[0m\u001b[0;34m\u001b[0m\u001b[0m\n",
      "\u001b[0;32m~/.pyenv/versions/3.6.4/lib/python3.6/site-packages/keras/wrappers/scikit_learn.py\u001b[0m in \u001b[0;36mfit\u001b[0;34m(self, x, y, sample_weight, **kwargs)\u001b[0m\n\u001b[1;32m    207\u001b[0m         \u001b[0;32mif\u001b[0m \u001b[0msample_weight\u001b[0m \u001b[0;32mis\u001b[0m \u001b[0;32mnot\u001b[0m \u001b[0;32mNone\u001b[0m\u001b[0;34m:\u001b[0m\u001b[0;34m\u001b[0m\u001b[0m\n\u001b[1;32m    208\u001b[0m             \u001b[0mkwargs\u001b[0m\u001b[0;34m[\u001b[0m\u001b[0;34m'sample_weight'\u001b[0m\u001b[0;34m]\u001b[0m \u001b[0;34m=\u001b[0m \u001b[0msample_weight\u001b[0m\u001b[0;34m\u001b[0m\u001b[0m\n\u001b[0;32m--> 209\u001b[0;31m         \u001b[0;32mreturn\u001b[0m \u001b[0msuper\u001b[0m\u001b[0;34m(\u001b[0m\u001b[0mKerasClassifier\u001b[0m\u001b[0;34m,\u001b[0m \u001b[0mself\u001b[0m\u001b[0;34m)\u001b[0m\u001b[0;34m.\u001b[0m\u001b[0mfit\u001b[0m\u001b[0;34m(\u001b[0m\u001b[0mx\u001b[0m\u001b[0;34m,\u001b[0m \u001b[0my\u001b[0m\u001b[0;34m,\u001b[0m \u001b[0;34m**\u001b[0m\u001b[0mkwargs\u001b[0m\u001b[0;34m)\u001b[0m\u001b[0;34m\u001b[0m\u001b[0m\n\u001b[0m\u001b[1;32m    210\u001b[0m \u001b[0;34m\u001b[0m\u001b[0m\n\u001b[1;32m    211\u001b[0m     \u001b[0;32mdef\u001b[0m \u001b[0mpredict\u001b[0m\u001b[0;34m(\u001b[0m\u001b[0mself\u001b[0m\u001b[0;34m,\u001b[0m \u001b[0mx\u001b[0m\u001b[0;34m,\u001b[0m \u001b[0;34m**\u001b[0m\u001b[0mkwargs\u001b[0m\u001b[0;34m)\u001b[0m\u001b[0;34m:\u001b[0m\u001b[0;34m\u001b[0m\u001b[0m\n",
      "\u001b[0;32m~/.pyenv/versions/3.6.4/lib/python3.6/site-packages/keras/wrappers/scikit_learn.py\u001b[0m in \u001b[0;36mfit\u001b[0;34m(self, x, y, **kwargs)\u001b[0m\n\u001b[1;32m    149\u001b[0m         \u001b[0mfit_args\u001b[0m\u001b[0;34m.\u001b[0m\u001b[0mupdate\u001b[0m\u001b[0;34m(\u001b[0m\u001b[0mkwargs\u001b[0m\u001b[0;34m)\u001b[0m\u001b[0;34m\u001b[0m\u001b[0m\n\u001b[1;32m    150\u001b[0m \u001b[0;34m\u001b[0m\u001b[0m\n\u001b[0;32m--> 151\u001b[0;31m         \u001b[0mhistory\u001b[0m \u001b[0;34m=\u001b[0m \u001b[0mself\u001b[0m\u001b[0;34m.\u001b[0m\u001b[0mmodel\u001b[0m\u001b[0;34m.\u001b[0m\u001b[0mfit\u001b[0m\u001b[0;34m(\u001b[0m\u001b[0mx\u001b[0m\u001b[0;34m,\u001b[0m \u001b[0my\u001b[0m\u001b[0;34m,\u001b[0m \u001b[0;34m**\u001b[0m\u001b[0mfit_args\u001b[0m\u001b[0;34m)\u001b[0m\u001b[0;34m\u001b[0m\u001b[0m\n\u001b[0m\u001b[1;32m    152\u001b[0m \u001b[0;34m\u001b[0m\u001b[0m\n\u001b[1;32m    153\u001b[0m         \u001b[0;32mreturn\u001b[0m \u001b[0mhistory\u001b[0m\u001b[0;34m\u001b[0m\u001b[0m\n",
      "\u001b[0;32m~/.pyenv/versions/3.6.4/lib/python3.6/site-packages/keras/models.py\u001b[0m in \u001b[0;36mfit\u001b[0;34m(self, x, y, batch_size, epochs, verbose, callbacks, validation_split, validation_data, shuffle, class_weight, sample_weight, initial_epoch, steps_per_epoch, validation_steps, **kwargs)\u001b[0m\n\u001b[1;32m    961\u001b[0m                               \u001b[0minitial_epoch\u001b[0m\u001b[0;34m=\u001b[0m\u001b[0minitial_epoch\u001b[0m\u001b[0;34m,\u001b[0m\u001b[0;34m\u001b[0m\u001b[0m\n\u001b[1;32m    962\u001b[0m                               \u001b[0msteps_per_epoch\u001b[0m\u001b[0;34m=\u001b[0m\u001b[0msteps_per_epoch\u001b[0m\u001b[0;34m,\u001b[0m\u001b[0;34m\u001b[0m\u001b[0m\n\u001b[0;32m--> 963\u001b[0;31m                               validation_steps=validation_steps)\n\u001b[0m\u001b[1;32m    964\u001b[0m \u001b[0;34m\u001b[0m\u001b[0m\n\u001b[1;32m    965\u001b[0m     def evaluate(self, x=None, y=None,\n",
      "\u001b[0;32m~/.pyenv/versions/3.6.4/lib/python3.6/site-packages/keras/engine/training.py\u001b[0m in \u001b[0;36mfit\u001b[0;34m(self, x, y, batch_size, epochs, verbose, callbacks, validation_split, validation_data, shuffle, class_weight, sample_weight, initial_epoch, steps_per_epoch, validation_steps, **kwargs)\u001b[0m\n\u001b[1;32m   1703\u001b[0m                               \u001b[0minitial_epoch\u001b[0m\u001b[0;34m=\u001b[0m\u001b[0minitial_epoch\u001b[0m\u001b[0;34m,\u001b[0m\u001b[0;34m\u001b[0m\u001b[0m\n\u001b[1;32m   1704\u001b[0m                               \u001b[0msteps_per_epoch\u001b[0m\u001b[0;34m=\u001b[0m\u001b[0msteps_per_epoch\u001b[0m\u001b[0;34m,\u001b[0m\u001b[0;34m\u001b[0m\u001b[0m\n\u001b[0;32m-> 1705\u001b[0;31m                               validation_steps=validation_steps)\n\u001b[0m\u001b[1;32m   1706\u001b[0m \u001b[0;34m\u001b[0m\u001b[0m\n\u001b[1;32m   1707\u001b[0m     def evaluate(self, x=None, y=None,\n",
      "\u001b[0;32m~/.pyenv/versions/3.6.4/lib/python3.6/site-packages/keras/engine/training.py\u001b[0m in \u001b[0;36m_fit_loop\u001b[0;34m(self, f, ins, out_labels, batch_size, epochs, verbose, callbacks, val_f, val_ins, shuffle, callback_metrics, initial_epoch, steps_per_epoch, validation_steps)\u001b[0m\n\u001b[1;32m   1233\u001b[0m                         \u001b[0mins_batch\u001b[0m\u001b[0;34m[\u001b[0m\u001b[0mi\u001b[0m\u001b[0;34m]\u001b[0m \u001b[0;34m=\u001b[0m \u001b[0mins_batch\u001b[0m\u001b[0;34m[\u001b[0m\u001b[0mi\u001b[0m\u001b[0;34m]\u001b[0m\u001b[0;34m.\u001b[0m\u001b[0mtoarray\u001b[0m\u001b[0;34m(\u001b[0m\u001b[0;34m)\u001b[0m\u001b[0;34m\u001b[0m\u001b[0m\n\u001b[1;32m   1234\u001b[0m \u001b[0;34m\u001b[0m\u001b[0m\n\u001b[0;32m-> 1235\u001b[0;31m                     \u001b[0mouts\u001b[0m \u001b[0;34m=\u001b[0m \u001b[0mf\u001b[0m\u001b[0;34m(\u001b[0m\u001b[0mins_batch\u001b[0m\u001b[0;34m)\u001b[0m\u001b[0;34m\u001b[0m\u001b[0m\n\u001b[0m\u001b[1;32m   1236\u001b[0m                     \u001b[0;32mif\u001b[0m \u001b[0;32mnot\u001b[0m \u001b[0misinstance\u001b[0m\u001b[0;34m(\u001b[0m\u001b[0mouts\u001b[0m\u001b[0;34m,\u001b[0m \u001b[0mlist\u001b[0m\u001b[0;34m)\u001b[0m\u001b[0;34m:\u001b[0m\u001b[0;34m\u001b[0m\u001b[0m\n\u001b[1;32m   1237\u001b[0m                         \u001b[0mouts\u001b[0m \u001b[0;34m=\u001b[0m \u001b[0;34m[\u001b[0m\u001b[0mouts\u001b[0m\u001b[0;34m]\u001b[0m\u001b[0;34m\u001b[0m\u001b[0m\n",
      "\u001b[0;32m~/.pyenv/versions/3.6.4/lib/python3.6/site-packages/keras/backend/tensorflow_backend.py\u001b[0m in \u001b[0;36m__call__\u001b[0;34m(self, inputs)\u001b[0m\n\u001b[1;32m   2474\u001b[0m             \u001b[0mfeed_dict\u001b[0m\u001b[0;34m[\u001b[0m\u001b[0mtensor\u001b[0m\u001b[0;34m]\u001b[0m \u001b[0;34m=\u001b[0m \u001b[0mvalue\u001b[0m\u001b[0;34m\u001b[0m\u001b[0m\n\u001b[1;32m   2475\u001b[0m         \u001b[0mfetches\u001b[0m \u001b[0;34m=\u001b[0m \u001b[0mself\u001b[0m\u001b[0;34m.\u001b[0m\u001b[0moutputs\u001b[0m \u001b[0;34m+\u001b[0m \u001b[0;34m[\u001b[0m\u001b[0mself\u001b[0m\u001b[0;34m.\u001b[0m\u001b[0mupdates_op\u001b[0m\u001b[0;34m]\u001b[0m \u001b[0;34m+\u001b[0m \u001b[0mself\u001b[0m\u001b[0;34m.\u001b[0m\u001b[0mfetches\u001b[0m\u001b[0;34m\u001b[0m\u001b[0m\n\u001b[0;32m-> 2476\u001b[0;31m         \u001b[0msession\u001b[0m \u001b[0;34m=\u001b[0m \u001b[0mget_session\u001b[0m\u001b[0;34m(\u001b[0m\u001b[0;34m)\u001b[0m\u001b[0;34m\u001b[0m\u001b[0m\n\u001b[0m\u001b[1;32m   2477\u001b[0m         updated = session.run(fetches=fetches, feed_dict=feed_dict,\n\u001b[1;32m   2478\u001b[0m                               **self.session_kwargs)\n",
      "\u001b[0;32m~/.pyenv/versions/3.6.4/lib/python3.6/site-packages/keras/backend/tensorflow_backend.py\u001b[0m in \u001b[0;36mget_session\u001b[0;34m()\u001b[0m\n\u001b[1;32m    190\u001b[0m                 \u001b[0;31m# not already marked as initialized.\u001b[0m\u001b[0;34m\u001b[0m\u001b[0;34m\u001b[0m\u001b[0m\n\u001b[1;32m    191\u001b[0m                 is_initialized = session.run(\n\u001b[0;32m--> 192\u001b[0;31m                     [tf.is_variable_initialized(v) for v in candidate_vars])\n\u001b[0m\u001b[1;32m    193\u001b[0m                 \u001b[0muninitialized_vars\u001b[0m \u001b[0;34m=\u001b[0m \u001b[0;34m[\u001b[0m\u001b[0;34m]\u001b[0m\u001b[0;34m\u001b[0m\u001b[0m\n\u001b[1;32m    194\u001b[0m                 \u001b[0;32mfor\u001b[0m \u001b[0mflag\u001b[0m\u001b[0;34m,\u001b[0m \u001b[0mv\u001b[0m \u001b[0;32min\u001b[0m \u001b[0mzip\u001b[0m\u001b[0;34m(\u001b[0m\u001b[0mis_initialized\u001b[0m\u001b[0;34m,\u001b[0m \u001b[0mcandidate_vars\u001b[0m\u001b[0;34m)\u001b[0m\u001b[0;34m:\u001b[0m\u001b[0;34m\u001b[0m\u001b[0m\n",
      "\u001b[0;32m~/.pyenv/versions/3.6.4/lib/python3.6/site-packages/tensorflow/python/client/session.py\u001b[0m in \u001b[0;36mrun\u001b[0;34m(self, fetches, feed_dict, options, run_metadata)\u001b[0m\n\u001b[1;32m    903\u001b[0m     \u001b[0;32mtry\u001b[0m\u001b[0;34m:\u001b[0m\u001b[0;34m\u001b[0m\u001b[0m\n\u001b[1;32m    904\u001b[0m       result = self._run(None, fetches, feed_dict, options_ptr,\n\u001b[0;32m--> 905\u001b[0;31m                          run_metadata_ptr)\n\u001b[0m\u001b[1;32m    906\u001b[0m       \u001b[0;32mif\u001b[0m \u001b[0mrun_metadata\u001b[0m\u001b[0;34m:\u001b[0m\u001b[0;34m\u001b[0m\u001b[0m\n\u001b[1;32m    907\u001b[0m         \u001b[0mproto_data\u001b[0m \u001b[0;34m=\u001b[0m \u001b[0mtf_session\u001b[0m\u001b[0;34m.\u001b[0m\u001b[0mTF_GetBuffer\u001b[0m\u001b[0;34m(\u001b[0m\u001b[0mrun_metadata_ptr\u001b[0m\u001b[0;34m)\u001b[0m\u001b[0;34m\u001b[0m\u001b[0m\n",
      "\u001b[0;32m~/.pyenv/versions/3.6.4/lib/python3.6/site-packages/tensorflow/python/client/session.py\u001b[0m in \u001b[0;36m_run\u001b[0;34m(self, handle, fetches, feed_dict, options, run_metadata)\u001b[0m\n\u001b[1;32m   1138\u001b[0m     \u001b[0;32mif\u001b[0m \u001b[0mfinal_fetches\u001b[0m \u001b[0;32mor\u001b[0m \u001b[0mfinal_targets\u001b[0m \u001b[0;32mor\u001b[0m \u001b[0;34m(\u001b[0m\u001b[0mhandle\u001b[0m \u001b[0;32mand\u001b[0m \u001b[0mfeed_dict_tensor\u001b[0m\u001b[0;34m)\u001b[0m\u001b[0;34m:\u001b[0m\u001b[0;34m\u001b[0m\u001b[0m\n\u001b[1;32m   1139\u001b[0m       results = self._do_run(handle, final_targets, final_fetches,\n\u001b[0;32m-> 1140\u001b[0;31m                              feed_dict_tensor, options, run_metadata)\n\u001b[0m\u001b[1;32m   1141\u001b[0m     \u001b[0;32melse\u001b[0m\u001b[0;34m:\u001b[0m\u001b[0;34m\u001b[0m\u001b[0m\n\u001b[1;32m   1142\u001b[0m       \u001b[0mresults\u001b[0m \u001b[0;34m=\u001b[0m \u001b[0;34m[\u001b[0m\u001b[0;34m]\u001b[0m\u001b[0;34m\u001b[0m\u001b[0m\n",
      "\u001b[0;32m~/.pyenv/versions/3.6.4/lib/python3.6/site-packages/tensorflow/python/client/session.py\u001b[0m in \u001b[0;36m_do_run\u001b[0;34m(self, handle, target_list, fetch_list, feed_dict, options, run_metadata)\u001b[0m\n\u001b[1;32m   1319\u001b[0m     \u001b[0;32mif\u001b[0m \u001b[0mhandle\u001b[0m \u001b[0;32mis\u001b[0m \u001b[0;32mNone\u001b[0m\u001b[0;34m:\u001b[0m\u001b[0;34m\u001b[0m\u001b[0m\n\u001b[1;32m   1320\u001b[0m       return self._do_call(_run_fn, feeds, fetches, targets, options,\n\u001b[0;32m-> 1321\u001b[0;31m                            run_metadata)\n\u001b[0m\u001b[1;32m   1322\u001b[0m     \u001b[0;32melse\u001b[0m\u001b[0;34m:\u001b[0m\u001b[0;34m\u001b[0m\u001b[0m\n\u001b[1;32m   1323\u001b[0m       \u001b[0;32mreturn\u001b[0m \u001b[0mself\u001b[0m\u001b[0;34m.\u001b[0m\u001b[0m_do_call\u001b[0m\u001b[0;34m(\u001b[0m\u001b[0m_prun_fn\u001b[0m\u001b[0;34m,\u001b[0m \u001b[0mhandle\u001b[0m\u001b[0;34m,\u001b[0m \u001b[0mfeeds\u001b[0m\u001b[0;34m,\u001b[0m \u001b[0mfetches\u001b[0m\u001b[0;34m)\u001b[0m\u001b[0;34m\u001b[0m\u001b[0m\n",
      "\u001b[0;32m~/.pyenv/versions/3.6.4/lib/python3.6/site-packages/tensorflow/python/client/session.py\u001b[0m in \u001b[0;36m_do_call\u001b[0;34m(self, fn, *args)\u001b[0m\n\u001b[1;32m   1325\u001b[0m   \u001b[0;32mdef\u001b[0m \u001b[0m_do_call\u001b[0m\u001b[0;34m(\u001b[0m\u001b[0mself\u001b[0m\u001b[0;34m,\u001b[0m \u001b[0mfn\u001b[0m\u001b[0;34m,\u001b[0m \u001b[0;34m*\u001b[0m\u001b[0margs\u001b[0m\u001b[0;34m)\u001b[0m\u001b[0;34m:\u001b[0m\u001b[0;34m\u001b[0m\u001b[0m\n\u001b[1;32m   1326\u001b[0m     \u001b[0;32mtry\u001b[0m\u001b[0;34m:\u001b[0m\u001b[0;34m\u001b[0m\u001b[0m\n\u001b[0;32m-> 1327\u001b[0;31m       \u001b[0;32mreturn\u001b[0m \u001b[0mfn\u001b[0m\u001b[0;34m(\u001b[0m\u001b[0;34m*\u001b[0m\u001b[0margs\u001b[0m\u001b[0;34m)\u001b[0m\u001b[0;34m\u001b[0m\u001b[0m\n\u001b[0m\u001b[1;32m   1328\u001b[0m     \u001b[0;32mexcept\u001b[0m \u001b[0merrors\u001b[0m\u001b[0;34m.\u001b[0m\u001b[0mOpError\u001b[0m \u001b[0;32mas\u001b[0m \u001b[0me\u001b[0m\u001b[0;34m:\u001b[0m\u001b[0;34m\u001b[0m\u001b[0m\n\u001b[1;32m   1329\u001b[0m       \u001b[0mmessage\u001b[0m \u001b[0;34m=\u001b[0m \u001b[0mcompat\u001b[0m\u001b[0;34m.\u001b[0m\u001b[0mas_text\u001b[0m\u001b[0;34m(\u001b[0m\u001b[0me\u001b[0m\u001b[0;34m.\u001b[0m\u001b[0mmessage\u001b[0m\u001b[0;34m)\u001b[0m\u001b[0;34m\u001b[0m\u001b[0m\n",
      "\u001b[0;32m~/.pyenv/versions/3.6.4/lib/python3.6/site-packages/tensorflow/python/client/session.py\u001b[0m in \u001b[0;36m_run_fn\u001b[0;34m(feed_dict, fetch_list, target_list, options, run_metadata)\u001b[0m\n\u001b[1;32m   1308\u001b[0m     \u001b[0;32mdef\u001b[0m \u001b[0m_run_fn\u001b[0m\u001b[0;34m(\u001b[0m\u001b[0mfeed_dict\u001b[0m\u001b[0;34m,\u001b[0m \u001b[0mfetch_list\u001b[0m\u001b[0;34m,\u001b[0m \u001b[0mtarget_list\u001b[0m\u001b[0;34m,\u001b[0m \u001b[0moptions\u001b[0m\u001b[0;34m,\u001b[0m \u001b[0mrun_metadata\u001b[0m\u001b[0;34m)\u001b[0m\u001b[0;34m:\u001b[0m\u001b[0;34m\u001b[0m\u001b[0m\n\u001b[1;32m   1309\u001b[0m       \u001b[0;31m# Ensure any changes to the graph are reflected in the runtime.\u001b[0m\u001b[0;34m\u001b[0m\u001b[0;34m\u001b[0m\u001b[0m\n\u001b[0;32m-> 1310\u001b[0;31m       \u001b[0mself\u001b[0m\u001b[0;34m.\u001b[0m\u001b[0m_extend_graph\u001b[0m\u001b[0;34m(\u001b[0m\u001b[0;34m)\u001b[0m\u001b[0;34m\u001b[0m\u001b[0m\n\u001b[0m\u001b[1;32m   1311\u001b[0m       return self._call_tf_sessionrun(\n\u001b[1;32m   1312\u001b[0m           options, feed_dict, fetch_list, target_list, run_metadata)\n",
      "\u001b[0;32m~/.pyenv/versions/3.6.4/lib/python3.6/site-packages/tensorflow/python/client/session.py\u001b[0m in \u001b[0;36m_extend_graph\u001b[0;34m(self)\u001b[0m\n\u001b[1;32m   1356\u001b[0m           \u001b[0;32mwith\u001b[0m \u001b[0merrors\u001b[0m\u001b[0;34m.\u001b[0m\u001b[0mraise_exception_on_not_ok_status\u001b[0m\u001b[0;34m(\u001b[0m\u001b[0;34m)\u001b[0m \u001b[0;32mas\u001b[0m \u001b[0mstatus\u001b[0m\u001b[0;34m:\u001b[0m\u001b[0;34m\u001b[0m\u001b[0m\n\u001b[1;32m   1357\u001b[0m             tf_session.TF_ExtendGraph(self._session,\n\u001b[0;32m-> 1358\u001b[0;31m                                       graph_def.SerializeToString(), status)\n\u001b[0m\u001b[1;32m   1359\u001b[0m           \u001b[0mself\u001b[0m\u001b[0;34m.\u001b[0m\u001b[0m_opened\u001b[0m \u001b[0;34m=\u001b[0m \u001b[0;32mTrue\u001b[0m\u001b[0;34m\u001b[0m\u001b[0m\n\u001b[1;32m   1360\u001b[0m \u001b[0;34m\u001b[0m\u001b[0m\n",
      "\u001b[0;31mKeyboardInterrupt\u001b[0m: "
     ]
    }
   ],
   "source": [
    "#start fitting process\n",
    "param_grid = dict(epochs=epochs,nodes=nodes, lr=lrs)\n",
    "grid = GridSearchCV(estimator=model, param_grid=param_grid, n_jobs=1,refit=True,verbose=2)\n",
    "grid_result = grid.fit(X_train, Y_train)"
   ]
  },
  {
   "cell_type": "code",
   "execution_count": null,
   "metadata": {},
   "outputs": [],
   "source": [
    "print(grid_result)"
   ]
  },
  {
   "cell_type": "code",
   "execution_count": null,
   "metadata": {},
   "outputs": [],
   "source": [
    "print('Best estimator : {}'.format (grid.best_estimator_))\n",
    "print('Best score : {}'.format(grid.best_score_))\n",
    "print('Best params : {}'.format(grid.best_params_))"
   ]
  },
  {
   "cell_type": "code",
   "execution_count": null,
   "metadata": {
    "scrolled": true
   },
   "outputs": [],
   "source": [
    "print(grid.cv_results_)"
   ]
  },
  {
   "cell_type": "code",
   "execution_count": null,
   "metadata": {},
   "outputs": [],
   "source": [
    "#predictions\n",
    "predictions = grid.predict(X_test)"
   ]
  },
  {
   "cell_type": "code",
   "execution_count": null,
   "metadata": {},
   "outputs": [],
   "source": [
    "#predictions\n",
    "predict = grid.predict_proba(X_test)\n",
    "print(predict.shape)"
   ]
  },
  {
   "cell_type": "code",
   "execution_count": null,
   "metadata": {},
   "outputs": [],
   "source": [
    "#calculate score\n",
    "loss = log_loss(Y_test,predict)\n",
    "print(\"Log_loss : {}\".format(loss))\n",
    "predict = np.round(predict)\n",
    "loss = hamming_loss(Y_test,predict)\n",
    "print(\"Hamming_loss : {}\".format(loss*100))\n",
    "accuracy = accuracy_score(Y_test,predict)\n",
    "print(\"Accuracy : {}\".format(accuracy*100))"
   ]
  },
  {
   "cell_type": "markdown",
   "metadata": {},
   "source": [
    "## Working through our model's predictions on new data \n",
    "We have 4 example files, let us see what are the predictions on these examples -"
   ]
  },
  {
   "cell_type": "code",
   "execution_count": 65,
   "metadata": {},
   "outputs": [
    {
     "name": "stdout",
     "output_type": "stream",
     "text": [
      "Description:\n",
      "This application helps to practice drawing images with multi colors and write letters and numbers, this app makes you develop interest in painting and creative thinking.\n",
      "\n",
      "Key Features of this Application\n",
      "\n",
      " This app design makes more attractive with kids\n",
      " Magic Slate drawing and writing board with multicolor\n",
      " A digital slate where you can write, draw and clear\n",
      " It's a free app and an off-line app\n",
      " Kids can learn drawing or writing alphabets and numbers\n",
      " Save your kids drawings in your mobile\n",
      " Kids can begin their study with this amazing application\n",
      " Multiple brush sizes are available to choose\n",
      " Share and print your kid's artwork with family and friends\n",
      " Eraser available to make correction\n",
      " Multicolored pallet available to choose and draw painting\n",
      "\n",
      "Don't keep \"Magic Slate\" app a secret! We grow with your support, keep sharing :)\n",
      "\n",
      "Please don't leave negative feedback! Instead, please contact us @ ng.labs108@gmail.com and we'll do our best to solve your issues.\n",
      "\n",
      "Category: Maths and Exam Preparation\n",
      "\n",
      "Description\n",
      "This program is designed for those who want to learn interesting mathematical tricks to speed up the calculating. These tricks will help solve part of the mathematical problems and tasks much faster than classical. Will also be helpful to those who want to hone basics such as the multiplication table\n",
      "\n",
      "Math Tricks Competitive Exam, Vedic Math Tricks, Fast Math Tricks\n",
      "\n",
      "Math Tricks & Shortcuts for Competitive Exam app is a preparatory app on mathematics for various competitive examinations, like, SSC, UPSC, CPO, LIC, GIC and UTI among others.\n",
      "The aim of this app is not only to acquaint the students with various types of problems given in these examinations and how to solve them, but also to teach the students effective ways to tackle each of the problems faster and more effectively.\n",
      "You can also find MCQ on Math tricks.\n",
      "App comes with many functionality like speed test, bookmark, result check etc.\n",
      "\n",
      "maths tricks\n",
      "mental math tricks\n",
      "maths shortcuts\n",
      "mental maths tricks\n",
      "multiplication tricks\n",
      "tricks of maths\n",
      "maths tricks for kids\n",
      "maths short tricks\n",
      "short tricks of maths\n",
      "math short tricks\n",
      "math tricks for kids\n",
      "maths tricks for fast calculation\n",
      "easy maths tricks\n",
      "short tricks for maths\n",
      "quick math tricks\n",
      "tricks in maths\n",
      "simple math tricks\n",
      "maths tricks in hindi\n",
      "shortcuts in maths\n",
      "arithmetic shortcuts\n",
      "quicker math tricks\n",
      "maths shortcut tricks\n",
      "shortcut math\n",
      "tricks for maths\n",
      "short cut math\n",
      "speed maths tricks\n",
      "funny maths tricks\n",
      "easy multiplication\n",
      "math shortcut tricks\n",
      "quicker mathematics\n",
      "shortcut tricks for maths\n",
      "multiplication shortcuts\n",
      "shortcut math tricks\n",
      "fast math tricks\n",
      "maths calculation tricks\n",
      "mathematics tricks of calculation\n",
      "math shortcuts and tricks\n",
      "shortcuts of maths\n",
      "maths short tricks in hindi\n",
      "math shortcut\n",
      "amazing math tricks\n",
      "best math tricks\n",
      "shortcut tricks of maths\n",
      "maths easy tricks\n",
      "arithmetic tricks\n",
      "some maths tricks\n",
      "quicker maths tricks\n",
      "math number tricks\n",
      "tricks for mental math\n",
      "fast maths tricks\n",
      "short math tricks\n",
      "maths magics\n",
      "funny math tricks\n",
      "interesting maths tricks\n",
      "mental arithmetic tricks\n",
      "arithmetic shortcuts and tricks\n",
      "tricks to solve maths\n",
      "short cut tricks of mathematics\n",
      "maths multiplication tricks\n",
      "maths number tricks\n",
      "mathes tricks\n",
      "short tricks in maths\n",
      "magical maths\n",
      "short tricks to solve math problems\n",
      "short tricks of math in hindi\n",
      "shortcut method for multiplication\n",
      "tricks for multiplication\n",
      "fast multiplication tricks\n",
      "shortcut methods for maths\n",
      "maths solving tricks\n",
      "maths simple tricks\n",
      "math short trick in hindi\n",
      "fast calculation tricks\n",
      "short tricks of maths for competitive exam\n",
      "maths shortcut tricks for competitive exam\n",
      "shortcut methods for multiplication\n",
      "shortcut math calculation\n",
      "easy tricks of maths\n",
      "multiplication tricks for large numbers\n",
      "math easy tricks\n",
      "short tricks for maths in hindi\n",
      "maths shortcut methods\n",
      "mental calculation tricks\n",
      "mental calculation\n",
      "math short trick book\n",
      "easy multiplication tricks\n",
      "shortcut tips for maths\n",
      "maths funny tricks\n",
      "easy maths tricks for kids\n",
      "maths calculation shortcuts\n",
      "short cut methods in maths\n",
      "\n",
      "Math Tricks Workout has been meticulously designed not just to share the mathematical tricks but to give you an amazing workout to help you master calculation using the left to right approach. Most of the techniques shared in this app are based on Vedic math tricks that help in mental calculations.\n",
      "\n",
      "This App is designed for those who want to learn mathematical tricks to speed up the calculation.Tricks which are given in Math Tricks app will help to solve mathematical tasks much faster and easily.\n",
      "Description:\n",
      "Learn Spanish, English, German, Portuguese, Korean, French, Hindi, Russian, Turkish, Chinese, Arabic, Italian and Japanese by reading text side by side!\n",
      "\n",
      "Language learning is fun and free with Beelinguapp!\n",
      "\n",
      "Learn a new language with Beelinguapp, the app that lets you read and listen to stories in different languages side by side. Read text and hear audio in the language you are learning, and read the same text in your language to use as a reference.\n",
      "\n",
      "Learn at your own pace with this fun and free language learning app. If you are familiar with language learning audio books, you will love Beelinguapp's innovative method to learn a new language.\n",
      "\n",
      "Ditch the flashcards and pick what languages you want to learn by reading your favorite children's stories, short stories, novels and more side by side. From Spanish to German and more, Beelinguapp teaches you through fun and familiar text.\n",
      "\n",
      "Beelinguapp is fun and easy to use for anyone that wants to learn a new language. Use your native language as a guide and start learning today!\n",
      "\n",
      "Beelinguapp Features:\n",
      "\n",
      "Language Learning Made Easy\n",
      " Learn a new language by reading different stories in a language of your choosing! \n",
      " Beelinguapp gives you the option to read the story in YOUR language to reference what a word or phrase means.\n",
      "\n",
      "Audio Book Reader\n",
      " Spanish, German, French and more languages on easy to listen audio books.\n",
      " Audio book in any language can be listened to even if your phone is sleeping.\n",
      " Learn languages by following the reader of the audio book with a karaoke style animation to know exactly what they are saying.\n",
      " Spanish audio books combined with English, French audio books combined with German  the choice and what language audio book you want to read is yours!\n",
      "\n",
      "Great Stories in Different Languages\n",
      " Side by side readings of your favorite fairy tale stories, novels and more.\n",
      " Learn languages at your own pace and choose only the stories you want to read.\n",
      " Languages, genre and learning level can be sorted make learning languages easy.\n",
      "\n",
      "Learn Different Languages including:\n",
      " English \n",
      " German\n",
      " Spanish\n",
      " Portuguese\n",
      " French\n",
      " Hindi\n",
      " Korean\n",
      " Russian\n",
      " Chinese\n",
      " Arabic\n",
      " Italian\n",
      " Japanese\n",
      " Turkish\n",
      "\n",
      "Learn new languages by reading different stories side by side with Beelinguapp! No memorization and no flashcards needed. Learn languages at your own pace by reading your favorite stories on Beelinguapp!\n",
      "\n",
      "Download Beelinguapp now and start learning languages for free!\n"
     ]
    }
   ],
   "source": [
    "examples = [];\n",
    "files = [ 'MagicSlate.txt', 'MathsTricks.txt' , 'LangAudioBooks.txt'];\n",
    "for file in files: \n",
    "    f = open('examples/'+file,'r')\n",
    "    text = f.read();\n",
    "    print(text);\n",
    "    examples.append(text);\n",
    "    f.close()"
   ]
  },
  {
   "cell_type": "code",
   "execution_count": 68,
   "metadata": {},
   "outputs": [],
   "source": [
    "stem_lemmatize(examples);\n",
    "tf2 = count_vector.transform(examples).toarray();"
   ]
  },
  {
   "cell_type": "code",
   "execution_count": 69,
   "metadata": {},
   "outputs": [
    {
     "name": "stdout",
     "output_type": "stream",
     "text": [
      "(3, 3095)\n"
     ]
    }
   ],
   "source": [
    "print(tf2.shape);"
   ]
  },
  {
   "cell_type": "code",
   "execution_count": 85,
   "metadata": {},
   "outputs": [
    {
     "name": "stdout",
     "output_type": "stream",
     "text": [
      "[[0 0 0 0 0 1 0 0 0]\n",
      " [0 0 0 0 1 0 0 1 0]\n",
      " [1 0 0 0 0 0 0 0 0]]\n"
     ]
    }
   ],
   "source": [
    "result = best_classifier.predict(tf2).toarray();\n",
    "print(result);"
   ]
  },
  {
   "cell_type": "code",
   "execution_count": 89,
   "metadata": {},
   "outputs": [
    {
     "name": "stdout",
     "output_type": "stream",
     "text": [
      "MagicSlate.txt Predicted Categories:Art\n",
      "MathsTricks.txt Predicted Categories:MathsEducational Gaming\n",
      "LangAudioBooks.txt Predicted Categories:Language Learning\n"
     ]
    }
   ],
   "source": [
    "labelsplt = ['Language Learning', 'Computer Engineering' , 'General Learnng' , 'Exam Preparation' , 'Maths' , 'Art', 'other engineering', 'Educational Gaming', 'misc']\n",
    "for i in range(3):\n",
    "    predicted_labels=files[i] + \" Predicted Categories:\";\n",
    "    for x in range(len(labelsplt)):\n",
    "        if result[i][x]==1:\n",
    "            predicted_labels+= labelsplt[x] + \" , \";\n",
    "    print(predicted_labels);"
   ]
  },
  {
   "cell_type": "markdown",
   "metadata": {},
   "source": [
    "## Free Form Visualisation \n",
    "# We will finalise this part after selecting the models that we want to keep!\n",
    "Let us have a plot showing the **hamming-loss** and **log-loss** of different models, which we selected."
   ]
  },
  {
   "cell_type": "code",
   "execution_count": null,
   "metadata": {},
   "outputs": [],
   "source": [
    "import matplotlib.pyplot as plt\n",
    "import numpy as np\n",
    "import matplotlib.cm as cm\n",
    "import itertools"
   ]
  },
  {
   "cell_type": "code",
   "execution_count": null,
   "metadata": {},
   "outputs": [],
   "source": [
    "x = ['BR-MultNB','BR-GausNB','BR-SVC','CC-MultNB','LP-MultNB','BP-MLL-ini','BP-MLL-fin']\n",
    "y = [3.27,20.74,4.26,3.56,3.17,13.96,15.158]\n",
    "colors = itertools.cycle(['b', 'g', 'r', 'c', 'm', 'y', 'k'])\n",
    "plt.ylabel('Hamming-Loss')\n",
    "plt.xlabel('Model-details')\n",
    "plt.xticks(rotation=90)\n",
    "for i in range(len(y)):\n",
    "    plt.bar(x[i], y[i], color=next(colors))\n",
    "plt.show()"
   ]
  },
  {
   "cell_type": "code",
   "execution_count": null,
   "metadata": {},
   "outputs": [],
   "source": [
    "x = ['BR-MultNB','BR-GausNB','BR-SVC','CC-MultNB','LP-MultNB','BP-MLL-ini','BP-MLL-fin']\n",
    "y = [1.92,1.422,0.46,1.5,1.47,0.36,0.35]\n",
    "colors = itertools.cycle(['b', 'g', 'r', 'c', 'm', 'y', 'k'])\n",
    "plt.ylabel('Log-Loss')\n",
    "plt.xlabel('Model-details')\n",
    "plt.xticks(rotation=90)\n",
    "for i in range(len(y)):\n",
    "    plt.bar(x[i], y[i], color=next(colors))\n",
    "plt.show()"
   ]
  },
  {
   "cell_type": "markdown",
   "metadata": {},
   "source": [
    "- While showing among the best problem transformation method models, hamming-loss was considered (this is because for BP-MLL neural network we had to round the final results to get the hamming-loss because of the output being multivalued probabilities)\n",
    "- But while chosing among the best Adaptation Algorithm model, log loss was preferred."
   ]
  },
  {
   "cell_type": "code",
   "execution_count": null,
   "metadata": {},
   "outputs": [],
   "source": []
  }
 ],
 "metadata": {
  "kernelspec": {
   "display_name": "Python 3",
   "language": "python",
   "name": "python3"
  },
  "language_info": {
   "codemirror_mode": {
    "name": "ipython",
    "version": 3
   },
   "file_extension": ".py",
   "mimetype": "text/x-python",
   "name": "python",
   "nbconvert_exporter": "python",
   "pygments_lexer": "ipython3",
   "version": "3.6.4"
  }
 },
 "nbformat": 4,
 "nbformat_minor": 2
}
