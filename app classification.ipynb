{
 "cells": [
  {
   "cell_type": "markdown",
   "metadata": {},
   "source": [
    "## GOOGLE EDUCATION APP CLASSIFICATION \n",
    "\n",
    "1. Import necessary files <br/>\n",
    "2. Read the csv file <br/>\n",
    "3. List the various fields in our dataset"
   ]
  },
  {
   "cell_type": "code",
   "execution_count": 1,
   "metadata": {},
   "outputs": [],
   "source": [
    "import pandas as pd\n",
    "import numpy as np\n",
    "import matplotlib.pyplot as plt\n",
    "%matplotlib inline"
   ]
  },
  {
   "cell_type": "code",
   "execution_count": 2,
   "metadata": {},
   "outputs": [
    {
     "name": "stdout",
     "output_type": "stream",
     "text": [
      "(124, 21)\n"
     ]
    }
   ],
   "source": [
    "#Read the csv file into dataframe df\n",
    "df = pd.read_csv(\"train1.csv\")\n",
    "print(df.shape)"
   ]
  },
  {
   "cell_type": "code",
   "execution_count": 3,
   "metadata": {},
   "outputs": [
    {
     "name": "stdout",
     "output_type": "stream",
     "text": [
      "appname                  object\n",
      "updated                  object\n",
      "file_size                object\n",
      "download                 object\n",
      "version                  object\n",
      "compatibility            object\n",
      "price                    object\n",
      "rating_value            float64\n",
      "star_total               object\n",
      "editors_choice           object\n",
      "offered_by               object\n",
      "description              object\n",
      "Language Learning         int64\n",
      "Computer Engineering      int64\n",
      "General Learning          int64\n",
      "Exam Preparation          int64\n",
      "Maths                     int64\n",
      "Art                       int64\n",
      "other engineering         int64\n",
      "Educational Gaming        int64\n",
      "misc                      int64\n",
      "dtype: object\n"
     ]
    }
   ],
   "source": [
    "#List the fields in our dataframe\n",
    "print(df.dtypes)"
   ]
  },
  {
   "cell_type": "markdown",
   "metadata": {},
   "source": [
    "Hence we have a dataset consistly of 124 samples. Each sample contains 21 fields. <br/>"
   ]
  },
  {
   "cell_type": "markdown",
   "metadata": {},
   "source": [
    "# Separate the comment field data and outcome labels"
   ]
  },
  {
   "cell_type": "code",
   "execution_count": 4,
   "metadata": {},
   "outputs": [
    {
     "name": "stdout",
     "output_type": "stream",
     "text": [
      "0    Learn Spanish, French, German, Italian, Russia...\n",
      "1    Speak a new language with confidence. Learn Sp...\n",
      "2    Start speaking a new language on day one! Try ...\n",
      "3    This app contains Implementation (full working...\n",
      "4    Learn on the go with the Coursera App for Andr...\n",
      "Name: description, dtype: object\n"
     ]
    }
   ],
   "source": [
    "comment = df['description']\n",
    "print(comment.head())\n",
    "comment = comment.as_matrix()"
   ]
  },
  {
   "cell_type": "code",
   "execution_count": 5,
   "metadata": {},
   "outputs": [
    {
     "name": "stdout",
     "output_type": "stream",
     "text": [
      "   Language Learning  Computer Engineering  General Learning  \\\n",
      "0                  1                     0                 0   \n",
      "1                  1                     0                 0   \n",
      "2                  1                     0                 0   \n",
      "3                  0                     1                 0   \n",
      "4                  1                     1                 1   \n",
      "\n",
      "   Exam Preparation  Maths  Art  other engineering  Educational Gaming  misc  \n",
      "0                 0      0    0                  0                   0     0  \n",
      "1                 0      0    0                  0                   0     0  \n",
      "2                 0      0    0                  0                   0     0  \n",
      "3                 0      0    0                  0                   0     0  \n",
      "4                 0      0    1                  1                   0     0  \n"
     ]
    }
   ],
   "source": [
    "label = df[['Language Learning', 'Computer Engineering' , 'General Learning' , 'Exam Preparation' , 'Maths' , 'Art', 'other engineering', 'Educational Gaming', 'misc']]\n",
    "print(label.head())\n",
    "label = label.as_matrix()"
   ]
  },
  {
   "cell_type": "code",
   "execution_count": 6,
   "metadata": {
    "scrolled": false
   },
   "outputs": [],
   "source": [
    "# Only for testing dataset for Nan values\n",
    "# count= 0\n",
    "# for ix in range(label.shape[0]):\n",
    "#     if(label[ix][8]!=0. and label[ix][8]!=1.):\n",
    "#         print(ix)\n",
    "#         print (comment[ix])\n",
    "#         count+=1\n",
    "#         print(label[ix])\n",
    "# print(count)"
   ]
  },
  {
   "cell_type": "markdown",
   "metadata": {},
   "source": [
    "### Let us find out the frequency of occurence of multilabelled data \n",
    "- ct1 counts samples having atleast one label\n",
    "- ct2 counts samples having 2 or more than 2 labels"
   ]
  },
  {
   "cell_type": "code",
   "execution_count": 7,
   "metadata": {},
   "outputs": [
    {
     "name": "stdout",
     "output_type": "stream",
     "text": [
      "124\n",
      "27\n"
     ]
    }
   ],
   "source": [
    "ct1,ct2 = 0,0\n",
    "for i in range(label.shape[0]):\n",
    "    ct = np.count_nonzero(label[i])\n",
    "    if ct :\n",
    "        ct1 = ct1+1\n",
    "    if ct>1 :\n",
    "        ct2 = ct2+1\n",
    "print(ct1)\n",
    "print(ct2)"
   ]
  },
  {
   "cell_type": "markdown",
   "metadata": {},
   "source": [
    "## Data Visualisations\n",
    "### Let us analyse the no. of comments having lengths varying from 0 to 1200"
   ]
  },
  {
   "cell_type": "code",
   "execution_count": 8,
   "metadata": {},
   "outputs": [
    {
     "name": "stdout",
     "output_type": "stream",
     "text": [
      "average length of comment: 1426.919\n"
     ]
    },
    {
     "data": {
      "image/png": "[encoded data removed]",
      "text/plain": [
       "<Figure size 432x288 with 1 Axes>"
      ]
     },
     "metadata": {},
     "output_type": "display_data"
    }
   ],
   "source": [
    "x = [len(comment[i]) for i in range(comment.shape[0])]\n",
    "\n",
    "print('average length of comment: {:.3f}'.format(sum(x)/len(x)) )\n",
    "bins = [1,200,400,600,800,1000,1200]\n",
    "plt.hist(x, bins=bins)\n",
    "plt.xlabel('Length of comments')\n",
    "plt.ylabel('Number of comments')       \n",
    "plt.axis([0, 1200, 0, 20])\n",
    "plt.grid(True)\n",
    "plt.show()"
   ]
  },
  {
   "cell_type": "markdown",
   "metadata": {},
   "source": [
    "### Number of comments classified as toxic,severe_toxic,....etc depending on their lengths"
   ]
  },
  {
   "cell_type": "code",
   "execution_count": 9,
   "metadata": {},
   "outputs": [
    {
     "data": {
      "image/png": "[encoded data removed]",
      "text/plain": [
       "<Figure size 432x288 with 1 Axes>"
      ]
     },
     "metadata": {},
     "output_type": "display_data"
    }
   ],
   "source": [
    "y = np.zeros(label.shape)\n",
    "for ix in range(comment.shape[0]):\n",
    "    l = len(comment[ix])\n",
    "    if label[ix][0] :\n",
    "        y[ix][0] = l\n",
    "    if label[ix][1] :\n",
    "        y[ix][1] = l\n",
    "    if label[ix][2] :\n",
    "        y[ix][2] = l\n",
    "    if label[ix][3] :\n",
    "        y[ix][3] = l\n",
    "    if label[ix][4] :\n",
    "        y[ix][4] = l\n",
    "    if label[ix][5] :\n",
    "        y[ix][5] = l\n",
    "\n",
    "labelsplt = ['Language Learning', 'Computer Engineering' , 'General Learnng' , 'Exam Preparation' , 'Maths' , 'Art', 'other engineering', 'Educational Gaming', 'misc']\n",
    "color = ['red','green','blue','yellow','orange','chartreuse','black','magenta','purple']        \n",
    "plt.hist(y,bins = bins,label = labelsplt,color = color)\n",
    "plt.axis([0, 1500, 0, 8])\n",
    "plt.xlabel('Length of comments')\n",
    "plt.ylabel('Number of comments') \n",
    "plt.legend()\n",
    "plt.grid(True)\n",
    "plt.show()"
   ]
  },
  {
   "cell_type": "code",
   "execution_count": 10,
   "metadata": {},
   "outputs": [],
   "source": [
    "# creating a separate variable for app description (comments) and labels (classifiers)\n",
    "comments = []\n",
    "labels = []\n",
    "\n",
    "for ix in range(comment.shape[0]):\n",
    "    comments.append(comment[ix])\n",
    "    labels.append(label[ix])"
   ]
  },
  {
   "cell_type": "code",
   "execution_count": 11,
   "metadata": {},
   "outputs": [],
   "source": [
    "labels = np.asarray(labels)"
   ]
  },
  {
   "cell_type": "code",
   "execution_count": 12,
   "metadata": {},
   "outputs": [
    {
     "name": "stdout",
     "output_type": "stream",
     "text": [
      "[1 0 0 0 0 0 0 0 0]\n"
     ]
    }
   ],
   "source": [
    "print (labels[0])"
   ]
  },
  {
   "cell_type": "code",
   "execution_count": 13,
   "metadata": {},
   "outputs": [
    {
     "name": "stdout",
     "output_type": "stream",
     "text": [
      "124\n"
     ]
    }
   ],
   "source": [
    "print(len(comments))"
   ]
  },
  {
   "cell_type": "markdown",
   "metadata": {},
   "source": [
    "# Preprocessing \n",
    "Preprocessing involved the following steps, but these will be performed in a slightly different manner:\n",
    "- Removing Punctuations and other special characters\n",
    "- Splitting the comments into individual words\n",
    "- Removing Stop Words\n",
    "- Stemming and Lemmatising\n",
    "- Applying Count Vectoriser\n",
    "- Splitting dataset into Training and Testing"
   ]
  },
  {
   "cell_type": "markdown",
   "metadata": {},
   "source": [
    "## Preparing a string containing all punctuations to be removed\n",
    "The string library contains punctuation characters. This is imported and all numbers are appended to this string. Also, we can notice that our comment_text field contains strings such as won't, didn't, etc which contain apostrophe character('). To prevent these words from being converted to wont/didnt, the character ' represented as \\' in escape sequence notation is replaced by empty character in the punctuation string. <br/>\n",
    "\n",
    "**maketrans()** returns a translation table that maps each character in the punctuation_edit into the character at the same position in the outtab string i.e. it replaces every character in the removal list with a space, since outtab contains a string with spaces."
   ]
  },
  {
   "cell_type": "code",
   "execution_count": 14,
   "metadata": {},
   "outputs": [
    {
     "name": "stdout",
     "output_type": "stream",
     "text": [
      "!\"#$%&'()*+,-./:;<=>?@[\\]^_`{|}~\n",
      "!\"#$%&()*+,-./:;<=>?@[\\]^_`{|}~0123456789\n"
     ]
    }
   ],
   "source": [
    "import string\n",
    "print(string.punctuation)\n",
    "punctuation_edit = string.punctuation.replace('\\'','') +\"0123456789\"\n",
    "print (punctuation_edit)\n",
    "outtab = \"                                         \"\n",
    "trantab = str.maketrans(punctuation_edit, outtab)"
   ]
  },
  {
   "cell_type": "markdown",
   "metadata": {},
   "source": [
    "## Updating the list of stop words\n",
    "**Stop words** are those words that are frequently used in both written and verbal communication and thereby do not have either a positive/negative impact on our statement.E.g. is, this, us,etc. <br/>\n",
    "Single letter words if existing or created due to any preprocessing step do not convey any useful meaning and hence can be directly removed. Hence letters from b to z, will be added to the list of stop words imported directly."
   ]
  },
  {
   "cell_type": "code",
   "execution_count": 15,
   "metadata": {},
   "outputs": [],
   "source": [
    "from stop_words import get_stop_words\n",
    "stop_words = get_stop_words('english')\n",
    "stop_words.append('')\n",
    "\n",
    "for x in range(ord('b'), ord('z')+1):\n",
    "    stop_words.append(chr(x))"
   ]
  },
  {
   "cell_type": "code",
   "execution_count": 16,
   "metadata": {},
   "outputs": [
    {
     "name": "stdout",
     "output_type": "stream",
     "text": [
      "['a', 'about', 'above', 'after', 'again', 'against', 'all', 'am', 'an', 'and', 'any', 'are', \"aren't\", 'as', 'at', 'be', 'because', 'been', 'before', 'being', 'below', 'between', 'both', 'but', 'by', \"can't\", 'cannot', 'could', \"couldn't\", 'did', \"didn't\", 'do', 'does', \"doesn't\", 'doing', \"don't\", 'down', 'during', 'each', 'few', 'for', 'from', 'further', 'had', \"hadn't\", 'has', \"hasn't\", 'have', \"haven't\", 'having', 'he', \"he'd\", \"he'll\", \"he's\", 'her', 'here', \"here's\", 'hers', 'herself', 'him', 'himself', 'his', 'how', \"how's\", 'i', \"i'd\", \"i'll\", \"i'm\", \"i've\", 'if', 'in', 'into', 'is', \"isn't\", 'it', \"it's\", 'its', 'itself', \"let's\", 'me', 'more', 'most', \"mustn't\", 'my', 'myself', 'no', 'nor', 'not', 'of', 'off', 'on', 'once', 'only', 'or', 'other', 'ought', 'our', 'ours', 'ourselves', 'out', 'over', 'own', 'same', \"shan't\", 'she', \"she'd\", \"she'll\", \"she's\", 'should', \"shouldn't\", 'so', 'some', 'such', 'than', 'that', \"that's\", 'the', 'their', 'theirs', 'them', 'themselves', 'then', 'there', \"there's\", 'these', 'they', \"they'd\", \"they'll\", \"they're\", \"they've\", 'this', 'those', 'through', 'to', 'too', 'under', 'until', 'up', 'very', 'was', \"wasn't\", 'we', \"we'd\", \"we'll\", \"we're\", \"we've\", 'were', \"weren't\", 'what', \"what's\", 'when', \"when's\", 'where', \"where's\", 'which', 'while', 'who', \"who's\", 'whom', 'why', \"why's\", 'with', \"won't\", 'would', \"wouldn't\", 'you', \"you'd\", \"you'll\", \"you're\", \"you've\", 'your', 'yours', 'yourself', 'yourselves', '', 'b', 'c', 'd', 'e', 'f', 'g', 'h', 'i', 'j', 'k', 'l', 'm', 'n', 'o', 'p', 'q', 'r', 's', 't', 'u', 'v', 'w', 'x', 'y', 'z']\n"
     ]
    }
   ],
   "source": [
    "print (stop_words)"
   ]
  },
  {
   "cell_type": "markdown",
   "metadata": {},
   "source": [
    "## Stemming and Lemmatizing\n",
    "**Stemming** is the process of converting inflected/derived words to their word stem or the root form. Basically, a large number of similar origin words are converted to the same word.E.g. words like \"stems\", \"stemmer\", \"stemming\", \"stemmed\" as based on \"stem\". This helps in achieving the training process with a better accuracy.<br/>\n",
    "**Lemmatizing** is the process of grouping together the inflected forms of a word so they can be analysed as a single item. This is quite similar to stemming in its working but differs since it depends on correctly identifying the intended part of speech and meaning of a word in a sentence, as well as within the larger context surrounding that sentence, such as neighboring sentences or even an entire document.<br/>\n",
    "The **wordnet library in nltk** will be used for this purpose. Stemmer and Lemmatizer are also imported from nltk.\n"
   ]
  },
  {
   "cell_type": "code",
   "execution_count": 17,
   "metadata": {},
   "outputs": [],
   "source": [
    "import nltk\n",
    "from nltk.stem import PorterStemmer, WordNetLemmatizer"
   ]
  },
  {
   "cell_type": "code",
   "execution_count": 18,
   "metadata": {},
   "outputs": [
    {
     "name": "stdout",
     "output_type": "stream",
     "text": [
      "[nltk_data] Downloading package wordnet to /Users/paavini/nltk_data...\n",
      "[nltk_data]   Package wordnet is already up-to-date!\n"
     ]
    },
    {
     "data": {
      "text/plain": [
       "True"
      ]
     },
     "execution_count": 18,
     "metadata": {},
     "output_type": "execute_result"
    }
   ],
   "source": [
    "#create objects for stemmer and lemmatizer\n",
    "lemmatiser = WordNetLemmatizer()\n",
    "stemmer = PorterStemmer()\n",
    "#download words from wordnet library\n",
    "nltk.download('wordnet')"
   ]
  },
  {
   "cell_type": "markdown",
   "metadata": {},
   "source": [
    "### We can now, loop once through all the comments applying :\n",
    "- punctuation removal\n",
    "- splitting the words by space\n",
    "- applying stemmer and lemmatizer\n",
    "- recombining the words again for further processing"
   ]
  },
  {
   "cell_type": "code",
   "execution_count": 19,
   "metadata": {},
   "outputs": [],
   "source": [
    "for i in range(len(comments)):\n",
    "    comments[i] = comments[i].lower().translate(trantab)\n",
    "    l = []\n",
    "    for word in comments[i].split():\n",
    "        l.append(stemmer.stem(lemmatiser.lemmatize(word,pos=\"v\")))\n",
    "    comments[i] = \" \".join(l)"
   ]
  },
  {
   "cell_type": "markdown",
   "metadata": {},
   "source": [
    "## Applying Count Vectorizer\n",
    "Here we can finally convert our comments into a matrix of token counts, which signifies the number of times it occurs."
   ]
  },
  {
   "cell_type": "code",
   "execution_count": 20,
   "metadata": {},
   "outputs": [],
   "source": [
    "#import required library\n",
    "from sklearn.feature_extraction.text import CountVectorizer\n",
    "\n",
    "#create object supplying our custom stop words\n",
    "count_vector = CountVectorizer(stop_words=stop_words)\n",
    "#fitting it to converts comments into bag of words format\n",
    "tf = count_vector.fit_transform(comments).toarray()"
   ]
  },
  {
   "cell_type": "code",
   "execution_count": 21,
   "metadata": {},
   "outputs": [
    {
     "name": "stdout",
     "output_type": "stream",
     "text": [
      "(124, 3095)\n"
     ]
    }
   ],
   "source": [
    "# print(count_vector.get_feature_names())\n",
    "print(tf.shape)"
   ]
  },
  {
   "cell_type": "markdown",
   "metadata": {},
   "source": [
    "Hence from its shape we can imply that after all preprocessing we have a list of 52905 words in total.\n",
    "## Splitting dataset into training and testing\n",
    "- Since the system was going out of memory using train_test_split, I had jumbled all the indexes in the beginning itself. \n",
    "- The shuffle function defined here performs the task of assigning first 2/3rd values to train and remaining 1/3rd values to the test set."
   ]
  },
  {
   "cell_type": "code",
   "execution_count": 22,
   "metadata": {},
   "outputs": [
    {
     "name": "stdout",
     "output_type": "stream",
     "text": [
      "(31, 3095)\n",
      "(93, 3095)\n"
     ]
    }
   ],
   "source": [
    "from sklearn.model_selection import train_test_split\n",
    "def shuffle(matrix, target, test_proportion):\n",
    "    ratio = int(matrix.shape[0]/test_proportion)\n",
    "    X_train = matrix[ratio:,:]\n",
    "    X_test =  matrix[:ratio,:]\n",
    "    Y_train = target[ratio:,:]\n",
    "    Y_test =  target[:ratio,:]\n",
    "    return X_train, X_test, Y_train, Y_test\n",
    "\n",
    "# X_train, X_test, Y_train, Y_test = shuffle(tf, labels,5)\n",
    "X_train, X_test, Y_train, Y_test = train_test_split(tf, labels, test_size=0.25, random_state=42)\n",
    "\n",
    "print(X_test.shape)\n",
    "print(X_train.shape)"
   ]
  },
  {
   "cell_type": "markdown",
   "metadata": {},
   "source": [
    "# Implementation :\n",
    "### Let us define all the evaluation metrics"
   ]
  },
  {
   "cell_type": "code",
   "execution_count": 23,
   "metadata": {},
   "outputs": [],
   "source": [
    "from sklearn.metrics import hamming_loss\n",
    "from sklearn.metrics import accuracy_score\n",
    "from sklearn.metrics import log_loss\n",
    "\n",
    "def evaluate_score(Y_test,predict): \n",
    "    loss = hamming_loss(Y_test,predict)\n",
    "    print(\"Hamming_loss : {}\".format(loss*100))\n",
    "    accuracy = accuracy_score(Y_test,predict)\n",
    "    print(\"Accuracy : {}\".format(accuracy*100))\n",
    "    try : \n",
    "        loss = log_loss(Y_test,predict)\n",
    "    except :\n",
    "        loss = log_loss(Y_test,predict.toarray())\n",
    "    print(\"Log_loss : {}\".format(loss))"
   ]
  },
  {
   "cell_type": "markdown",
   "metadata": {},
   "source": [
    "## Starting with the First Model -\n",
    "### Problem Transformation Methods :\n",
    "**These include the Binary Relevance, Label Powerset and Classifier Chain methods. Implementations of these methods is available in the scikit-multilearn library. **\n",
    "- I will be implementing the most basic method,which is the **Binary Relevance** method from scratch. It does not take into account the interdependence of labels and basically creates a separate classifier for each of the labels.\n",
    "- Scikit-multilearn library's classifier will also be imported and tested with different classifiers to observe if it gives similar results.\n",
    "\n",
    "### 1. Binary Relevance (BR) Method with MultinomialNB classifiers (from scratch)"
   ]
  },
  {
   "cell_type": "code",
   "execution_count": 24,
   "metadata": {},
   "outputs": [],
   "source": [
    "from sklearn.naive_bayes import MultinomialNB"
   ]
  },
  {
   "cell_type": "code",
   "execution_count": 25,
   "metadata": {},
   "outputs": [
    {
     "name": "stdout",
     "output_type": "stream",
     "text": [
      "[0 0 0 0 0 1 0 0 0]\n"
     ]
    }
   ],
   "source": [
    "print (Y_train[0])"
   ]
  },
  {
   "cell_type": "code",
   "execution_count": 26,
   "metadata": {},
   "outputs": [],
   "source": [
    "# clf will be the list of the classifiers for all the 6 labels\n",
    "# each classifier is fit with the training data and corresponding classifier\n",
    "clf = []\n",
    "for ix in range(9):\n",
    "    clf.append(MultinomialNB())\n",
    "    clf[ix].fit(X_train,Y_train[:,ix])"
   ]
  },
  {
   "cell_type": "code",
   "execution_count": 27,
   "metadata": {},
   "outputs": [
    {
     "name": "stdout",
     "output_type": "stream",
     "text": [
      "(31, 9)\n"
     ]
    }
   ],
   "source": [
    "# predict list contains the predictions, it is transposed later to get the proper shape\n",
    "predict = []\n",
    "for ix in range(9):\n",
    "    predict.append(clf[ix].predict(X_test))\n",
    "\n",
    "predict = np.asarray(np.transpose(predict))\n",
    "print(predict.shape)"
   ]
  },
  {
   "cell_type": "code",
   "execution_count": 28,
   "metadata": {},
   "outputs": [
    {
     "name": "stdout",
     "output_type": "stream",
     "text": [
      "Hamming_loss : 12.186379928315413\n",
      "Accuracy : 51.61290322580645\n",
      "Log_loss : 8.632300984363441\n"
     ]
    }
   ],
   "source": [
    "# calculate results\n",
    "evaluate_score(Y_test,predict)"
   ]
  },
  {
   "cell_type": "markdown",
   "metadata": {},
   "source": [
    "### 2. BR Method with Multinomial classifier (from scikit-multilearn)"
   ]
  },
  {
   "cell_type": "code",
   "execution_count": 30,
   "metadata": {},
   "outputs": [
    {
     "data": {
      "text/plain": [
       "BinaryRelevance(classifier=MultinomialNB(alpha=1.0, class_prior=None, fit_prior=True),\n",
       "        require_dense=[False, True])"
      ]
     },
     "execution_count": 30,
     "metadata": {},
     "output_type": "execute_result"
    }
   ],
   "source": [
    "#create and fit classifier\n",
    "from skmultilearn.problem_transform import BinaryRelevance\n",
    "classifier = BinaryRelevance(classifier = MultinomialNB(), require_dense = [False, True])\n",
    "classifier.fit(X_train, Y_train)"
   ]
  },
  {
   "cell_type": "code",
   "execution_count": 31,
   "metadata": {},
   "outputs": [],
   "source": [
    "#predictions\n",
    "predictions = classifier.predict(X_test)"
   ]
  },
  {
   "cell_type": "code",
   "execution_count": 32,
   "metadata": {},
   "outputs": [
    {
     "name": "stdout",
     "output_type": "stream",
     "text": [
      "Hamming_loss : 12.186379928315413\n",
      "Accuracy : 51.61290322580645\n",
      "Log_loss : 8.632300984363441\n"
     ]
    }
   ],
   "source": [
    "#calculate scores\n",
    "evaluate_score(Y_test,predictions)"
   ]
  },
  {
   "cell_type": "markdown",
   "metadata": {},
   "source": [
    "### 3. BR Method with GausseanNB classifier (from scratch)"
   ]
  },
  {
   "cell_type": "code",
   "execution_count": 33,
   "metadata": {},
   "outputs": [],
   "source": [
    "from sklearn.naive_bayes import GaussianNB\n",
    "#create and fit classifiers\n",
    "clf = []\n",
    "for ix in range(9):\n",
    "    clf.append(GaussianNB())\n",
    "    clf[ix].fit(X_train,Y_train[:,ix])"
   ]
  },
  {
   "cell_type": "code",
   "execution_count": 34,
   "metadata": {},
   "outputs": [],
   "source": [
    "#predictions\n",
    "predict = []\n",
    "for ix in range(9):\n",
    "    predict.append(clf[ix].predict(X_test))"
   ]
  },
  {
   "cell_type": "code",
   "execution_count": 35,
   "metadata": {},
   "outputs": [
    {
     "name": "stdout",
     "output_type": "stream",
     "text": [
      "Hamming_loss : 11.11111111111111\n",
      "Accuracy : 29.03225806451613\n",
      "Log_loss : 6.299449825496276\n"
     ]
    }
   ],
   "source": [
    "#calculate scores\n",
    "predict = np.asarray(np.transpose(predict))\n",
    "evaluate_score(Y_test,predict)"
   ]
  },
  {
   "cell_type": "markdown",
   "metadata": {},
   "source": [
    "### 4. Classifier chain with MultinomialNB classifier (from scikit-multilearn)"
   ]
  },
  {
   "cell_type": "code",
   "execution_count": 36,
   "metadata": {},
   "outputs": [
    {
     "data": {
      "text/plain": [
       "ClassifierChain(classifier=MultinomialNB(alpha=1.0, class_prior=None, fit_prior=True),\n",
       "        require_dense=[True, True])"
      ]
     },
     "execution_count": 36,
     "metadata": {},
     "output_type": "execute_result"
    }
   ],
   "source": [
    "#create and fit classifier\n",
    "from skmultilearn.problem_transform import ClassifierChain\n",
    "classifier = ClassifierChain(MultinomialNB())\n",
    "classifier.fit(X_train, Y_train)"
   ]
  },
  {
   "cell_type": "code",
   "execution_count": 37,
   "metadata": {},
   "outputs": [],
   "source": [
    "#predictions\n",
    "predictions = classifier.predict(X_test)"
   ]
  },
  {
   "cell_type": "code",
   "execution_count": 38,
   "metadata": {},
   "outputs": [
    {
     "name": "stdout",
     "output_type": "stream",
     "text": [
      "Hamming_loss : 11.469534050179211\n",
      "Accuracy : 51.61290322580645\n",
      "Log_loss : 8.61542201198394\n"
     ]
    }
   ],
   "source": [
    "#calculate scores\n",
    "evaluate_score(Y_test,predictions)"
   ]
  },
  {
   "cell_type": "markdown",
   "metadata": {},
   "source": [
    "### 5. Label Powerset with MultinomialNB classifier (from scikit-multilearn)"
   ]
  },
  {
   "cell_type": "code",
   "execution_count": 39,
   "metadata": {},
   "outputs": [
    {
     "data": {
      "text/plain": [
       "LabelPowerset(classifier=MultinomialNB(alpha=1.0, class_prior=None, fit_prior=True),\n",
       "       require_dense=[True, True])"
      ]
     },
     "execution_count": 39,
     "metadata": {},
     "output_type": "execute_result"
    }
   ],
   "source": [
    "#create and fit classifier\n",
    "from skmultilearn.problem_transform import LabelPowerset\n",
    "classifier = LabelPowerset(MultinomialNB())\n",
    "classifier.fit(X_train, Y_train)"
   ]
  },
  {
   "cell_type": "code",
   "execution_count": 40,
   "metadata": {},
   "outputs": [],
   "source": [
    "#predictions\n",
    "predictions = classifier.predict(X_test)"
   ]
  },
  {
   "cell_type": "code",
   "execution_count": 41,
   "metadata": {},
   "outputs": [
    {
     "name": "stdout",
     "output_type": "stream",
     "text": [
      "Hamming_loss : 9.31899641577061\n",
      "Accuracy : 61.29032258064516\n",
      "Log_loss : 18.998418005893868\n"
     ]
    }
   ],
   "source": [
    "#calculate scores\n",
    "evaluate_score(Y_test,predictions)"
   ]
  },
  {
   "cell_type": "markdown",
   "metadata": {},
   "source": [
    "## Adaptation Algorithms\n",
    "### 6. MLkNN  with k=2 (from scikit-multilearn)\n",
    "This is the adapted multi-label version of K Nearest Neighbours. Its implementation is available in the multilearn library."
   ]
  },
  {
   "cell_type": "code",
   "execution_count": 52,
   "metadata": {},
   "outputs": [
    {
     "data": {
      "text/plain": [
       "MLkNN(ignore_first_neighbours=0, k=5, s=1.0)"
      ]
     },
     "execution_count": 52,
     "metadata": {},
     "output_type": "execute_result"
    }
   ],
   "source": [
    "#create and fit classifier\n",
    "from skmultilearn.adapt import MLkNN\n",
    "classifier = MLkNN(k=5)\n",
    "classifier.fit(X_train, Y_train)"
   ]
  },
  {
   "cell_type": "code",
   "execution_count": 53,
   "metadata": {},
   "outputs": [],
   "source": [
    "#predictions\n",
    "predictions = classifier.predict(X_test)"
   ]
  },
  {
   "cell_type": "code",
   "execution_count": 54,
   "metadata": {},
   "outputs": [
    {
     "name": "stdout",
     "output_type": "stream",
     "text": [
      "Hamming_loss : 11.469534050179211\n",
      "Accuracy : 35.483870967741936\n",
      "Log_loss : 11.344114234571348\n"
     ]
    }
   ],
   "source": [
    "#calculate scores\n",
    "evaluate_score(Y_test,predictions)"
   ]
  },
  {
   "cell_type": "markdown",
   "metadata": {},
   "source": [
    "### 7. BP-MLL Neural Networks (from scratch)"
   ]
  },
  {
   "cell_type": "code",
   "execution_count": 55,
   "metadata": {},
   "outputs": [],
   "source": [
    "from keras.models import Sequential\n",
    "from keras.layers import Dense, Activation, Dropout"
   ]
  },
  {
   "cell_type": "code",
   "execution_count": 56,
   "metadata": {},
   "outputs": [
    {
     "name": "stdout",
     "output_type": "stream",
     "text": [
      "_________________________________________________________________\n",
      "Layer (type)                 Output Shape              Param #   \n",
      "=================================================================\n",
      "dense_1 (Dense)              (None, 20)                61920     \n",
      "_________________________________________________________________\n",
      "dropout_1 (Dropout)          (None, 20)                0         \n",
      "_________________________________________________________________\n",
      "dense_2 (Dense)              (None, 9)                 189       \n",
      "=================================================================\n",
      "Total params: 62,109\n",
      "Trainable params: 62,109\n",
      "Non-trainable params: 0\n",
      "_________________________________________________________________\n"
     ]
    }
   ],
   "source": [
    "#define model architecture\n",
    "model = Sequential()\n",
    "model.add(Dense(20, activation='relu', input_dim = X_train.shape[1]))\n",
    "model.add(Dropout(0.3))\n",
    "model.add(Dense(9, activation='softmax'))\n",
    "model.summary()"
   ]
  },
  {
   "cell_type": "code",
   "execution_count": 57,
   "metadata": {},
   "outputs": [],
   "source": [
    "#compile model with all parameters set\n",
    "model.compile(optimizer='rmsprop',\n",
    "              loss='categorical_crossentropy',\n",
    "              metrics=['accuracy'])"
   ]
  },
  {
   "cell_type": "code",
   "execution_count": 58,
   "metadata": {},
   "outputs": [
    {
     "name": "stdout",
     "output_type": "stream",
     "text": [
      "Epoch 1/10\n",
      "93/93 [==============================] - 0s 3ms/step - loss: 2.8532 - acc: 0.1398\n",
      "Epoch 2/10\n",
      "93/93 [==============================] - 0s 151us/step - loss: 2.5047 - acc: 0.3226\n",
      "Epoch 3/10\n",
      "93/93 [==============================] - 0s 173us/step - loss: 2.3101 - acc: 0.4731\n",
      "Epoch 4/10\n",
      "93/93 [==============================] - 0s 183us/step - loss: 2.0817 - acc: 0.5699\n",
      "Epoch 5/10\n",
      "93/93 [==============================] - 0s 170us/step - loss: 1.8782 - acc: 0.6774\n",
      "Epoch 6/10\n",
      "93/93 [==============================] - 0s 161us/step - loss: 1.8952 - acc: 0.6344\n",
      "Epoch 7/10\n",
      "93/93 [==============================] - 0s 161us/step - loss: 1.6681 - acc: 0.7849\n",
      "Epoch 8/10\n",
      "93/93 [==============================] - 0s 160us/step - loss: 1.6252 - acc: 0.7527\n",
      "Epoch 9/10\n",
      "93/93 [==============================] - 0s 144us/step - loss: 1.5235 - acc: 0.7527\n",
      "Epoch 10/10\n",
      "93/93 [==============================] - 0s 165us/step - loss: 1.4325 - acc: 0.7634\n"
     ]
    },
    {
     "data": {
      "text/plain": [
       "<keras.callbacks.History at 0x120d29e48>"
      ]
     },
     "execution_count": 58,
     "metadata": {},
     "output_type": "execute_result"
    }
   ],
   "source": [
    "#Fit using check pointer\n",
    "from keras.callbacks import ModelCheckpoint  \n",
    "\n",
    "checkpointer = ModelCheckpoint(filepath='saved_models/weights.best.myneural.h5py', \n",
    "                               verbose=1, save_best_only=True)\n",
    "model.fit(X_train, Y_train, epochs=10, batch_size=32)"
   ]
  },
  {
   "cell_type": "code",
   "execution_count": 59,
   "metadata": {},
   "outputs": [],
   "source": [
    "#predictions\n",
    "predict = model.predict(X_test)"
   ]
  },
  {
   "cell_type": "code",
   "execution_count": 60,
   "metadata": {},
   "outputs": [
    {
     "name": "stdout",
     "output_type": "stream",
     "text": [
      "[0.04141634 0.06546991 0.01012321 0.12140076 0.17862456 0.14328544\n",
      " 0.09208215 0.26459968 0.08299797]\n"
     ]
    }
   ],
   "source": [
    "print(predict[0])"
   ]
  },
  {
   "cell_type": "markdown",
   "metadata": {},
   "source": [
    "**Since the results returned by the model are in the form of probabilities, they have to be explicitly converted to either 0/1 using the round function. This is because the hamming_loss and accuracy_score cannot work on these values directly. However, log loss can compute loss directly without modifying the values.**"
   ]
  },
  {
   "cell_type": "code",
   "execution_count": 61,
   "metadata": {},
   "outputs": [
    {
     "name": "stdout",
     "output_type": "stream",
     "text": [
      "Log_loss : 2.048833615356876\n",
      "Hamming_loss : 13.620071684587815\n",
      "Accuracy : 12.903225806451612\n"
     ]
    }
   ],
   "source": [
    "#calculate score\n",
    "loss = log_loss(Y_test,predict)\n",
    "print(\"Log_loss : {}\".format(loss))\n",
    "predict = np.round(predict)\n",
    "loss = hamming_loss(Y_test,predict)\n",
    "print(\"Hamming_loss : {}\".format(loss*100))\n",
    "accuracy = accuracy_score(Y_test,predict)\n",
    "print(\"Accuracy : {}\".format(accuracy*100))"
   ]
  },
  {
   "cell_type": "markdown",
   "metadata": {
    "collapsed": true
   },
   "source": [
    "## Let us try improving the BP-MLL model (Refining)\n"
   ]
  },
  {
   "cell_type": "code",
   "execution_count": 62,
   "metadata": {},
   "outputs": [],
   "source": [
    "from sklearn.model_selection import GridSearchCV\n",
    "from keras.wrappers.scikit_learn import KerasClassifier\n",
    "from keras.models import Sequential\n",
    "from keras.layers import Dense, Activation, Dropout\n",
    "from keras import optimizers\n",
    "\n",
    "#define parameters for using in param grid\n",
    "nodes = [16, 32] # number of nodes in the hidden layer\n",
    "lrs = [0.001, 0.002, 0.003] # learning rate, default = 0.001\n",
    "epochs = [10,20]\n",
    "batch_size = 64"
   ]
  },
  {
   "cell_type": "code",
   "execution_count": 63,
   "metadata": {},
   "outputs": [],
   "source": [
    "def create_model(nodes=10,lr=0.001):\n",
    "    model = Sequential()\n",
    "    model.add(Dense(nodes, activation='relu', input_dim = X_train.shape[1]))\n",
    "    model.add(Dropout(0.3))\n",
    "    model.add(Dense(9, activation='softmax'))\n",
    "    opt = optimizers.RMSprop(lr=lr)\n",
    "    model.compile(optimizer=opt,\n",
    "              loss='categorical_crossentropy',\n",
    "              metrics=['accuracy'])\n",
    "    return model\n",
    "\n",
    "model = KerasClassifier(build_fn=create_model)"
   ]
  },
  {
   "cell_type": "code",
   "execution_count": 64,
   "metadata": {
    "scrolled": true
   },
   "outputs": [
    {
     "name": "stdout",
     "output_type": "stream",
     "text": [
      "Fitting 3 folds for each of 12 candidates, totalling 36 fits\n",
      "[CV] epochs=10, lr=0.001, nodes=16 ...................................\n",
      "Epoch 1/10\n",
      "62/62 [==============================] - 0s 6ms/step - loss: 2.8156 - acc: 0.1774\n",
      "Epoch 2/10\n",
      "62/62 [==============================] - 0s 148us/step - loss: 2.4316 - acc: 0.2742\n",
      "Epoch 3/10\n",
      "62/62 [==============================] - 0s 171us/step - loss: 2.1968 - acc: 0.5000\n",
      "Epoch 4/10\n",
      "62/62 [==============================] - 0s 162us/step - loss: 2.0765 - acc: 0.5968\n",
      "Epoch 5/10\n",
      "62/62 [==============================] - 0s 164us/step - loss: 1.9246 - acc: 0.6452\n",
      "Epoch 6/10\n",
      "62/62 [==============================] - 0s 182us/step - loss: 1.7802 - acc: 0.6613\n",
      "Epoch 7/10\n",
      "62/62 [==============================] - 0s 154us/step - loss: 1.6844 - acc: 0.7258\n",
      "Epoch 8/10\n",
      "62/62 [==============================] - 0s 190us/step - loss: 1.5620 - acc: 0.8065\n",
      "Epoch 9/10\n",
      "62/62 [==============================] - 0s 196us/step - loss: 1.5291 - acc: 0.7419\n",
      "Epoch 10/10\n",
      "62/62 [==============================] - 0s 173us/step - loss: 1.4527 - acc: 0.7419\n",
      "31/31 [==============================] - 0s 1ms/step\n",
      "62/62 [==============================] - 0s 90us/step\n",
      "[CV] .................... epochs=10, lr=0.001, nodes=16, total=   1.1s\n",
      "[CV] epochs=10, lr=0.001, nodes=16 ...................................\n"
     ]
    },
    {
     "name": "stderr",
     "output_type": "stream",
     "text": [
      "[Parallel(n_jobs=1)]: Done   1 out of   1 | elapsed:    1.1s remaining:    0.0s\n"
     ]
    },
    {
     "name": "stdout",
     "output_type": "stream",
     "text": [
      "Epoch 1/10\n",
      "62/62 [==============================] - 0s 6ms/step - loss: 3.0977 - acc: 0.0806\n",
      "Epoch 2/10\n",
      "62/62 [==============================] - 0s 151us/step - loss: 2.7317 - acc: 0.2742\n",
      "Epoch 3/10\n",
      "62/62 [==============================] - 0s 185us/step - loss: 2.5161 - acc: 0.3387\n",
      "Epoch 4/10\n",
      "62/62 [==============================] - 0s 178us/step - loss: 2.2944 - acc: 0.4677\n",
      "Epoch 5/10\n",
      "62/62 [==============================] - 0s 170us/step - loss: 2.1759 - acc: 0.5323\n",
      "Epoch 6/10\n",
      "62/62 [==============================] - 0s 184us/step - loss: 2.0458 - acc: 0.5645\n",
      "Epoch 7/10\n",
      "62/62 [==============================] - 0s 201us/step - loss: 1.9493 - acc: 0.6129\n",
      "Epoch 8/10\n",
      "62/62 [==============================] - 0s 158us/step - loss: 1.9330 - acc: 0.5806\n",
      "Epoch 9/10\n",
      "62/62 [==============================] - 0s 164us/step - loss: 1.8695 - acc: 0.6613\n",
      "Epoch 10/10\n",
      "62/62 [==============================] - 0s 186us/step - loss: 1.7811 - acc: 0.6290\n",
      "31/31 [==============================] - 0s 2ms/step\n",
      "62/62 [==============================] - 0s 96us/step\n",
      "[CV] .................... epochs=10, lr=0.001, nodes=16, total=   1.2s\n",
      "[CV] epochs=10, lr=0.001, nodes=16 ...................................\n",
      "Epoch 1/10\n",
      "62/62 [==============================] - 0s 7ms/step - loss: 2.9315 - acc: 0.2097\n",
      "Epoch 2/10\n",
      "62/62 [==============================] - 0s 142us/step - loss: 2.5405 - acc: 0.2742\n",
      "Epoch 3/10\n",
      "62/62 [==============================] - 0s 223us/step - loss: 2.3207 - acc: 0.4355\n",
      "Epoch 4/10\n",
      "62/62 [==============================] - 0s 195us/step - loss: 2.2146 - acc: 0.4516\n",
      "Epoch 5/10\n",
      "62/62 [==============================] - 0s 168us/step - loss: 2.0488 - acc: 0.5806\n",
      "Epoch 6/10\n",
      "62/62 [==============================] - 0s 149us/step - loss: 2.0566 - acc: 0.5484\n",
      "Epoch 7/10\n",
      "62/62 [==============================] - 0s 157us/step - loss: 1.8180 - acc: 0.6774\n",
      "Epoch 8/10\n",
      "62/62 [==============================] - 0s 174us/step - loss: 1.8260 - acc: 0.6452\n",
      "Epoch 9/10\n",
      "62/62 [==============================] - 0s 170us/step - loss: 1.6402 - acc: 0.7903\n",
      "Epoch 10/10\n",
      "62/62 [==============================] - 0s 151us/step - loss: 1.6392 - acc: 0.7742\n",
      "31/31 [==============================] - 0s 2ms/step\n",
      "62/62 [==============================] - 0s 105us/step\n",
      "[CV] .................... epochs=10, lr=0.001, nodes=16, total=   1.3s\n",
      "[CV] epochs=10, lr=0.001, nodes=32 ...................................\n",
      "Epoch 1/10\n",
      "62/62 [==============================] - 1s 10ms/step - loss: 2.7702 - acc: 0.1613\n",
      "Epoch 2/10\n",
      "62/62 [==============================] - 0s 250us/step - loss: 2.3011 - acc: 0.3226\n",
      "Epoch 3/10\n",
      "62/62 [==============================] - 0s 280us/step - loss: 1.9680 - acc: 0.6613\n",
      "Epoch 4/10\n",
      "62/62 [==============================] - 0s 229us/step - loss: 1.7221 - acc: 0.7419\n",
      "Epoch 5/10\n",
      "62/62 [==============================] - 0s 224us/step - loss: 1.5850 - acc: 0.7742\n",
      "Epoch 6/10\n",
      "62/62 [==============================] - 0s 206us/step - loss: 1.4229 - acc: 0.8065\n",
      "Epoch 7/10\n",
      "62/62 [==============================] - 0s 208us/step - loss: 1.3653 - acc: 0.7903\n",
      "Epoch 8/10\n",
      "62/62 [==============================] - 0s 190us/step - loss: 1.2041 - acc: 0.8387\n",
      "Epoch 9/10\n",
      "62/62 [==============================] - 0s 184us/step - loss: 1.1736 - acc: 0.8548\n",
      "Epoch 10/10\n",
      "62/62 [==============================] - 0s 207us/step - loss: 1.1082 - acc: 0.8710\n",
      "31/31 [==============================] - 0s 2ms/step\n",
      "62/62 [==============================] - 0s 90us/step\n",
      "[CV] .................... epochs=10, lr=0.001, nodes=32, total=   1.4s\n",
      "[CV] epochs=10, lr=0.001, nodes=32 ...................................\n",
      "Epoch 1/10\n",
      "62/62 [==============================] - 0s 7ms/step - loss: 2.9026 - acc: 0.2419\n",
      "Epoch 2/10\n",
      "62/62 [==============================] - 0s 208us/step - loss: 2.3694 - acc: 0.6129\n",
      "Epoch 3/10\n",
      "62/62 [==============================] - 0s 183us/step - loss: 2.0506 - acc: 0.6290\n",
      "Epoch 4/10\n",
      "62/62 [==============================] - 0s 244us/step - loss: 1.8446 - acc: 0.7742\n",
      "Epoch 5/10\n",
      "62/62 [==============================] - 0s 231us/step - loss: 1.7607 - acc: 0.8387\n",
      "Epoch 6/10\n",
      "62/62 [==============================] - 0s 234us/step - loss: 1.5357 - acc: 0.7903\n",
      "Epoch 7/10\n",
      "62/62 [==============================] - 0s 212us/step - loss: 1.4986 - acc: 0.8387\n",
      "Epoch 8/10\n",
      "62/62 [==============================] - 0s 222us/step - loss: 1.3520 - acc: 0.8065\n",
      "Epoch 9/10\n",
      "62/62 [==============================] - 0s 203us/step - loss: 1.3496 - acc: 0.8226\n",
      "Epoch 10/10\n",
      "62/62 [==============================] - 0s 235us/step - loss: 1.2559 - acc: 0.8871\n",
      "31/31 [==============================] - 0s 3ms/step\n",
      "62/62 [==============================] - 0s 152us/step\n",
      "[CV] .................... epochs=10, lr=0.001, nodes=32, total=   1.6s\n",
      "[CV] epochs=10, lr=0.001, nodes=32 ...................................\n",
      "Epoch 1/10\n",
      "62/62 [==============================] - 0s 7ms/step - loss: 3.0317 - acc: 0.1935\n",
      "Epoch 2/10\n",
      "62/62 [==============================] - 0s 181us/step - loss: 2.2989 - acc: 0.4839\n",
      "Epoch 3/10\n",
      "62/62 [==============================] - 0s 212us/step - loss: 1.9723 - acc: 0.6129\n",
      "Epoch 4/10\n",
      "62/62 [==============================] - 0s 217us/step - loss: 1.8621 - acc: 0.7097\n",
      "Epoch 5/10\n",
      "62/62 [==============================] - 0s 249us/step - loss: 1.6280 - acc: 0.8226\n",
      "Epoch 6/10\n",
      "62/62 [==============================] - 0s 198us/step - loss: 1.5256 - acc: 0.7581\n",
      "Epoch 7/10\n",
      "62/62 [==============================] - 0s 179us/step - loss: 1.4662 - acc: 0.7742\n",
      "Epoch 8/10\n",
      "62/62 [==============================] - 0s 216us/step - loss: 1.2779 - acc: 0.7903\n",
      "Epoch 9/10\n",
      "62/62 [==============================] - 0s 229us/step - loss: 1.2756 - acc: 0.8226\n",
      "Epoch 10/10\n",
      "62/62 [==============================] - 0s 219us/step - loss: 1.2500 - acc: 0.8548\n",
      "31/31 [==============================] - 0s 3ms/step\n",
      "62/62 [==============================] - 0s 97us/step\n",
      "[CV] .................... epochs=10, lr=0.001, nodes=32, total=   1.3s\n",
      "[CV] epochs=10, lr=0.002, nodes=16 ...................................\n",
      "Epoch 1/10\n",
      "62/62 [==============================] - 1s 9ms/step - loss: 2.7975 - acc: 0.1774\n",
      "Epoch 2/10\n",
      "62/62 [==============================] - 0s 176us/step - loss: 2.2482 - acc: 0.4516\n",
      "Epoch 3/10\n",
      "62/62 [==============================] - 0s 166us/step - loss: 1.9970 - acc: 0.5806\n",
      "Epoch 4/10\n",
      "62/62 [==============================] - 0s 210us/step - loss: 1.7686 - acc: 0.5806\n",
      "Epoch 5/10\n",
      "62/62 [==============================] - 0s 191us/step - loss: 1.4982 - acc: 0.7097\n",
      "Epoch 6/10\n",
      "62/62 [==============================] - 0s 205us/step - loss: 1.3759 - acc: 0.6935\n",
      "Epoch 7/10\n",
      "62/62 [==============================] - 0s 165us/step - loss: 1.3661 - acc: 0.7258\n",
      "Epoch 8/10\n",
      "62/62 [==============================] - 0s 181us/step - loss: 1.2596 - acc: 0.7419\n",
      "Epoch 9/10\n",
      "62/62 [==============================] - 0s 199us/step - loss: 1.3658 - acc: 0.8226\n",
      "Epoch 10/10\n",
      "62/62 [==============================] - 0s 187us/step - loss: 1.1246 - acc: 0.7419\n",
      "31/31 [==============================] - 0s 4ms/step\n",
      "62/62 [==============================] - 0s 518us/step\n",
      "[CV] .................... epochs=10, lr=0.002, nodes=16, total=   1.3s\n",
      "[CV] epochs=10, lr=0.002, nodes=16 ...................................\n",
      "Epoch 1/10\n",
      "62/62 [==============================] - 1s 15ms/step - loss: 3.0421 - acc: 0.1774\n",
      "Epoch 2/10\n",
      "62/62 [==============================] - 0s 199us/step - loss: 2.5061 - acc: 0.4516\n",
      "Epoch 3/10\n",
      "62/62 [==============================] - 0s 265us/step - loss: 2.1860 - acc: 0.6129\n",
      "Epoch 4/10\n",
      "62/62 [==============================] - 0s 172us/step - loss: 2.0465 - acc: 0.6613\n",
      "Epoch 5/10\n",
      "62/62 [==============================] - 0s 176us/step - loss: 1.8157 - acc: 0.6452\n",
      "Epoch 6/10\n",
      "62/62 [==============================] - 0s 201us/step - loss: 1.7301 - acc: 0.6613\n",
      "Epoch 7/10\n",
      "62/62 [==============================] - 0s 188us/step - loss: 1.6346 - acc: 0.7258\n",
      "Epoch 8/10\n",
      "62/62 [==============================] - 0s 144us/step - loss: 1.4825 - acc: 0.7258\n",
      "Epoch 9/10\n",
      "62/62 [==============================] - 0s 208us/step - loss: 1.4652 - acc: 0.7903\n",
      "Epoch 10/10\n",
      "62/62 [==============================] - 0s 169us/step - loss: 1.5197 - acc: 0.7258\n",
      "31/31 [==============================] - 0s 4ms/step\n"
     ]
    },
    {
     "name": "stdout",
     "output_type": "stream",
     "text": [
      "62/62 [==============================] - 0s 78us/step\n",
      "[CV] .................... epochs=10, lr=0.002, nodes=16, total=   2.0s\n",
      "[CV] epochs=10, lr=0.002, nodes=16 ...................................\n",
      "Epoch 1/10\n",
      "62/62 [==============================] - 1s 9ms/step - loss: 3.0735 - acc: 0.0968\n",
      "Epoch 2/10\n",
      "62/62 [==============================] - 0s 155us/step - loss: 2.3322 - acc: 0.4194\n",
      "Epoch 3/10\n",
      "62/62 [==============================] - 0s 151us/step - loss: 2.0783 - acc: 0.6290\n",
      "Epoch 4/10\n",
      "62/62 [==============================] - 0s 213us/step - loss: 1.7985 - acc: 0.6129\n",
      "Epoch 5/10\n",
      "62/62 [==============================] - 0s 188us/step - loss: 1.7331 - acc: 0.6774\n",
      "Epoch 6/10\n",
      "62/62 [==============================] - 0s 170us/step - loss: 1.5673 - acc: 0.7742\n",
      "Epoch 7/10\n",
      "62/62 [==============================] - 0s 160us/step - loss: 1.4043 - acc: 0.8226\n",
      "Epoch 8/10\n",
      "62/62 [==============================] - 0s 195us/step - loss: 1.4939 - acc: 0.7419\n",
      "Epoch 9/10\n",
      "62/62 [==============================] - 0s 199us/step - loss: 1.3993 - acc: 0.8226\n",
      "Epoch 10/10\n",
      "62/62 [==============================] - 0s 138us/step - loss: 1.4299 - acc: 0.7742\n",
      "31/31 [==============================] - 0s 4ms/step\n",
      "62/62 [==============================] - 0s 115us/step\n",
      "[CV] .................... epochs=10, lr=0.002, nodes=16, total=   1.4s\n",
      "[CV] epochs=10, lr=0.002, nodes=32 ...................................\n",
      "Epoch 1/10\n",
      "62/62 [==============================] - 1s 11ms/step - loss: 2.7629 - acc: 0.2097\n",
      "Epoch 2/10\n",
      "62/62 [==============================] - 0s 228us/step - loss: 1.8787 - acc: 0.6290\n",
      "Epoch 3/10\n",
      "62/62 [==============================] - 0s 237us/step - loss: 1.5309 - acc: 0.7903\n",
      "Epoch 4/10\n",
      "62/62 [==============================] - 0s 213us/step - loss: 1.2473 - acc: 0.8387\n",
      "Epoch 5/10\n",
      "62/62 [==============================] - 0s 274us/step - loss: 1.1184 - acc: 0.8065\n",
      "Epoch 6/10\n",
      "62/62 [==============================] - 0s 206us/step - loss: 1.0620 - acc: 0.8226\n",
      "Epoch 7/10\n",
      "62/62 [==============================] - 0s 262us/step - loss: 1.0075 - acc: 0.8871\n",
      "Epoch 8/10\n",
      "62/62 [==============================] - 0s 217us/step - loss: 0.9280 - acc: 0.8226\n",
      "Epoch 9/10\n",
      "62/62 [==============================] - 0s 239us/step - loss: 0.8251 - acc: 0.8387\n",
      "Epoch 10/10\n",
      "62/62 [==============================] - 0s 186us/step - loss: 0.8643 - acc: 0.8387\n",
      "31/31 [==============================] - 0s 5ms/step\n",
      "62/62 [==============================] - 0s 97us/step\n",
      "[CV] .................... epochs=10, lr=0.002, nodes=32, total=   1.7s\n",
      "[CV] epochs=10, lr=0.002, nodes=32 ...................................\n",
      "Epoch 1/10\n",
      "62/62 [==============================] - 1s 10ms/step - loss: 3.1929 - acc: 0.1613\n",
      "Epoch 2/10\n",
      "62/62 [==============================] - 0s 196us/step - loss: 2.1988 - acc: 0.5161\n",
      "Epoch 3/10\n",
      "62/62 [==============================] - 0s 181us/step - loss: 1.8023 - acc: 0.7742\n",
      "Epoch 4/10\n",
      "62/62 [==============================] - 0s 208us/step - loss: 1.5145 - acc: 0.7742\n",
      "Epoch 5/10\n",
      "62/62 [==============================] - 0s 238us/step - loss: 1.3377 - acc: 0.8871\n",
      "Epoch 6/10\n",
      "62/62 [==============================] - 0s 232us/step - loss: 1.1971 - acc: 0.8387\n",
      "Epoch 7/10\n",
      "62/62 [==============================] - 0s 219us/step - loss: 1.1992 - acc: 0.9194\n",
      "Epoch 8/10\n",
      "62/62 [==============================] - 0s 217us/step - loss: 1.2188 - acc: 0.9032\n",
      "Epoch 9/10\n",
      "62/62 [==============================] - 0s 191us/step - loss: 1.0138 - acc: 0.8548\n",
      "Epoch 10/10\n",
      "62/62 [==============================] - 0s 197us/step - loss: 0.9475 - acc: 0.8871\n",
      "31/31 [==============================] - 0s 5ms/step\n",
      "62/62 [==============================] - 0s 130us/step\n",
      "[CV] .................... epochs=10, lr=0.002, nodes=32, total=   1.7s\n",
      "[CV] epochs=10, lr=0.002, nodes=32 ...................................\n",
      "Epoch 1/10\n",
      "62/62 [==============================] - 1s 11ms/step - loss: 2.9994 - acc: 0.1452\n",
      "Epoch 2/10\n",
      "62/62 [==============================] - 0s 235us/step - loss: 1.9661 - acc: 0.6452\n",
      "Epoch 3/10\n",
      "62/62 [==============================] - 0s 205us/step - loss: 1.5704 - acc: 0.7581\n",
      "Epoch 4/10\n",
      "62/62 [==============================] - 0s 242us/step - loss: 1.3663 - acc: 0.8548\n",
      "Epoch 5/10\n",
      "62/62 [==============================] - 0s 185us/step - loss: 1.3107 - acc: 0.8226\n",
      "Epoch 6/10\n",
      "62/62 [==============================] - 0s 183us/step - loss: 1.1302 - acc: 0.7903\n",
      "Epoch 7/10\n",
      "62/62 [==============================] - 0s 212us/step - loss: 1.1043 - acc: 0.8548\n",
      "Epoch 8/10\n",
      "62/62 [==============================] - 0s 259us/step - loss: 1.0503 - acc: 0.7903\n",
      "Epoch 9/10\n",
      "62/62 [==============================] - 0s 214us/step - loss: 0.9183 - acc: 0.8710\n",
      "Epoch 10/10\n",
      "62/62 [==============================] - 0s 208us/step - loss: 0.9478 - acc: 0.8226\n",
      "31/31 [==============================] - 0s 5ms/step\n",
      "62/62 [==============================] - 0s 105us/step\n",
      "[CV] .................... epochs=10, lr=0.002, nodes=32, total=   1.8s\n",
      "[CV] epochs=10, lr=0.003, nodes=16 ...................................\n",
      "Epoch 1/10\n",
      "62/62 [==============================] - 1s 12ms/step - loss: 2.8002 - acc: 0.1290\n",
      "Epoch 2/10\n",
      "62/62 [==============================] - 0s 186us/step - loss: 2.1103 - acc: 0.4355\n",
      "Epoch 3/10\n",
      "62/62 [==============================] - 0s 200us/step - loss: 1.7914 - acc: 0.5645\n",
      "Epoch 4/10\n",
      "62/62 [==============================] - 0s 210us/step - loss: 1.5260 - acc: 0.6129\n",
      "Epoch 5/10\n",
      "62/62 [==============================] - 0s 171us/step - loss: 1.3968 - acc: 0.6452\n",
      "Epoch 6/10\n",
      "62/62 [==============================] - 0s 180us/step - loss: 1.2910 - acc: 0.7419\n",
      "Epoch 7/10\n",
      "62/62 [==============================] - 0s 181us/step - loss: 1.2950 - acc: 0.7742\n",
      "Epoch 8/10\n",
      "62/62 [==============================] - 0s 193us/step - loss: 1.1869 - acc: 0.7258\n",
      "Epoch 9/10\n",
      "62/62 [==============================] - 0s 161us/step - loss: 1.0846 - acc: 0.7419\n",
      "Epoch 10/10\n",
      "62/62 [==============================] - 0s 189us/step - loss: 1.0305 - acc: 0.7419\n",
      "31/31 [==============================] - 0s 6ms/step\n",
      "62/62 [==============================] - 0s 114us/step\n",
      "[CV] .................... epochs=10, lr=0.003, nodes=16, total=   1.9s\n",
      "[CV] epochs=10, lr=0.003, nodes=16 ...................................\n",
      "Epoch 1/10\n",
      "62/62 [==============================] - 1s 12ms/step - loss: 2.9746 - acc: 0.1935\n",
      "Epoch 2/10\n",
      "62/62 [==============================] - 0s 177us/step - loss: 2.2614 - acc: 0.4839\n",
      "Epoch 3/10\n",
      "62/62 [==============================] - 0s 179us/step - loss: 1.9456 - acc: 0.6613\n",
      "Epoch 4/10\n",
      "62/62 [==============================] - 0s 167us/step - loss: 1.6732 - acc: 0.6774\n",
      "Epoch 5/10\n",
      "62/62 [==============================] - 0s 166us/step - loss: 1.5164 - acc: 0.7742\n",
      "Epoch 6/10\n",
      "62/62 [==============================] - 0s 210us/step - loss: 1.4567 - acc: 0.7581\n",
      "Epoch 7/10\n",
      "62/62 [==============================] - 0s 167us/step - loss: 1.4857 - acc: 0.7903\n",
      "Epoch 8/10\n",
      "62/62 [==============================] - 0s 221us/step - loss: 1.4338 - acc: 0.7903\n",
      "Epoch 9/10\n",
      "62/62 [==============================] - 0s 143us/step - loss: 1.2966 - acc: 0.7742\n",
      "Epoch 10/10\n",
      "62/62 [==============================] - 0s 192us/step - loss: 1.3434 - acc: 0.7903\n",
      "31/31 [==============================] - 0s 6ms/step\n",
      "62/62 [==============================] - 0s 99us/step\n",
      "[CV] .................... epochs=10, lr=0.003, nodes=16, total=   1.8s\n",
      "[CV] epochs=10, lr=0.003, nodes=16 ...................................\n",
      "Epoch 1/10\n",
      "62/62 [==============================] - 1s 11ms/step - loss: 3.0160 - acc: 0.1290\n",
      "Epoch 2/10\n",
      "62/62 [==============================] - 0s 158us/step - loss: 2.4253 - acc: 0.3548\n",
      "Epoch 3/10\n",
      "62/62 [==============================] - 0s 177us/step - loss: 2.0521 - acc: 0.4677\n",
      "Epoch 4/10\n",
      "62/62 [==============================] - 0s 199us/step - loss: 1.8234 - acc: 0.6935\n",
      "Epoch 5/10\n",
      "62/62 [==============================] - 0s 151us/step - loss: 1.7094 - acc: 0.6290\n",
      "Epoch 6/10\n",
      "62/62 [==============================] - 0s 210us/step - loss: 1.5268 - acc: 0.7097\n",
      "Epoch 7/10\n",
      "62/62 [==============================] - 0s 190us/step - loss: 1.3769 - acc: 0.7258\n",
      "Epoch 8/10\n",
      "62/62 [==============================] - 0s 211us/step - loss: 1.2286 - acc: 0.8226\n",
      "Epoch 9/10\n"
     ]
    },
    {
     "name": "stdout",
     "output_type": "stream",
     "text": [
      "62/62 [==============================] - 0s 160us/step - loss: 1.2346 - acc: 0.7419\n",
      "Epoch 10/10\n",
      "62/62 [==============================] - 0s 194us/step - loss: 1.2660 - acc: 0.7903\n",
      "31/31 [==============================] - 0s 6ms/step\n",
      "62/62 [==============================] - 0s 86us/step\n",
      "[CV] .................... epochs=10, lr=0.003, nodes=16, total=   1.5s\n",
      "[CV] epochs=10, lr=0.003, nodes=32 ...................................\n",
      "Epoch 1/10\n",
      "62/62 [==============================] - 1s 12ms/step - loss: 2.6763 - acc: 0.2581\n",
      "Epoch 2/10\n",
      "62/62 [==============================] - 0s 206us/step - loss: 1.7943 - acc: 0.6452\n",
      "Epoch 3/10\n",
      "62/62 [==============================] - 0s 189us/step - loss: 1.3349 - acc: 0.8387\n",
      "Epoch 4/10\n",
      "62/62 [==============================] - 0s 202us/step - loss: 1.1084 - acc: 0.8226\n",
      "Epoch 5/10\n",
      "62/62 [==============================] - 0s 218us/step - loss: 0.9498 - acc: 0.9194\n",
      "Epoch 6/10\n",
      "62/62 [==============================] - 0s 212us/step - loss: 0.8252 - acc: 0.8387\n",
      "Epoch 7/10\n",
      "62/62 [==============================] - 0s 221us/step - loss: 0.7712 - acc: 0.9032\n",
      "Epoch 8/10\n",
      "62/62 [==============================] - 0s 206us/step - loss: 0.7435 - acc: 0.8548\n",
      "Epoch 9/10\n",
      "62/62 [==============================] - 0s 190us/step - loss: 0.7333 - acc: 0.9194\n",
      "Epoch 10/10\n",
      "62/62 [==============================] - 0s 218us/step - loss: 0.7835 - acc: 0.8226\n",
      "31/31 [==============================] - 0s 6ms/step\n",
      "62/62 [==============================] - 0s 97us/step\n",
      "[CV] .................... epochs=10, lr=0.003, nodes=32, total=   1.6s\n",
      "[CV] epochs=10, lr=0.003, nodes=32 ...................................\n",
      "Epoch 1/10\n",
      "62/62 [==============================] - 1s 11ms/step - loss: 3.0172 - acc: 0.1290\n",
      "Epoch 2/10\n",
      "62/62 [==============================] - 0s 196us/step - loss: 2.2940 - acc: 0.4839\n",
      "Epoch 3/10\n",
      "62/62 [==============================] - 0s 175us/step - loss: 1.7809 - acc: 0.7258\n",
      "Epoch 4/10\n",
      "62/62 [==============================] - 0s 212us/step - loss: 1.4969 - acc: 0.7097\n",
      "Epoch 5/10\n",
      "62/62 [==============================] - 0s 201us/step - loss: 1.3803 - acc: 0.8387\n",
      "Epoch 6/10\n",
      "62/62 [==============================] - 0s 212us/step - loss: 1.1787 - acc: 0.8710\n",
      "Epoch 7/10\n",
      "62/62 [==============================] - 0s 187us/step - loss: 1.1571 - acc: 0.8226\n",
      "Epoch 8/10\n",
      "62/62 [==============================] - 0s 181us/step - loss: 1.0590 - acc: 0.8387\n",
      "Epoch 9/10\n",
      "62/62 [==============================] - 0s 202us/step - loss: 1.1110 - acc: 0.8548\n",
      "Epoch 10/10\n",
      "62/62 [==============================] - 0s 202us/step - loss: 0.9924 - acc: 0.8548\n",
      "31/31 [==============================] - 0s 6ms/step\n",
      "62/62 [==============================] - 0s 94us/step\n",
      "[CV] .................... epochs=10, lr=0.003, nodes=32, total=   1.6s\n",
      "[CV] epochs=10, lr=0.003, nodes=32 ...................................\n",
      "Epoch 1/10\n",
      "62/62 [==============================] - 1s 12ms/step - loss: 3.0537 - acc: 0.1129\n",
      "Epoch 2/10\n",
      "62/62 [==============================] - 0s 181us/step - loss: 1.9527 - acc: 0.6935\n",
      "Epoch 3/10\n",
      "62/62 [==============================] - 0s 190us/step - loss: 1.5113 - acc: 0.8065\n",
      "Epoch 4/10\n",
      "62/62 [==============================] - 0s 223us/step - loss: 1.4571 - acc: 0.7742\n",
      "Epoch 5/10\n",
      "62/62 [==============================] - 0s 197us/step - loss: 1.2950 - acc: 0.8387\n",
      "Epoch 6/10\n",
      "62/62 [==============================] - 0s 200us/step - loss: 1.2187 - acc: 0.8065\n",
      "Epoch 7/10\n",
      "62/62 [==============================] - 0s 194us/step - loss: 1.0888 - acc: 0.8548\n",
      "Epoch 8/10\n",
      "62/62 [==============================] - 0s 186us/step - loss: 0.9746 - acc: 0.8710\n",
      "Epoch 9/10\n",
      "62/62 [==============================] - 0s 196us/step - loss: 0.9106 - acc: 0.8548\n",
      "Epoch 10/10\n",
      "62/62 [==============================] - 0s 213us/step - loss: 0.9041 - acc: 0.8548\n",
      "31/31 [==============================] - 0s 7ms/step\n",
      "62/62 [==============================] - 0s 102us/step\n",
      "[CV] .................... epochs=10, lr=0.003, nodes=32, total=   1.8s\n",
      "[CV] epochs=20, lr=0.001, nodes=16 ...................................\n",
      "Epoch 1/20\n",
      "62/62 [==============================] - 1s 12ms/step - loss: 2.8156 - acc: 0.1613\n",
      "Epoch 2/20\n",
      "62/62 [==============================] - 0s 147us/step - loss: 2.4891 - acc: 0.3226\n",
      "Epoch 3/20\n",
      "62/62 [==============================] - 0s 184us/step - loss: 2.3180 - acc: 0.3871\n",
      "Epoch 4/20\n",
      "62/62 [==============================] - 0s 176us/step - loss: 2.1374 - acc: 0.5968\n",
      "Epoch 5/20\n",
      "62/62 [==============================] - 0s 154us/step - loss: 1.9860 - acc: 0.6290\n",
      "Epoch 6/20\n",
      "62/62 [==============================] - 0s 175us/step - loss: 1.9091 - acc: 0.5806\n",
      "Epoch 7/20\n",
      "62/62 [==============================] - 0s 178us/step - loss: 1.7787 - acc: 0.6774\n",
      "Epoch 8/20\n",
      "62/62 [==============================] - 0s 153us/step - loss: 1.7904 - acc: 0.6129\n",
      "Epoch 9/20\n",
      "62/62 [==============================] - 0s 177us/step - loss: 1.6359 - acc: 0.6290\n",
      "Epoch 10/20\n",
      "62/62 [==============================] - 0s 177us/step - loss: 1.7232 - acc: 0.6452\n",
      "Epoch 11/20\n",
      "62/62 [==============================] - 0s 166us/step - loss: 1.5369 - acc: 0.7097\n",
      "Epoch 12/20\n",
      "62/62 [==============================] - 0s 143us/step - loss: 1.5340 - acc: 0.7581\n",
      "Epoch 13/20\n",
      "62/62 [==============================] - 0s 190us/step - loss: 1.3529 - acc: 0.7903\n",
      "Epoch 14/20\n",
      "62/62 [==============================] - 0s 188us/step - loss: 1.3823 - acc: 0.7742\n",
      "Epoch 15/20\n",
      "62/62 [==============================] - 0s 151us/step - loss: 1.2516 - acc: 0.7419\n",
      "Epoch 16/20\n",
      "62/62 [==============================] - 0s 168us/step - loss: 1.2931 - acc: 0.7742\n",
      "Epoch 17/20\n",
      "62/62 [==============================] - 0s 186us/step - loss: 1.3067 - acc: 0.7581\n",
      "Epoch 18/20\n",
      "62/62 [==============================] - 0s 133us/step - loss: 1.3098 - acc: 0.7419\n",
      "Epoch 19/20\n",
      "62/62 [==============================] - 0s 212us/step - loss: 1.1801 - acc: 0.7581\n",
      "Epoch 20/20\n",
      "62/62 [==============================] - 0s 175us/step - loss: 1.2946 - acc: 0.7581\n",
      "31/31 [==============================] - 0s 8ms/step\n",
      "62/62 [==============================] - 0s 118us/step\n",
      "[CV] .................... epochs=20, lr=0.001, nodes=16, total=   1.7s\n",
      "[CV] epochs=20, lr=0.001, nodes=16 ...................................\n",
      "Epoch 1/20\n",
      "62/62 [==============================] - 1s 13ms/step - loss: 3.0510 - acc: 0.1613\n",
      "Epoch 2/20\n",
      "62/62 [==============================] - 0s 167us/step - loss: 2.5129 - acc: 0.4032\n",
      "Epoch 3/20\n",
      "62/62 [==============================] - 0s 154us/step - loss: 2.4033 - acc: 0.5000\n",
      "Epoch 4/20\n",
      "62/62 [==============================] - 0s 160us/step - loss: 2.1838 - acc: 0.5968\n",
      "Epoch 5/20\n",
      "62/62 [==============================] - 0s 175us/step - loss: 2.0906 - acc: 0.6290\n",
      "Epoch 6/20\n",
      "62/62 [==============================] - 0s 184us/step - loss: 1.9550 - acc: 0.7581\n",
      "Epoch 7/20\n",
      "62/62 [==============================] - 0s 141us/step - loss: 1.8814 - acc: 0.7581\n",
      "Epoch 8/20\n",
      "62/62 [==============================] - 0s 190us/step - loss: 1.7257 - acc: 0.7742\n",
      "Epoch 9/20\n",
      "62/62 [==============================] - 0s 186us/step - loss: 1.6974 - acc: 0.7581\n",
      "Epoch 10/20\n",
      "62/62 [==============================] - 0s 147us/step - loss: 1.6384 - acc: 0.7419\n",
      "Epoch 11/20\n",
      "62/62 [==============================] - 0s 169us/step - loss: 1.4731 - acc: 0.8710\n",
      "Epoch 12/20\n",
      "62/62 [==============================] - 0s 182us/step - loss: 1.4801 - acc: 0.8387\n",
      "Epoch 13/20\n",
      "62/62 [==============================] - 0s 148us/step - loss: 1.4613 - acc: 0.8226\n",
      "Epoch 14/20\n",
      "62/62 [==============================] - 0s 190us/step - loss: 1.4377 - acc: 0.8065\n",
      "Epoch 15/20\n",
      "62/62 [==============================] - 0s 184us/step - loss: 1.4236 - acc: 0.8226\n",
      "Epoch 16/20\n",
      "62/62 [==============================] - 0s 167us/step - loss: 1.2647 - acc: 0.8871\n",
      "Epoch 17/20\n",
      "62/62 [==============================] - 0s 174us/step - loss: 1.3201 - acc: 0.8387\n",
      "Epoch 18/20\n",
      "62/62 [==============================] - 0s 176us/step - loss: 1.2083 - acc: 0.9194\n",
      "Epoch 19/20\n",
      "62/62 [==============================] - 0s 196us/step - loss: 1.2835 - acc: 0.8065\n",
      "Epoch 20/20\n",
      "62/62 [==============================] - 0s 180us/step - loss: 1.2681 - acc: 0.8548\n",
      "31/31 [==============================] - 0s 7ms/step\n"
     ]
    },
    {
     "name": "stdout",
     "output_type": "stream",
     "text": [
      "62/62 [==============================] - 0s 90us/step\n",
      "[CV] .................... epochs=20, lr=0.001, nodes=16, total=   1.8s\n",
      "[CV] epochs=20, lr=0.001, nodes=16 ...................................\n",
      "Epoch 1/20\n",
      "62/62 [==============================] - 1s 13ms/step - loss: 3.0237 - acc: 0.0968\n",
      "Epoch 2/20\n",
      "62/62 [==============================] - 0s 151us/step - loss: 2.5997 - acc: 0.3065\n",
      "Epoch 3/20\n",
      "62/62 [==============================] - 0s 173us/step - loss: 2.3416 - acc: 0.3871\n",
      "Epoch 4/20\n",
      "62/62 [==============================] - 0s 147us/step - loss: 2.2177 - acc: 0.5000\n",
      "Epoch 5/20\n",
      "62/62 [==============================] - 0s 186us/step - loss: 2.1076 - acc: 0.5806\n",
      "Epoch 6/20\n",
      "62/62 [==============================] - 0s 167us/step - loss: 2.0476 - acc: 0.5968\n",
      "Epoch 7/20\n",
      "62/62 [==============================] - 0s 167us/step - loss: 1.8815 - acc: 0.5968\n",
      "Epoch 8/20\n",
      "62/62 [==============================] - 0s 177us/step - loss: 1.8715 - acc: 0.6613\n",
      "Epoch 9/20\n",
      "62/62 [==============================] - 0s 192us/step - loss: 1.7519 - acc: 0.6774\n",
      "Epoch 10/20\n",
      "62/62 [==============================] - 0s 141us/step - loss: 1.7935 - acc: 0.6774\n",
      "Epoch 11/20\n",
      "62/62 [==============================] - 0s 168us/step - loss: 1.6941 - acc: 0.6452\n",
      "Epoch 12/20\n",
      "62/62 [==============================] - 0s 177us/step - loss: 1.5522 - acc: 0.7742\n",
      "Epoch 13/20\n",
      "62/62 [==============================] - 0s 167us/step - loss: 1.5698 - acc: 0.8065\n",
      "Epoch 14/20\n",
      "62/62 [==============================] - 0s 140us/step - loss: 1.5991 - acc: 0.7097\n",
      "Epoch 15/20\n",
      "62/62 [==============================] - 0s 179us/step - loss: 1.5810 - acc: 0.6290\n",
      "Epoch 16/20\n",
      "62/62 [==============================] - 0s 176us/step - loss: 1.4878 - acc: 0.7258\n",
      "Epoch 17/20\n",
      "62/62 [==============================] - 0s 150us/step - loss: 1.4441 - acc: 0.8387\n",
      "Epoch 18/20\n",
      "62/62 [==============================] - 0s 179us/step - loss: 1.3639 - acc: 0.7419\n",
      "Epoch 19/20\n",
      "62/62 [==============================] - 0s 192us/step - loss: 1.3467 - acc: 0.7258\n",
      "Epoch 20/20\n",
      "62/62 [==============================] - 0s 145us/step - loss: 1.4487 - acc: 0.7903\n",
      "31/31 [==============================] - 0s 8ms/step\n",
      "62/62 [==============================] - 0s 99us/step\n",
      "[CV] .................... epochs=20, lr=0.001, nodes=16, total=   1.8s\n",
      "[CV] epochs=20, lr=0.001, nodes=32 ...................................\n",
      "Epoch 1/20\n",
      "62/62 [==============================] - 1s 14ms/step - loss: 2.9308 - acc: 0.0484\n",
      "Epoch 2/20\n",
      "62/62 [==============================] - 0s 185us/step - loss: 2.3678 - acc: 0.4516\n",
      "Epoch 3/20\n",
      "62/62 [==============================] - 0s 200us/step - loss: 2.0590 - acc: 0.6290\n",
      "Epoch 4/20\n",
      "62/62 [==============================] - 0s 205us/step - loss: 1.7568 - acc: 0.8226\n",
      "Epoch 5/20\n",
      "62/62 [==============================] - 0s 221us/step - loss: 1.6813 - acc: 0.7581\n",
      "Epoch 6/20\n",
      "62/62 [==============================] - 0s 215us/step - loss: 1.4224 - acc: 0.8065\n",
      "Epoch 7/20\n",
      "62/62 [==============================] - 0s 205us/step - loss: 1.4094 - acc: 0.8065\n",
      "Epoch 8/20\n",
      "62/62 [==============================] - 0s 178us/step - loss: 1.2901 - acc: 0.8065\n",
      "Epoch 9/20\n",
      "62/62 [==============================] - 0s 185us/step - loss: 1.1498 - acc: 0.8387\n",
      "Epoch 10/20\n",
      "62/62 [==============================] - 0s 219us/step - loss: 1.1075 - acc: 0.8387\n",
      "Epoch 11/20\n",
      "62/62 [==============================] - 0s 199us/step - loss: 1.0586 - acc: 0.8065\n",
      "Epoch 12/20\n",
      "62/62 [==============================] - 0s 227us/step - loss: 1.0197 - acc: 0.9355\n",
      "Epoch 13/20\n",
      "62/62 [==============================] - 0s 211us/step - loss: 0.9872 - acc: 0.8387\n",
      "Epoch 14/20\n",
      "62/62 [==============================] - 0s 174us/step - loss: 0.9449 - acc: 0.8871\n",
      "Epoch 15/20\n",
      "62/62 [==============================] - 0s 211us/step - loss: 0.8815 - acc: 0.8065\n",
      "Epoch 16/20\n",
      "62/62 [==============================] - 0s 215us/step - loss: 0.8953 - acc: 0.8387\n",
      "Epoch 17/20\n",
      "62/62 [==============================] - 0s 192us/step - loss: 0.8277 - acc: 0.8548\n",
      "Epoch 18/20\n",
      "62/62 [==============================] - 0s 201us/step - loss: 0.8303 - acc: 0.8871\n",
      "Epoch 19/20\n",
      "62/62 [==============================] - 0s 171us/step - loss: 0.7556 - acc: 0.8548\n",
      "Epoch 20/20\n",
      "62/62 [==============================] - 0s 213us/step - loss: 0.8023 - acc: 0.9032\n",
      "31/31 [==============================] - 0s 8ms/step\n",
      "62/62 [==============================] - 0s 106us/step\n",
      "[CV] .................... epochs=20, lr=0.001, nodes=32, total=   2.0s\n",
      "[CV] epochs=20, lr=0.001, nodes=32 ...................................\n",
      "Epoch 1/20\n",
      "62/62 [==============================] - 1s 15ms/step - loss: 3.1380 - acc: 0.0645\n",
      "Epoch 2/20\n",
      "62/62 [==============================] - 0s 218us/step - loss: 2.4346 - acc: 0.5323\n",
      "Epoch 3/20\n",
      "62/62 [==============================] - 0s 206us/step - loss: 2.1937 - acc: 0.6613\n",
      "Epoch 4/20\n",
      "62/62 [==============================] - 0s 211us/step - loss: 1.9075 - acc: 0.7742\n",
      "Epoch 5/20\n",
      "62/62 [==============================] - 0s 234us/step - loss: 1.7845 - acc: 0.7419\n",
      "Epoch 6/20\n",
      "62/62 [==============================] - 0s 195us/step - loss: 1.5976 - acc: 0.7742\n",
      "Epoch 7/20\n",
      "62/62 [==============================] - 0s 204us/step - loss: 1.5827 - acc: 0.8065\n",
      "Epoch 8/20\n",
      "62/62 [==============================] - 0s 189us/step - loss: 1.5189 - acc: 0.7903\n",
      "Epoch 9/20\n",
      "62/62 [==============================] - 0s 208us/step - loss: 1.4458 - acc: 0.8710\n",
      "Epoch 10/20\n",
      "62/62 [==============================] - 0s 202us/step - loss: 1.2840 - acc: 0.8226\n",
      "Epoch 11/20\n",
      "62/62 [==============================] - 0s 190us/step - loss: 1.3069 - acc: 0.8387\n",
      "Epoch 12/20\n",
      "62/62 [==============================] - 0s 229us/step - loss: 1.2983 - acc: 0.8710\n",
      "Epoch 13/20\n",
      "62/62 [==============================] - 0s 161us/step - loss: 1.1610 - acc: 0.8710\n",
      "Epoch 14/20\n",
      "62/62 [==============================] - 0s 203us/step - loss: 1.0891 - acc: 0.8387\n",
      "Epoch 15/20\n",
      "62/62 [==============================] - 0s 207us/step - loss: 1.1114 - acc: 0.9194\n",
      "Epoch 16/20\n",
      "62/62 [==============================] - 0s 175us/step - loss: 1.0868 - acc: 0.8871\n",
      "Epoch 17/20\n",
      "62/62 [==============================] - 0s 182us/step - loss: 1.0587 - acc: 0.8387\n",
      "Epoch 18/20\n",
      "62/62 [==============================] - 0s 201us/step - loss: 0.9573 - acc: 0.8710\n",
      "Epoch 19/20\n",
      "62/62 [==============================] - 0s 191us/step - loss: 0.8893 - acc: 0.9032\n",
      "Epoch 20/20\n",
      "62/62 [==============================] - 0s 207us/step - loss: 0.9088 - acc: 0.8387\n",
      "31/31 [==============================] - 0s 9ms/step\n",
      "62/62 [==============================] - 0s 141us/step\n",
      "[CV] .................... epochs=20, lr=0.001, nodes=32, total=   2.2s\n",
      "[CV] epochs=20, lr=0.001, nodes=32 ...................................\n",
      "Epoch 1/20\n",
      "62/62 [==============================] - 1s 17ms/step - loss: 3.1264 - acc: 0.0806\n",
      "Epoch 2/20\n",
      "62/62 [==============================] - 0s 188us/step - loss: 2.4426 - acc: 0.4516\n",
      "Epoch 3/20\n",
      "62/62 [==============================] - 0s 239us/step - loss: 2.0962 - acc: 0.6452\n",
      "Epoch 4/20\n",
      "62/62 [==============================] - 0s 185us/step - loss: 1.8571 - acc: 0.7581\n",
      "Epoch 5/20\n",
      "62/62 [==============================] - 0s 184us/step - loss: 1.6787 - acc: 0.7258\n",
      "Epoch 6/20\n",
      "62/62 [==============================] - 0s 210us/step - loss: 1.5512 - acc: 0.7742\n",
      "Epoch 7/20\n",
      "62/62 [==============================] - 0s 208us/step - loss: 1.4839 - acc: 0.8065\n",
      "Epoch 8/20\n",
      "62/62 [==============================] - 0s 205us/step - loss: 1.3947 - acc: 0.8710\n",
      "Epoch 9/20\n",
      "62/62 [==============================] - 0s 207us/step - loss: 1.3027 - acc: 0.8710\n",
      "Epoch 10/20\n",
      "62/62 [==============================] - 0s 179us/step - loss: 1.2156 - acc: 0.7903\n",
      "Epoch 11/20\n",
      "62/62 [==============================] - 0s 214us/step - loss: 1.2513 - acc: 0.8226\n",
      "Epoch 12/20\n",
      "62/62 [==============================] - 0s 213us/step - loss: 1.1346 - acc: 0.8710\n",
      "Epoch 13/20\n",
      "62/62 [==============================] - 0s 207us/step - loss: 1.1132 - acc: 0.8226\n",
      "Epoch 14/20\n",
      "62/62 [==============================] - 0s 192us/step - loss: 1.0309 - acc: 0.8065\n",
      "Epoch 15/20\n",
      "62/62 [==============================] - 0s 186us/step - loss: 1.0098 - acc: 0.8871\n",
      "Epoch 16/20\n"
     ]
    },
    {
     "name": "stdout",
     "output_type": "stream",
     "text": [
      "62/62 [==============================] - 0s 190us/step - loss: 0.9550 - acc: 0.8871\n",
      "Epoch 17/20\n",
      "62/62 [==============================] - 0s 251us/step - loss: 0.9478 - acc: 0.8387\n",
      "Epoch 18/20\n",
      "62/62 [==============================] - 0s 255us/step - loss: 0.8710 - acc: 0.8710\n",
      "Epoch 19/20\n",
      "62/62 [==============================] - 0s 341us/step - loss: 0.9742 - acc: 0.8548\n",
      "Epoch 20/20\n",
      "62/62 [==============================] - 0s 194us/step - loss: 0.9939 - acc: 0.8548\n",
      "31/31 [==============================] - 0s 10ms/step\n",
      "62/62 [==============================] - 0s 148us/step\n",
      "[CV] .................... epochs=20, lr=0.001, nodes=32, total=   2.7s\n",
      "[CV] epochs=20, lr=0.002, nodes=16 ...................................\n",
      "Epoch 1/20\n",
      "62/62 [==============================] - 1s 16ms/step - loss: 2.8451 - acc: 0.1613\n",
      "Epoch 2/20\n",
      "62/62 [==============================] - 0s 173us/step - loss: 2.3240 - acc: 0.4032\n",
      "Epoch 3/20\n",
      "62/62 [==============================] - 0s 167us/step - loss: 2.0314 - acc: 0.5968\n",
      "Epoch 4/20\n",
      "62/62 [==============================] - 0s 184us/step - loss: 1.7435 - acc: 0.6129\n",
      "Epoch 5/20\n",
      "62/62 [==============================] - 0s 188us/step - loss: 1.5724 - acc: 0.6613\n",
      "Epoch 6/20\n",
      "62/62 [==============================] - 0s 170us/step - loss: 1.4879 - acc: 0.6774\n",
      "Epoch 7/20\n",
      "62/62 [==============================] - 0s 170us/step - loss: 1.3033 - acc: 0.6935\n",
      "Epoch 8/20\n",
      "62/62 [==============================] - 0s 193us/step - loss: 1.3695 - acc: 0.7419\n",
      "Epoch 9/20\n",
      "62/62 [==============================] - 0s 184us/step - loss: 1.2005 - acc: 0.7903\n",
      "Epoch 10/20\n",
      "62/62 [==============================] - 0s 176us/step - loss: 1.1481 - acc: 0.7581\n",
      "Epoch 11/20\n",
      "62/62 [==============================] - 0s 169us/step - loss: 1.0376 - acc: 0.8226\n",
      "Epoch 12/20\n",
      "62/62 [==============================] - 0s 217us/step - loss: 0.9653 - acc: 0.7419\n",
      "Epoch 13/20\n",
      "62/62 [==============================] - 0s 231us/step - loss: 1.0075 - acc: 0.8065\n",
      "Epoch 14/20\n",
      "62/62 [==============================] - 0s 195us/step - loss: 0.9348 - acc: 0.8065\n",
      "Epoch 15/20\n",
      "62/62 [==============================] - 0s 225us/step - loss: 0.9286 - acc: 0.8871\n",
      "Epoch 16/20\n",
      "62/62 [==============================] - 0s 208us/step - loss: 0.9548 - acc: 0.7258\n",
      "Epoch 17/20\n",
      "62/62 [==============================] - 0s 197us/step - loss: 0.8782 - acc: 0.8065\n",
      "Epoch 18/20\n",
      "62/62 [==============================] - 0s 219us/step - loss: 1.0312 - acc: 0.8871\n",
      "Epoch 19/20\n",
      "62/62 [==============================] - 0s 190us/step - loss: 0.8325 - acc: 0.8226\n",
      "Epoch 20/20\n",
      "62/62 [==============================] - 0s 217us/step - loss: 1.0391 - acc: 0.7258\n",
      "31/31 [==============================] - 0s 10ms/step\n",
      "62/62 [==============================] - 0s 106us/step\n",
      "[CV] .................... epochs=20, lr=0.002, nodes=16, total=   2.2s\n",
      "[CV] epochs=20, lr=0.002, nodes=16 ...................................\n",
      "Epoch 1/20\n",
      "62/62 [==============================] - 1s 15ms/step - loss: 2.9327 - acc: 0.1129\n",
      "Epoch 2/20\n",
      "62/62 [==============================] - 0s 155us/step - loss: 2.4588 - acc: 0.3548\n",
      "Epoch 3/20\n",
      "62/62 [==============================] - 0s 201us/step - loss: 2.2000 - acc: 0.4516\n",
      "Epoch 4/20\n",
      "62/62 [==============================] - 0s 158us/step - loss: 2.1268 - acc: 0.4355\n",
      "Epoch 5/20\n",
      "62/62 [==============================] - 0s 188us/step - loss: 1.8959 - acc: 0.5484\n",
      "Epoch 6/20\n",
      "62/62 [==============================] - 0s 173us/step - loss: 1.8146 - acc: 0.6129\n",
      "Epoch 7/20\n",
      "62/62 [==============================] - 0s 181us/step - loss: 1.6628 - acc: 0.7258\n",
      "Epoch 8/20\n",
      "62/62 [==============================] - 0s 149us/step - loss: 1.5280 - acc: 0.8065\n",
      "Epoch 9/20\n",
      "62/62 [==============================] - 0s 197us/step - loss: 1.4617 - acc: 0.6935\n",
      "Epoch 10/20\n",
      "62/62 [==============================] - 0s 191us/step - loss: 1.5166 - acc: 0.7258\n",
      "Epoch 11/20\n",
      "62/62 [==============================] - 0s 156us/step - loss: 1.3246 - acc: 0.8548\n",
      "Epoch 12/20\n",
      "62/62 [==============================] - 0s 181us/step - loss: 1.2885 - acc: 0.8548\n",
      "Epoch 13/20\n",
      "62/62 [==============================] - 0s 200us/step - loss: 1.2021 - acc: 0.7581\n",
      "Epoch 14/20\n",
      "62/62 [==============================] - 0s 191us/step - loss: 1.2288 - acc: 0.7742\n",
      "Epoch 15/20\n",
      "62/62 [==============================] - 0s 166us/step - loss: 1.2119 - acc: 0.8387\n",
      "Epoch 16/20\n",
      "62/62 [==============================] - 0s 163us/step - loss: 1.1785 - acc: 0.8548\n",
      "Epoch 17/20\n",
      "62/62 [==============================] - 0s 198us/step - loss: 1.1100 - acc: 0.8710\n",
      "Epoch 18/20\n",
      "62/62 [==============================] - 0s 181us/step - loss: 1.2073 - acc: 0.8226\n",
      "Epoch 19/20\n",
      "62/62 [==============================] - 0s 173us/step - loss: 1.1244 - acc: 0.8548\n",
      "Epoch 20/20\n",
      "62/62 [==============================] - 0s 183us/step - loss: 1.1086 - acc: 0.7581\n",
      "31/31 [==============================] - 0s 9ms/step\n",
      "62/62 [==============================] - 0s 88us/step\n",
      "[CV] .................... epochs=20, lr=0.002, nodes=16, total=   2.0s\n",
      "[CV] epochs=20, lr=0.002, nodes=16 ...................................\n",
      "Epoch 1/20\n",
      "62/62 [==============================] - 1s 15ms/step - loss: 2.8958 - acc: 0.1290\n",
      "Epoch 2/20\n",
      "62/62 [==============================] - 0s 172us/step - loss: 2.4224 - acc: 0.3065\n",
      "Epoch 3/20\n",
      "62/62 [==============================] - 0s 188us/step - loss: 2.2114 - acc: 0.5161\n",
      "Epoch 4/20\n",
      "62/62 [==============================] - 0s 153us/step - loss: 2.0112 - acc: 0.5806\n",
      "Epoch 5/20\n",
      "62/62 [==============================] - 0s 171us/step - loss: 1.7116 - acc: 0.7258\n",
      "Epoch 6/20\n",
      "62/62 [==============================] - 0s 185us/step - loss: 1.6517 - acc: 0.7097\n",
      "Epoch 7/20\n",
      "62/62 [==============================] - 0s 172us/step - loss: 1.5031 - acc: 0.7581\n",
      "Epoch 8/20\n",
      "62/62 [==============================] - 0s 156us/step - loss: 1.4171 - acc: 0.6935\n",
      "Epoch 9/20\n",
      "62/62 [==============================] - 0s 184us/step - loss: 1.3400 - acc: 0.7742\n",
      "Epoch 10/20\n",
      "62/62 [==============================] - 0s 183us/step - loss: 1.3959 - acc: 0.7903\n",
      "Epoch 11/20\n",
      "62/62 [==============================] - 0s 151us/step - loss: 1.1586 - acc: 0.8065\n",
      "Epoch 12/20\n",
      "62/62 [==============================] - 0s 204us/step - loss: 1.1630 - acc: 0.8226\n",
      "Epoch 13/20\n",
      "62/62 [==============================] - 0s 199us/step - loss: 1.3205 - acc: 0.7258\n",
      "Epoch 14/20\n",
      "62/62 [==============================] - 0s 198us/step - loss: 1.1109 - acc: 0.8710\n",
      "Epoch 15/20\n",
      "62/62 [==============================] - 0s 147us/step - loss: 1.2287 - acc: 0.7742\n",
      "Epoch 16/20\n",
      "62/62 [==============================] - 0s 183us/step - loss: 1.1550 - acc: 0.7419\n",
      "Epoch 17/20\n",
      "62/62 [==============================] - 0s 157us/step - loss: 1.0426 - acc: 0.8387\n",
      "Epoch 18/20\n",
      "62/62 [==============================] - 0s 180us/step - loss: 1.0965 - acc: 0.7581\n",
      "Epoch 19/20\n",
      "62/62 [==============================] - 0s 181us/step - loss: 0.9979 - acc: 0.8387\n",
      "Epoch 20/20\n",
      "62/62 [==============================] - 0s 181us/step - loss: 1.0863 - acc: 0.7742\n",
      "31/31 [==============================] - 0s 10ms/step\n",
      "62/62 [==============================] - 0s 92us/step\n",
      "[CV] .................... epochs=20, lr=0.002, nodes=16, total=   2.0s\n",
      "[CV] epochs=20, lr=0.002, nodes=32 ...................................\n",
      "Epoch 1/20\n",
      "62/62 [==============================] - 1s 16ms/step - loss: 2.8215 - acc: 0.1774\n",
      "Epoch 2/20\n",
      "62/62 [==============================] - 0s 189us/step - loss: 1.9866 - acc: 0.5323\n",
      "Epoch 3/20\n",
      "62/62 [==============================] - 0s 189us/step - loss: 1.6185 - acc: 0.7097\n",
      "Epoch 4/20\n",
      "62/62 [==============================] - 0s 179us/step - loss: 1.3029 - acc: 0.8387\n",
      "Epoch 5/20\n",
      "62/62 [==============================] - 0s 205us/step - loss: 1.2001 - acc: 0.8548\n",
      "Epoch 6/20\n",
      "62/62 [==============================] - 0s 194us/step - loss: 1.0563 - acc: 0.8548\n",
      "Epoch 7/20\n",
      "62/62 [==============================] - 0s 228us/step - loss: 1.0648 - acc: 0.8226\n",
      "Epoch 8/20\n",
      "62/62 [==============================] - 0s 214us/step - loss: 0.9004 - acc: 0.8710\n",
      "Epoch 9/20\n",
      "62/62 [==============================] - 0s 208us/step - loss: 0.8641 - acc: 0.8871\n",
      "Epoch 10/20\n",
      "62/62 [==============================] - 0s 217us/step - loss: 0.7927 - acc: 0.9032\n",
      "Epoch 11/20\n"
     ]
    },
    {
     "name": "stdout",
     "output_type": "stream",
     "text": [
      "62/62 [==============================] - 0s 205us/step - loss: 0.7467 - acc: 0.9194\n",
      "Epoch 12/20\n",
      "62/62 [==============================] - 0s 212us/step - loss: 0.7941 - acc: 0.8065\n",
      "Epoch 13/20\n",
      "62/62 [==============================] - 0s 220us/step - loss: 0.7012 - acc: 0.8871\n",
      "Epoch 14/20\n",
      "62/62 [==============================] - 0s 244us/step - loss: 0.6328 - acc: 0.9194\n",
      "Epoch 15/20\n",
      "62/62 [==============================] - 0s 227us/step - loss: 0.6951 - acc: 0.8548\n",
      "Epoch 16/20\n",
      "62/62 [==============================] - 0s 244us/step - loss: 0.6223 - acc: 0.8387\n",
      "Epoch 17/20\n",
      "62/62 [==============================] - 0s 246us/step - loss: 0.6816 - acc: 0.8710\n",
      "Epoch 18/20\n",
      "62/62 [==============================] - 0s 227us/step - loss: 0.6251 - acc: 0.8548\n",
      "Epoch 19/20\n",
      "62/62 [==============================] - 0s 223us/step - loss: 0.5840 - acc: 0.8871\n",
      "Epoch 20/20\n",
      "62/62 [==============================] - 0s 230us/step - loss: 0.5923 - acc: 0.9032\n",
      "31/31 [==============================] - 0s 10ms/step\n",
      "62/62 [==============================] - 0s 108us/step\n",
      "[CV] .................... epochs=20, lr=0.002, nodes=32, total=   2.1s\n",
      "[CV] epochs=20, lr=0.002, nodes=32 ...................................\n",
      "Epoch 1/20\n",
      "62/62 [==============================] - 1s 16ms/step - loss: 3.0500 - acc: 0.1452\n",
      "Epoch 2/20\n",
      "62/62 [==============================] - 0s 223us/step - loss: 2.2259 - acc: 0.6452\n",
      "Epoch 3/20\n",
      "62/62 [==============================] - 0s 184us/step - loss: 1.8689 - acc: 0.7581\n",
      "Epoch 4/20\n",
      "62/62 [==============================] - 0s 206us/step - loss: 1.6017 - acc: 0.8065\n",
      "Epoch 5/20\n",
      "62/62 [==============================] - 0s 195us/step - loss: 1.5147 - acc: 0.8226\n",
      "Epoch 6/20\n",
      "62/62 [==============================] - 0s 202us/step - loss: 1.2961 - acc: 0.8387\n",
      "Epoch 7/20\n",
      "62/62 [==============================] - 0s 221us/step - loss: 1.2564 - acc: 0.9032\n",
      "Epoch 8/20\n",
      "62/62 [==============================] - 0s 208us/step - loss: 1.0978 - acc: 0.8871\n",
      "Epoch 9/20\n",
      "62/62 [==============================] - 0s 199us/step - loss: 1.1264 - acc: 0.8871\n",
      "Epoch 10/20\n",
      "62/62 [==============================] - 0s 201us/step - loss: 1.1227 - acc: 0.8710\n",
      "Epoch 11/20\n",
      "62/62 [==============================] - 0s 181us/step - loss: 1.1286 - acc: 0.9032\n",
      "Epoch 12/20\n",
      "62/62 [==============================] - 0s 210us/step - loss: 0.9890 - acc: 0.8710\n",
      "Epoch 13/20\n",
      "62/62 [==============================] - 0s 175us/step - loss: 1.0143 - acc: 0.8710\n",
      "Epoch 14/20\n",
      "62/62 [==============================] - 0s 217us/step - loss: 0.9393 - acc: 0.9355\n",
      "Epoch 15/20\n",
      "62/62 [==============================] - 0s 205us/step - loss: 0.9471 - acc: 0.9032\n",
      "Epoch 16/20\n",
      "62/62 [==============================] - 0s 245us/step - loss: 0.9789 - acc: 0.9032\n",
      "Epoch 17/20\n",
      "62/62 [==============================] - 0s 212us/step - loss: 0.9287 - acc: 0.8548\n",
      "Epoch 18/20\n",
      "62/62 [==============================] - 0s 177us/step - loss: 0.7937 - acc: 0.8548\n",
      "Epoch 19/20\n",
      "62/62 [==============================] - 0s 186us/step - loss: 0.8893 - acc: 0.8710\n",
      "Epoch 20/20\n",
      "62/62 [==============================] - 0s 189us/step - loss: 0.8267 - acc: 0.8710\n",
      "31/31 [==============================] - 0s 10ms/step\n",
      "62/62 [==============================] - 0s 97us/step\n",
      "[CV] .................... epochs=20, lr=0.002, nodes=32, total=   2.1s\n",
      "[CV] epochs=20, lr=0.002, nodes=32 ...................................\n",
      "Epoch 1/20\n",
      "62/62 [==============================] - 1s 16ms/step - loss: 3.0281 - acc: 0.1290\n",
      "Epoch 2/20\n",
      "62/62 [==============================] - 0s 182us/step - loss: 2.1628 - acc: 0.5968\n",
      "Epoch 3/20\n",
      "62/62 [==============================] - 0s 221us/step - loss: 1.7955 - acc: 0.7903\n",
      "Epoch 4/20\n",
      "62/62 [==============================] - 0s 211us/step - loss: 1.5821 - acc: 0.7258\n",
      "Epoch 5/20\n",
      "62/62 [==============================] - 0s 208us/step - loss: 1.4128 - acc: 0.7419\n",
      "Epoch 6/20\n",
      "62/62 [==============================] - 0s 243us/step - loss: 1.3008 - acc: 0.8387\n",
      "Epoch 7/20\n",
      "62/62 [==============================] - 0s 208us/step - loss: 1.1885 - acc: 0.7903\n",
      "Epoch 8/20\n",
      "62/62 [==============================] - 0s 183us/step - loss: 1.2623 - acc: 0.8226\n",
      "Epoch 9/20\n",
      "62/62 [==============================] - 0s 215us/step - loss: 1.0931 - acc: 0.8226\n",
      "Epoch 10/20\n",
      "62/62 [==============================] - 0s 170us/step - loss: 1.0170 - acc: 0.8871\n",
      "Epoch 11/20\n",
      "62/62 [==============================] - 0s 187us/step - loss: 0.9537 - acc: 0.8710\n",
      "Epoch 12/20\n",
      "62/62 [==============================] - 0s 191us/step - loss: 0.9329 - acc: 0.8710\n",
      "Epoch 13/20\n",
      "62/62 [==============================] - 0s 215us/step - loss: 0.8506 - acc: 0.8871\n",
      "Epoch 14/20\n",
      "62/62 [==============================] - 0s 210us/step - loss: 0.8853 - acc: 0.9032\n",
      "Epoch 15/20\n",
      "62/62 [==============================] - 0s 207us/step - loss: 0.7651 - acc: 0.8548\n",
      "Epoch 16/20\n",
      "62/62 [==============================] - 0s 235us/step - loss: 0.8019 - acc: 0.9194\n",
      "Epoch 17/20\n",
      "62/62 [==============================] - 0s 225us/step - loss: 0.8206 - acc: 0.8387\n",
      "Epoch 18/20\n",
      "62/62 [==============================] - 0s 198us/step - loss: 0.7929 - acc: 0.9194\n",
      "Epoch 19/20\n",
      "62/62 [==============================] - 0s 180us/step - loss: 0.8592 - acc: 0.9032\n",
      "Epoch 20/20\n",
      "62/62 [==============================] - 0s 181us/step - loss: 0.8007 - acc: 0.8871\n",
      "31/31 [==============================] - 0s 11ms/step\n",
      "62/62 [==============================] - 0s 138us/step\n",
      "[CV] .................... epochs=20, lr=0.002, nodes=32, total=   2.2s\n",
      "[CV] epochs=20, lr=0.003, nodes=16 ...................................\n",
      "Epoch 1/20\n",
      "62/62 [==============================] - 1s 17ms/step - loss: 2.8881 - acc: 0.0968\n",
      "Epoch 2/20\n",
      "62/62 [==============================] - 0s 225us/step - loss: 2.2373 - acc: 0.4032\n",
      "Epoch 3/20\n",
      "62/62 [==============================] - 0s 166us/step - loss: 1.9918 - acc: 0.4516\n",
      "Epoch 4/20\n",
      "62/62 [==============================] - 0s 233us/step - loss: 1.7758 - acc: 0.5161\n",
      "Epoch 5/20\n",
      "62/62 [==============================] - 0s 178us/step - loss: 1.5959 - acc: 0.6290\n",
      "Epoch 6/20\n",
      "62/62 [==============================] - 0s 182us/step - loss: 1.3211 - acc: 0.7419\n",
      "Epoch 7/20\n",
      "62/62 [==============================] - 0s 166us/step - loss: 1.2754 - acc: 0.8226\n",
      "Epoch 8/20\n",
      "62/62 [==============================] - 0s 199us/step - loss: 1.2170 - acc: 0.8387\n",
      "Epoch 9/20\n",
      "62/62 [==============================] - 0s 165us/step - loss: 1.1742 - acc: 0.7419\n",
      "Epoch 10/20\n",
      "62/62 [==============================] - 0s 171us/step - loss: 1.0534 - acc: 0.7581\n",
      "Epoch 11/20\n",
      "62/62 [==============================] - 0s 167us/step - loss: 1.1202 - acc: 0.7903\n",
      "Epoch 12/20\n",
      "62/62 [==============================] - 0s 171us/step - loss: 0.9479 - acc: 0.8871\n",
      "Epoch 13/20\n",
      "62/62 [==============================] - 0s 176us/step - loss: 0.9741 - acc: 0.8065\n",
      "Epoch 14/20\n",
      "62/62 [==============================] - 0s 175us/step - loss: 0.8966 - acc: 0.8871\n",
      "Epoch 15/20\n",
      "62/62 [==============================] - 0s 180us/step - loss: 0.9127 - acc: 0.8871\n",
      "Epoch 16/20\n",
      "62/62 [==============================] - 0s 159us/step - loss: 0.9879 - acc: 0.7903\n",
      "Epoch 17/20\n",
      "62/62 [==============================] - 0s 185us/step - loss: 0.8680 - acc: 0.9194\n",
      "Epoch 18/20\n",
      "62/62 [==============================] - 0s 172us/step - loss: 0.8208 - acc: 0.8548\n",
      "Epoch 19/20\n",
      "62/62 [==============================] - 0s 208us/step - loss: 0.8046 - acc: 0.8548\n",
      "Epoch 20/20\n",
      "62/62 [==============================] - 0s 187us/step - loss: 0.8002 - acc: 0.8710\n",
      "31/31 [==============================] - 0s 12ms/step\n",
      "62/62 [==============================] - 0s 110us/step\n",
      "[CV] .................... epochs=20, lr=0.003, nodes=16, total=   2.6s\n",
      "[CV] epochs=20, lr=0.003, nodes=16 ...................................\n",
      "Epoch 1/20\n",
      "62/62 [==============================] - 1s 17ms/step - loss: 3.0891 - acc: 0.0645\n",
      "Epoch 2/20\n",
      "62/62 [==============================] - 0s 187us/step - loss: 2.4537 - acc: 0.3871\n",
      "Epoch 3/20\n",
      "62/62 [==============================] - 0s 191us/step - loss: 2.1008 - acc: 0.6129\n",
      "Epoch 4/20\n",
      "62/62 [==============================] - 0s 187us/step - loss: 1.9134 - acc: 0.5806\n",
      "Epoch 5/20\n",
      "62/62 [==============================] - 0s 198us/step - loss: 1.6901 - acc: 0.7419\n",
      "Epoch 6/20\n"
     ]
    },
    {
     "name": "stdout",
     "output_type": "stream",
     "text": [
      "62/62 [==============================] - 0s 230us/step - loss: 1.6065 - acc: 0.7581\n",
      "Epoch 7/20\n",
      "62/62 [==============================] - 0s 228us/step - loss: 1.4382 - acc: 0.7581\n",
      "Epoch 8/20\n",
      "62/62 [==============================] - 0s 221us/step - loss: 1.4867 - acc: 0.6774\n",
      "Epoch 9/20\n",
      "62/62 [==============================] - 0s 198us/step - loss: 1.3493 - acc: 0.8387\n",
      "Epoch 10/20\n",
      "62/62 [==============================] - 0s 229us/step - loss: 1.2174 - acc: 0.7742\n",
      "Epoch 11/20\n",
      "62/62 [==============================] - 0s 227us/step - loss: 1.3326 - acc: 0.6935\n",
      "Epoch 12/20\n",
      "62/62 [==============================] - 0s 209us/step - loss: 1.1198 - acc: 0.8387\n",
      "Epoch 13/20\n",
      "62/62 [==============================] - 0s 239us/step - loss: 1.1467 - acc: 0.7903\n",
      "Epoch 14/20\n",
      "62/62 [==============================] - 0s 167us/step - loss: 1.1005 - acc: 0.8548\n",
      "Epoch 15/20\n",
      "62/62 [==============================] - 0s 168us/step - loss: 1.0752 - acc: 0.8065\n",
      "Epoch 16/20\n",
      "62/62 [==============================] - 0s 187us/step - loss: 1.1784 - acc: 0.7742\n",
      "Epoch 17/20\n",
      "62/62 [==============================] - 0s 268us/step - loss: 0.9515 - acc: 0.8548\n",
      "Epoch 18/20\n",
      "62/62 [==============================] - 0s 252us/step - loss: 0.9730 - acc: 0.9032\n",
      "Epoch 19/20\n",
      "62/62 [==============================] - 0s 219us/step - loss: 0.9825 - acc: 0.8548\n",
      "Epoch 20/20\n",
      "62/62 [==============================] - 0s 234us/step - loss: 0.9025 - acc: 0.8548\n",
      "31/31 [==============================] - 0s 13ms/step\n",
      "62/62 [==============================] - 0s 97us/step\n",
      "[CV] .................... epochs=20, lr=0.003, nodes=16, total=   2.3s\n",
      "[CV] epochs=20, lr=0.003, nodes=16 ...................................\n",
      "Epoch 1/20\n",
      "62/62 [==============================] - 1s 18ms/step - loss: 2.9255 - acc: 0.2258\n",
      "Epoch 2/20\n",
      "62/62 [==============================] - 0s 210us/step - loss: 2.2728 - acc: 0.5645\n",
      "Epoch 3/20\n",
      "62/62 [==============================] - 0s 171us/step - loss: 1.8928 - acc: 0.6613\n",
      "Epoch 4/20\n",
      "62/62 [==============================] - 0s 195us/step - loss: 1.5971 - acc: 0.7097\n",
      "Epoch 5/20\n",
      "62/62 [==============================] - 0s 200us/step - loss: 1.5414 - acc: 0.6613\n",
      "Epoch 6/20\n",
      "62/62 [==============================] - 0s 229us/step - loss: 1.4847 - acc: 0.6613\n",
      "Epoch 7/20\n",
      "62/62 [==============================] - 0s 187us/step - loss: 1.5216 - acc: 0.8387\n",
      "Epoch 8/20\n",
      "62/62 [==============================] - 0s 172us/step - loss: 1.3459 - acc: 0.6935\n",
      "Epoch 9/20\n",
      "62/62 [==============================] - 0s 162us/step - loss: 1.2261 - acc: 0.7581\n",
      "Epoch 10/20\n",
      "62/62 [==============================] - 0s 178us/step - loss: 1.2780 - acc: 0.7903\n",
      "Epoch 11/20\n",
      "62/62 [==============================] - 0s 199us/step - loss: 1.2731 - acc: 0.7581\n",
      "Epoch 12/20\n",
      "62/62 [==============================] - 0s 179us/step - loss: 1.1306 - acc: 0.8065\n",
      "Epoch 13/20\n",
      "62/62 [==============================] - 0s 163us/step - loss: 1.1989 - acc: 0.8226\n",
      "Epoch 14/20\n",
      "62/62 [==============================] - 0s 252us/step - loss: 1.1028 - acc: 0.8065\n",
      "Epoch 15/20\n",
      "62/62 [==============================] - 0s 183us/step - loss: 1.1159 - acc: 0.8065\n",
      "Epoch 16/20\n",
      "62/62 [==============================] - 0s 190us/step - loss: 1.0328 - acc: 0.8065\n",
      "Epoch 17/20\n",
      "62/62 [==============================] - 0s 171us/step - loss: 1.0734 - acc: 0.8710\n",
      "Epoch 18/20\n",
      "62/62 [==============================] - 0s 163us/step - loss: 1.0958 - acc: 0.7419\n",
      "Epoch 19/20\n",
      "62/62 [==============================] - 0s 205us/step - loss: 1.0500 - acc: 0.8710\n",
      "Epoch 20/20\n",
      "62/62 [==============================] - 0s 170us/step - loss: 0.9931 - acc: 0.7742\n",
      "31/31 [==============================] - 0s 12ms/step\n",
      "62/62 [==============================] - 0s 100us/step\n",
      "[CV] .................... epochs=20, lr=0.003, nodes=16, total=   2.4s\n",
      "[CV] epochs=20, lr=0.003, nodes=32 ...................................\n",
      "Epoch 1/20\n",
      "62/62 [==============================] - 1s 18ms/step - loss: 2.7018 - acc: 0.1613\n",
      "Epoch 2/20\n",
      "62/62 [==============================] - 0s 226us/step - loss: 1.7481 - acc: 0.6129\n",
      "Epoch 3/20\n",
      "62/62 [==============================] - 0s 181us/step - loss: 1.3505 - acc: 0.8226\n",
      "Epoch 4/20\n",
      "62/62 [==============================] - 0s 205us/step - loss: 1.0177 - acc: 0.8226\n",
      "Epoch 5/20\n",
      "62/62 [==============================] - 0s 201us/step - loss: 0.9023 - acc: 0.9032\n",
      "Epoch 6/20\n",
      "62/62 [==============================] - 0s 211us/step - loss: 0.7801 - acc: 0.8387\n",
      "Epoch 7/20\n",
      "62/62 [==============================] - 0s 220us/step - loss: 0.8529 - acc: 0.9032\n",
      "Epoch 8/20\n",
      "62/62 [==============================] - 0s 197us/step - loss: 0.7864 - acc: 0.8548\n",
      "Epoch 9/20\n",
      "62/62 [==============================] - 0s 185us/step - loss: 0.7273 - acc: 0.9032\n",
      "Epoch 10/20\n",
      "62/62 [==============================] - 0s 205us/step - loss: 0.8072 - acc: 0.8065\n",
      "Epoch 11/20\n",
      "62/62 [==============================] - 0s 216us/step - loss: 0.6049 - acc: 0.9355\n",
      "Epoch 12/20\n",
      "62/62 [==============================] - 0s 211us/step - loss: 0.6143 - acc: 0.8387\n",
      "Epoch 13/20\n",
      "62/62 [==============================] - 0s 181us/step - loss: 0.6251 - acc: 0.9194\n",
      "Epoch 14/20\n",
      "62/62 [==============================] - 0s 221us/step - loss: 0.6133 - acc: 0.8871\n",
      "Epoch 15/20\n",
      "62/62 [==============================] - 0s 214us/step - loss: 0.6174 - acc: 0.8871\n",
      "Epoch 16/20\n",
      "62/62 [==============================] - 0s 222us/step - loss: 0.6549 - acc: 0.9032\n",
      "Epoch 17/20\n",
      "62/62 [==============================] - 0s 167us/step - loss: 0.5332 - acc: 0.8387\n",
      "Epoch 18/20\n",
      "62/62 [==============================] - 0s 189us/step - loss: 0.5476 - acc: 0.9194\n",
      "Epoch 19/20\n",
      "62/62 [==============================] - 0s 195us/step - loss: 0.5513 - acc: 0.9032\n",
      "Epoch 20/20\n",
      "62/62 [==============================] - 0s 179us/step - loss: 0.5871 - acc: 0.8710\n",
      "31/31 [==============================] - 0s 12ms/step\n",
      "62/62 [==============================] - 0s 116us/step\n",
      "[CV] .................... epochs=20, lr=0.003, nodes=32, total=   2.3s\n",
      "[CV] epochs=20, lr=0.003, nodes=32 ...................................\n",
      "Epoch 1/20\n",
      "62/62 [==============================] - 1s 18ms/step - loss: 3.0306 - acc: 0.1935\n",
      "Epoch 2/20\n",
      "62/62 [==============================] - 0s 260us/step - loss: 2.0045 - acc: 0.6290\n",
      "Epoch 3/20\n",
      "62/62 [==============================] - 0s 187us/step - loss: 1.6119 - acc: 0.9032\n",
      "Epoch 4/20\n",
      "62/62 [==============================] - 0s 228us/step - loss: 1.3799 - acc: 0.8065\n",
      "Epoch 5/20\n",
      "62/62 [==============================] - 0s 233us/step - loss: 1.1434 - acc: 0.8065\n",
      "Epoch 6/20\n",
      "62/62 [==============================] - 0s 187us/step - loss: 1.0928 - acc: 0.8387\n",
      "Epoch 7/20\n",
      "62/62 [==============================] - 0s 222us/step - loss: 0.9588 - acc: 0.8710\n",
      "Epoch 8/20\n",
      "62/62 [==============================] - 0s 200us/step - loss: 0.9818 - acc: 0.8710\n",
      "Epoch 9/20\n",
      "62/62 [==============================] - 0s 194us/step - loss: 0.9019 - acc: 0.8710\n",
      "Epoch 10/20\n",
      "62/62 [==============================] - 0s 175us/step - loss: 0.8773 - acc: 0.8710\n",
      "Epoch 11/20\n",
      "62/62 [==============================] - 0s 172us/step - loss: 0.8322 - acc: 0.8548\n",
      "Epoch 12/20\n",
      "62/62 [==============================] - 0s 213us/step - loss: 0.7990 - acc: 0.8871\n",
      "Epoch 13/20\n",
      "62/62 [==============================] - 0s 172us/step - loss: 0.8799 - acc: 0.8387\n",
      "Epoch 14/20\n",
      "62/62 [==============================] - 0s 188us/step - loss: 0.8296 - acc: 0.9032\n",
      "Epoch 15/20\n",
      "62/62 [==============================] - 0s 221us/step - loss: 0.7654 - acc: 0.8387\n",
      "Epoch 16/20\n",
      "62/62 [==============================] - 0s 238us/step - loss: 0.8408 - acc: 0.8710\n",
      "Epoch 17/20\n",
      "62/62 [==============================] - 0s 193us/step - loss: 0.8238 - acc: 0.9194\n",
      "Epoch 18/20\n",
      "62/62 [==============================] - 0s 256us/step - loss: 0.8017 - acc: 0.9516\n",
      "Epoch 19/20\n",
      "62/62 [==============================] - 0s 258us/step - loss: 0.7395 - acc: 0.8710\n",
      "Epoch 20/20\n",
      "62/62 [==============================] - 0s 267us/step - loss: 0.8233 - acc: 0.8871\n",
      "31/31 [==============================] - 0s 14ms/step\n",
      "62/62 [==============================] - 0s 96us/step\n",
      "[CV] .................... epochs=20, lr=0.003, nodes=32, total=   2.4s\n",
      "[CV] epochs=20, lr=0.003, nodes=32 ...................................\n",
      "Epoch 1/20\n"
     ]
    },
    {
     "name": "stdout",
     "output_type": "stream",
     "text": [
      "62/62 [==============================] - 1s 23ms/step - loss: 2.8999 - acc: 0.2097\n",
      "Epoch 2/20\n",
      "62/62 [==============================] - 0s 243us/step - loss: 1.9887 - acc: 0.6774\n",
      "Epoch 3/20\n",
      "62/62 [==============================] - 0s 255us/step - loss: 1.5484 - acc: 0.7903\n",
      "Epoch 4/20\n",
      "62/62 [==============================] - 0s 254us/step - loss: 1.2624 - acc: 0.8226\n",
      "Epoch 5/20\n",
      "62/62 [==============================] - 0s 266us/step - loss: 1.2816 - acc: 0.8226\n",
      "Epoch 6/20\n",
      "62/62 [==============================] - 0s 193us/step - loss: 1.0405 - acc: 0.8548\n",
      "Epoch 7/20\n",
      "62/62 [==============================] - 0s 215us/step - loss: 1.0940 - acc: 0.9032\n",
      "Epoch 8/20\n",
      "62/62 [==============================] - 0s 271us/step - loss: 1.0110 - acc: 0.8871\n",
      "Epoch 9/20\n",
      "62/62 [==============================] - 0s 227us/step - loss: 0.9793 - acc: 0.8548\n",
      "Epoch 10/20\n",
      "62/62 [==============================] - 0s 271us/step - loss: 0.9255 - acc: 0.8710\n",
      "Epoch 11/20\n",
      "62/62 [==============================] - 0s 234us/step - loss: 0.9034 - acc: 0.8226\n",
      "Epoch 12/20\n",
      "62/62 [==============================] - 0s 228us/step - loss: 1.0117 - acc: 0.8871\n",
      "Epoch 13/20\n",
      "62/62 [==============================] - 0s 270us/step - loss: 0.8847 - acc: 0.8871\n",
      "Epoch 14/20\n",
      "62/62 [==============================] - 0s 273us/step - loss: 0.8055 - acc: 0.8548\n",
      "Epoch 15/20\n",
      "62/62 [==============================] - 0s 217us/step - loss: 0.8073 - acc: 0.8710\n",
      "Epoch 16/20\n",
      "62/62 [==============================] - 0s 259us/step - loss: 0.7525 - acc: 0.9032\n",
      "Epoch 17/20\n",
      "62/62 [==============================] - 0s 350us/step - loss: 0.8878 - acc: 0.8226\n",
      "Epoch 18/20\n",
      "62/62 [==============================] - 0s 213us/step - loss: 0.8532 - acc: 0.9032\n",
      "Epoch 19/20\n",
      "62/62 [==============================] - 0s 199us/step - loss: 0.7601 - acc: 0.8226\n",
      "Epoch 20/20\n",
      "62/62 [==============================] - 0s 217us/step - loss: 0.7491 - acc: 0.8871\n",
      "31/31 [==============================] - 0s 15ms/step\n",
      "62/62 [==============================] - 0s 118us/step\n",
      "[CV] .................... epochs=20, lr=0.003, nodes=32, total=   2.9s\n"
     ]
    },
    {
     "name": "stderr",
     "output_type": "stream",
     "text": [
      "[Parallel(n_jobs=1)]: Done  36 out of  36 | elapsed:  1.1min finished\n"
     ]
    },
    {
     "name": "stdout",
     "output_type": "stream",
     "text": [
      "Epoch 1/20\n",
      "93/93 [==============================] - 1s 14ms/step - loss: 2.8799 - acc: 0.1828\n",
      "Epoch 2/20\n",
      "93/93 [==============================] - 0s 197us/step - loss: 1.8002 - acc: 0.7312\n",
      "Epoch 3/20\n",
      "93/93 [==============================] - 0s 204us/step - loss: 1.4384 - acc: 0.7957\n",
      "Epoch 4/20\n",
      "93/93 [==============================] - 0s 183us/step - loss: 1.2348 - acc: 0.8710\n",
      "Epoch 5/20\n",
      "93/93 [==============================] - 0s 187us/step - loss: 1.0703 - acc: 0.8817\n",
      "Epoch 6/20\n",
      "93/93 [==============================] - 0s 206us/step - loss: 1.0318 - acc: 0.9032\n",
      "Epoch 7/20\n",
      "93/93 [==============================] - 0s 188us/step - loss: 1.0733 - acc: 0.8172\n",
      "Epoch 8/20\n",
      "93/93 [==============================] - 0s 188us/step - loss: 0.8294 - acc: 0.9032\n",
      "Epoch 9/20\n",
      "93/93 [==============================] - 0s 178us/step - loss: 0.8980 - acc: 0.8925\n",
      "Epoch 10/20\n",
      "93/93 [==============================] - 0s 207us/step - loss: 0.8122 - acc: 0.8495\n",
      "Epoch 11/20\n",
      "93/93 [==============================] - 0s 196us/step - loss: 0.8058 - acc: 0.8817\n",
      "Epoch 12/20\n",
      "93/93 [==============================] - 0s 225us/step - loss: 0.9136 - acc: 0.8602\n",
      "Epoch 13/20\n",
      "93/93 [==============================] - 0s 216us/step - loss: 0.7753 - acc: 0.9140\n",
      "Epoch 14/20\n",
      "93/93 [==============================] - 0s 223us/step - loss: 0.8310 - acc: 0.8387\n",
      "Epoch 15/20\n",
      "93/93 [==============================] - 0s 198us/step - loss: 0.7800 - acc: 0.8925\n",
      "Epoch 16/20\n",
      "93/93 [==============================] - 0s 227us/step - loss: 0.7164 - acc: 0.8602\n",
      "Epoch 17/20\n",
      "93/93 [==============================] - 0s 172us/step - loss: 0.7401 - acc: 0.8387\n",
      "Epoch 18/20\n",
      "93/93 [==============================] - 0s 189us/step - loss: 0.6496 - acc: 0.9140\n",
      "Epoch 19/20\n",
      "93/93 [==============================] - 0s 192us/step - loss: 0.7148 - acc: 0.8710\n",
      "Epoch 20/20\n",
      "93/93 [==============================] - 0s 192us/step - loss: 0.8083 - acc: 0.8817\n"
     ]
    }
   ],
   "source": [
    "#start fitting process\n",
    "param_grid = dict(epochs=epochs,nodes=nodes, lr=lrs)\n",
    "grid = GridSearchCV(estimator=model, param_grid=param_grid, n_jobs=1,refit=True,verbose=2)\n",
    "grid_result = grid.fit(X_train, Y_train)"
   ]
  },
  {
   "cell_type": "code",
   "execution_count": 67,
   "metadata": {},
   "outputs": [
    {
     "name": "stdout",
     "output_type": "stream",
     "text": [
      "GridSearchCV(cv=None, error_score='raise',\n",
      "       estimator=<keras.wrappers.scikit_learn.KerasClassifier object at 0x12127f9e8>,\n",
      "       fit_params=None, iid=True, n_jobs=1,\n",
      "       param_grid={'epochs': [10, 20], 'nodes': [16, 32], 'lr': [0.001, 0.002, 0.003]},\n",
      "       pre_dispatch='2*n_jobs', refit=True, return_train_score='warn',\n",
      "       scoring=None, verbose=2)\n"
     ]
    }
   ],
   "source": [
    "print(grid_result)"
   ]
  },
  {
   "cell_type": "code",
   "execution_count": 68,
   "metadata": {},
   "outputs": [
    {
     "name": "stdout",
     "output_type": "stream",
     "text": [
      "Best estimator : <keras.wrappers.scikit_learn.KerasClassifier object at 0x12fa67c50>\n",
      "Best score : 0.5913978318373362\n",
      "Best params : {'epochs': 20, 'lr': 0.003, 'nodes': 32}\n"
     ]
    }
   ],
   "source": [
    "print('Best estimator : {}'.format (grid.best_estimator_))\n",
    "print('Best score : {}'.format(grid.best_score_))\n",
    "print('Best params : {}'.format(grid.best_params_))"
   ]
  },
  {
   "cell_type": "code",
   "execution_count": 69,
   "metadata": {
    "scrolled": true
   },
   "outputs": [
    {
     "name": "stdout",
     "output_type": "stream",
     "text": [
      "{'mean_fit_time': array([1.12686626, 1.32934705, 1.43799671, 1.58056506, 1.53587   ,\n",
      "       1.4668692 , 1.5470717 , 2.01947061, 1.76525911, 1.8040688 ,\n",
      "       2.0206933 , 2.09377607]), 'std_fit_time': array([0.07802286, 0.12160029, 0.28345727, 0.04639525, 0.16476943,\n",
      "       0.11955106, 0.0375942 , 0.2656819 , 0.0665599 , 0.00420706,\n",
      "       0.13384008, 0.21353067]), 'mean_score_time': array([0.05572613, 0.08539796, 0.12109661, 0.1554571 , 0.19532315,\n",
      "       0.20208009, 0.23397613, 0.28385003, 0.30201435, 0.33309857,\n",
      "       0.38207833, 0.4315606 ]), 'std_score_time': array([0.01351843, 0.01207502, 0.00710894, 0.00420446, 0.00346427,\n",
      "       0.01010583, 0.00482757, 0.02724011, 0.004572  , 0.01791464,\n",
      "       0.00959762, 0.04105926]), 'param_epochs': masked_array(data=[10, 10, 10, 10, 10, 10, 20, 20, 20, 20, 20, 20],\n",
      "             mask=[False, False, False, False, False, False, False, False,\n",
      "                   False, False, False, False],\n",
      "       fill_value='?',\n",
      "            dtype=object), 'param_lr': masked_array(data=[0.001, 0.001, 0.002, 0.002, 0.003, 0.003, 0.001, 0.001,\n",
      "                   0.002, 0.002, 0.003, 0.003],\n",
      "             mask=[False, False, False, False, False, False, False, False,\n",
      "                   False, False, False, False],\n",
      "       fill_value='?',\n",
      "            dtype=object), 'param_nodes': masked_array(data=[16, 32, 16, 32, 16, 32, 16, 32, 16, 32, 16, 32],\n",
      "             mask=[False, False, False, False, False, False, False, False,\n",
      "                   False, False, False, False],\n",
      "       fill_value='?',\n",
      "            dtype=object), 'params': [{'epochs': 10, 'lr': 0.001, 'nodes': 16}, {'epochs': 10, 'lr': 0.001, 'nodes': 32}, {'epochs': 10, 'lr': 0.002, 'nodes': 16}, {'epochs': 10, 'lr': 0.002, 'nodes': 32}, {'epochs': 10, 'lr': 0.003, 'nodes': 16}, {'epochs': 10, 'lr': 0.003, 'nodes': 32}, {'epochs': 20, 'lr': 0.001, 'nodes': 16}, {'epochs': 20, 'lr': 0.001, 'nodes': 32}, {'epochs': 20, 'lr': 0.002, 'nodes': 16}, {'epochs': 20, 'lr': 0.002, 'nodes': 32}, {'epochs': 20, 'lr': 0.003, 'nodes': 16}, {'epochs': 20, 'lr': 0.003, 'nodes': 32}], 'split0_test_score': array([0.51612902, 0.48387095, 0.61290324, 0.58064514, 0.7096774 ,\n",
      "       0.58064514, 0.58064514, 0.67741936, 0.58064514, 0.67741936,\n",
      "       0.67741936, 0.7096774 ]), 'split1_test_score': array([0.32258064, 0.48387095, 0.3548387 , 0.3548387 , 0.32258064,\n",
      "       0.41935483, 0.32258064, 0.41935483, 0.61290324, 0.48387095,\n",
      "       0.48387095, 0.48387095]), 'split2_test_score': array([0.41935483, 0.45161289, 0.41935483, 0.41935483, 0.58064514,\n",
      "       0.51612902, 0.51612902, 0.48387095, 0.51612902, 0.54838711,\n",
      "       0.51612902, 0.58064514]), 'mean_test_score': array([0.41935483, 0.47311827, 0.46236559, 0.45161289, 0.53763439,\n",
      "       0.50537633, 0.47311827, 0.52688171, 0.56989247, 0.56989248,\n",
      "       0.55913978, 0.59139783]), 'std_test_score': array([0.0790158 , 0.0152066 , 0.10965634, 0.09496517, 0.1609315 ,\n",
      "       0.06628402, 0.10965633, 0.10965634, 0.04023288, 0.08046576,\n",
      "       0.08466676, 0.09249812]), 'rank_test_score': array([12,  8, 10, 11,  5,  7,  8,  6,  3,  2,  4,  1], dtype=int32), 'split0_train_score': array([0.88709676, 0.87096773, 0.88709676, 0.91935484, 0.88709676,\n",
      "       0.88709678, 0.88709678, 0.87096775, 0.96774192, 0.8548387 ,\n",
      "       0.88709676, 0.88709676]), 'split1_train_score': array([0.79032257, 0.88709678, 0.91935484, 0.91935483, 0.91935484,\n",
      "       0.88709678, 0.91935484, 0.91935484, 0.90322581, 0.90322579,\n",
      "       0.90322581, 0.8548387 ]), 'split2_train_score': array([0.8064516 , 0.8548387 , 0.87096775, 0.90322579, 0.85483871,\n",
      "       0.88709676, 0.87096775, 0.82258064, 0.93548386, 0.85483871,\n",
      "       0.90322581, 0.88709678]), 'mean_train_score': array([0.82795698, 0.87096774, 0.89247312, 0.91397849, 0.88709677,\n",
      "       0.88709677, 0.89247312, 0.87096774, 0.93548386, 0.87096774,\n",
      "       0.89784946, 0.87634408]), 'std_train_score': array([4.23333748e-02, 1.31693044e-02, 2.01164381e-02, 7.60330189e-03,\n",
      "       2.63385986e-02, 6.34468689e-09, 2.01164362e-02, 3.95079038e-02,\n",
      "       2.63385931e-02, 2.28098925e-02, 7.60330507e-03, 1.52066006e-02])}\n"
     ]
    }
   ],
   "source": [
    "print(grid.cv_results_)"
   ]
  },
  {
   "cell_type": "code",
   "execution_count": 70,
   "metadata": {},
   "outputs": [],
   "source": [
    "#predictions\n",
    "predictions = grid.predict(X_test)"
   ]
  },
  {
   "cell_type": "code",
   "execution_count": 71,
   "metadata": {},
   "outputs": [
    {
     "name": "stdout",
     "output_type": "stream",
     "text": [
      "(31, 9)\n"
     ]
    }
   ],
   "source": [
    "#predictions\n",
    "predict = grid.predict_proba(X_test)\n",
    "print(predict.shape)"
   ]
  },
  {
   "cell_type": "code",
   "execution_count": 72,
   "metadata": {},
   "outputs": [
    {
     "name": "stdout",
     "output_type": "stream",
     "text": [
      "Log_loss : 1.9261731131372206\n",
      "Hamming_loss : 7.526881720430108\n",
      "Accuracy : 51.61290322580645\n"
     ]
    }
   ],
   "source": [
    "#calculate score\n",
    "loss = log_loss(Y_test,predict)\n",
    "print(\"Log_loss : {}\".format(loss))\n",
    "predict = np.round(predict)\n",
    "loss = hamming_loss(Y_test,predict)\n",
    "print(\"Hamming_loss : {}\".format(loss*100))\n",
    "accuracy = accuracy_score(Y_test,predict)\n",
    "print(\"Accuracy : {}\".format(accuracy*100))"
   ]
  },
  {
   "cell_type": "markdown",
   "metadata": {},
   "source": [
    "## Free Form Visualisation \n",
    "# We will finalise this part after selecting the models that we want to keep!\n",
    "Let us have a plot showing the **hamming-loss** and **log-loss** of different models, which we selected."
   ]
  },
  {
   "cell_type": "code",
   "execution_count": 74,
   "metadata": {},
   "outputs": [],
   "source": [
    "import matplotlib.pyplot as plt\n",
    "import numpy as np\n",
    "import matplotlib.cm as cm\n",
    "import itertools"
   ]
  },
  {
   "cell_type": "code",
   "execution_count": 75,
   "metadata": {},
   "outputs": [
    {
     "data": {
      "image/png": "[encoded data removed]",
      "text/plain": [
       "<Figure size 432x288 with 1 Axes>"
      ]
     },
     "metadata": {},
     "output_type": "display_data"
    }
   ],
   "source": [
    "x = ['BR-MultNB','BR-GausNB','BR-SVC','CC-MultNB','LP-MultNB','BP-MLL-ini','BP-MLL-fin']\n",
    "y = [3.27,20.74,4.26,3.56,3.17,13.96,15.158]\n",
    "colors = itertools.cycle(['b', 'g', 'r', 'c', 'm', 'y', 'k'])\n",
    "plt.ylabel('Hamming-Loss')\n",
    "plt.xlabel('Model-details')\n",
    "plt.xticks(rotation=90)\n",
    "for i in range(len(y)):\n",
    "    plt.bar(x[i], y[i], color=next(colors))\n",
    "plt.show()"
   ]
  },
  {
   "cell_type": "code",
   "execution_count": 76,
   "metadata": {},
   "outputs": [
    {
     "data": {
      "image/png": "[encoded data removed]",
      "text/plain": [
       "<Figure size 432x288 with 1 Axes>"
      ]
     },
     "metadata": {},
     "output_type": "display_data"
    }
   ],
   "source": [
    "x = ['BR-MultNB','BR-GausNB','BR-SVC','CC-MultNB','LP-MultNB','BP-MLL-ini','BP-MLL-fin']\n",
    "y = [1.92,1.422,0.46,1.5,1.47,0.36,0.35]\n",
    "colors = itertools.cycle(['b', 'g', 'r', 'c', 'm', 'y', 'k'])\n",
    "plt.ylabel('Log-Loss')\n",
    "plt.xlabel('Model-details')\n",
    "plt.xticks(rotation=90)\n",
    "for i in range(len(y)):\n",
    "    plt.bar(x[i], y[i], color=next(colors))\n",
    "plt.show()"
   ]
  },
  {
   "cell_type": "markdown",
   "metadata": {},
   "source": [
    "- While showing among the best problem transformation method models, hamming-loss was considered (this is because for BP-MLL neural network we had to round the final results to get the hamming-loss because of the output being multivalued probabilities)\n",
    "- But while chosing among the best Adaptation Algorithm model, log loss was preferred."
   ]
  },
  {
   "cell_type": "code",
   "execution_count": null,
   "metadata": {},
   "outputs": [],
   "source": []
  }
 ],
 "metadata": {
  "kernelspec": {
   "display_name": "Python 3",
   "language": "python",
   "name": "python3"
  },
  "language_info": {
   "codemirror_mode": {
    "name": "ipython",
    "version": 3
   },
   "file_extension": ".py",
   "mimetype": "text/x-python",
   "name": "python",
   "nbconvert_exporter": "python",
   "pygments_lexer": "ipython3",
   "version": "3.6.4"
  }
 },
 "nbformat": 4,
 "nbformat_minor": 2
}
